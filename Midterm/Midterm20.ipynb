{
 "cells": [
  {
   "cell_type": "markdown",
   "metadata": {},
   "source": [
    "# Midterm (MACS 30150), February 10, 2020 [20 points total]\n",
    "### Ruoyun Tan\n",
    "You will have an hour and fifty minutes to take this exam.\n",
    "1. Put your name in the space provided above (without the brackets).\n",
    "2. Download this notebook and accompanying data `data/hh_inc_synth.txt` and images `images/hist_inc_2.png`.\n",
    "3. The class will disconnect their wi-fi and begin taking the exam.\n",
    "4. The exam is open computer, closed internet, open note.\n",
    "5. Once you are done, you will signal to a TA or instructor to come over and monitor while you reconnect to the internet and upload your edited notebook to Canvas.\n",
    "\n",
    "Remember that you must clearly indicate your answers to all questions below. We will give partial credit for partially correct answers. The midterm is worth 20 points (2 problem sets)."
   ]
  },
  {
   "cell_type": "markdown",
   "metadata": {},
   "source": [
    "# 1. Numerical Integration [10 points total]\n",
    "Assume that the distribution of household income (in U.S. dollars \\\\$) is characterized by the two-parameter gamma (GA) distribution (similar to the log normal distribution). The following is the probability density function (PDF) of the gamma (GA) distribution, which tells you the probability density of variable $x$ for given values of parameters $\\alpha$ and $\\beta$.\n",
    "\n",
    "\\begin{equation*}\n",
    "\\begin{split}\n",
    "&\\text{(GA):}\\quad f(x;\\alpha,\\beta) = \\frac{1}{\\beta^\\alpha \\Gamma(\\alpha)}x^{\\alpha-1}e^{-\\frac{x}{\\beta}}, \\quad x>0, \\:\\alpha,\\beta>0 \\\\\n",
    "&\\quad\\quad \\text{where}\\quad \\Gamma(z)\\equiv\\int_0^\\infty t^{z-1}e^{-t}dt\n",
    "\\end{split}\n",
    "\\end{equation*}\n",
    "\n",
    "Some code for the PDF of the gamma (GA) distribution is the following."
   ]
  },
  {
   "cell_type": "code",
   "execution_count": 61,
   "metadata": {},
   "outputs": [],
   "source": [
    "import numpy as np\n",
    "import scipy.special as spc\n",
    "\n",
    "def GA_pdf(xvals, alpha, beta):\n",
    "    '''\n",
    "    --------------------------------------------------------------------\n",
    "    Returns the PDF values from the two-parameter gamma (GA)\n",
    "    distribution. See McDonald and Xu (1995).\n",
    "\n",
    "    (GA): f(x; alpha, beta) = (1 / ((beta ** alpha) *\n",
    "        spc.gamma(alpha))) * (x ** (alpha - 1)) * (e ** (-x / beta))\n",
    "    x in [0, infty), alpha, beta > 0\n",
    "    --------------------------------------------------------------------\n",
    "    INPUTS:\n",
    "    xvals = (N,) vector, values in the support of gamma distribution\n",
    "    alpha = scalar > 0, gamma distribution parameter\n",
    "    beta  = scalar > 0, gamma distribution parameter\n",
    "\n",
    "    OTHER FUNCTIONS AND FILES CALLED BY THIS FUNCTION:\n",
    "        spc.gamma()\n",
    "\n",
    "    OBJECTS CREATED WITHIN FUNCTION:\n",
    "    pdf_vals = (N,) vector, pdf values from gamma distribution\n",
    "               corresponding to xvals given parameters alpha and beta\n",
    "\n",
    "    FILES CREATED BY THIS FUNCTION: None\n",
    "\n",
    "    RETURNS: pdf_vals\n",
    "    --------------------------------------------------------------------\n",
    "    '''\n",
    "    pdf_vals = \\\n",
    "        np.float64((1 / ((beta ** alpha) * spc.gamma(alpha))) *\n",
    "                   (xvals ** (alpha - 1)) * np.exp(-xvals / beta))\n",
    "\n",
    "    return pdf_vals"
   ]
  },
  {
   "cell_type": "markdown",
   "metadata": {},
   "source": [
    "As a final suggestion for numerical approximations of integrals that use this `GA_pdf()` function, you can integrate this with a `lambda function` in which the `alpha` and `beta` are hard coded. For parts (b) and (c), one approach might be to define a `lambda` function like the following and use that as your input function for the `quad` command in part (c) or any of your Newton-Cotes methods in part (b)."
   ]
  },
  {
   "cell_type": "code",
   "execution_count": 62,
   "metadata": {},
   "outputs": [],
   "source": [
    "GApdf = lambda x: GA_pdf(x, alpha_1a, beta_1a)"
   ]
  },
  {
   "cell_type": "markdown",
   "metadata": {},
   "source": [
    "## 1a) Plot the GA distribution of income [2 points]\n",
    "Assume that the GA distribution coefficient values are $\\alpha=1.23$ and $\\beta=54,649.9$. Use Python to plot the GA PDF of income using 1,000 equally spaced income values between `1e-7` and \\\\$350,000 and using the `GA_pdf()` function above. Make sure your plot has an $x$-axis labeled \"income\" and a $y$-axis labeled \"density\"."
   ]
  },
  {
   "cell_type": "code",
   "execution_count": 6,
   "metadata": {},
   "outputs": [
    {
     "data": {
      "text/plain": [
       "Text(0, 0.5, 'density')"
      ]
     },
     "execution_count": 6,
     "metadata": {},
     "output_type": "execute_result"
    },
    {
     "data": {
      "image/png": "[encoded data removed]",
      "text/plain": [
       "<Figure size 432x288 with 1 Axes>"
      ]
     },
     "metadata": {
      "needs_background": "light"
     },
     "output_type": "display_data"
    }
   ],
   "source": [
    "from matplotlib import pyplot as plt\n",
    "\n",
    "alpha_1a = 1.23\n",
    "beta_1a = 54649.9\n",
    "GApdf = lambda x: GA_pdf(x, alpha_1a, beta_1a)\n",
    "xvals = np.linspace(1e-7, 350000, 1000)\n",
    "probs = GApdf(xvals)\n",
    "\n",
    "plt.plot(xvals, probs, label=\"GA distribution of income\")\n",
    "plt.legend(loc='upper right')\n",
    "plt.title(\"GA distribution of income\", fontsize=10)\n",
    "plt.xlabel('income')\n",
    "plt.ylabel('density')"
   ]
  },
  {
   "cell_type": "markdown",
   "metadata": {},
   "source": [
    "## 1b) Midpoint, trapezoid, and Simpson's rule [5 points]\n",
    "Assuming $\\alpha=1.23$ and $\\beta=54,649.9$ in the gamma (GA) distribution, and using $N=30$ equally spaced bins, approximate the percent of the population with an income less than \\\\$75,000 using the midpoint rule, trapezoid rule, and Simpson's rule. The analytical expression for this percentage is given by the following integral.\n",
    "\n",
    "$$ \\int_0^{75000}f(x|\\alpha,\\beta)dx $$\n",
    "\n",
    "Report your values for this approximated itegral for the midpoint rule, trapezoid rule, and Simpson's rule, respectively."
   ]
  },
  {
   "cell_type": "code",
   "execution_count": 7,
   "metadata": {},
   "outputs": [],
   "source": [
    "def midpoint(g, a, b, N):\n",
    "    bin_width = (b - a) / N\n",
    "    midpoint_int = 0\n",
    "    for i in range(N):\n",
    "        x = a + (2 * i + 1) * (b - a)/ (2 * N)\n",
    "        midpoint_int += g(x) * bin_width\n",
    "    \n",
    "    return midpoint_int\n",
    "\n",
    "def trapezoid(g, a, b, N):\n",
    "    bin_width = (b - a) / N\n",
    "    trapezoid_int = g(a) + g(b)\n",
    "    for i in range(1, N):\n",
    "        xi = a + i  * bin_width\n",
    "        trapezoid_int += 2 * g(xi)\n",
    "    trapezoid_int = trapezoid_int * bin_width / 2 \n",
    "    \n",
    "    return trapezoid_int\n",
    "\n",
    "def simpsons(g, a, b, N):\n",
    "    bin_width = (b - a) / (2 * N)\n",
    "    simpsons_int = g(a) + g(b)\n",
    "    \n",
    "    for i in range(1, 2 * N, 2):\n",
    "        xi = a + bin_width  * i \n",
    "        simpsons_int += g(xi) * 4\n",
    "    for i in range(2, (2 * N - 1), 2):\n",
    "        xi = a + bin_width * i\n",
    "        simpsons_int += g(xi) * 2\n",
    "    \n",
    "    simpsons_int = simpsons_int * bin_width / 3\n",
    "    \n",
    "    return simpsons_int"
   ]
  },
  {
   "cell_type": "code",
   "execution_count": 67,
   "metadata": {},
   "outputs": [
    {
     "name": "stdout",
     "output_type": "stream",
     "text": [
      "The approximated itegral for the midpoint rule is 0.6658937754128379\n",
      "So the percentage calculated with the midpoint rule is 66.5893775412838 %\n",
      "The approximated itegral for the trapezoid rule is 0.6565135570466718\n",
      "So the percentage calculated with the trapezoid rule is 65.65135570466718 %\n",
      "The approximated itegral for the Simpson's rule is 0.6627670359574492\n",
      "So the percentage calculated with the Simpson's rule is 66.27670359574492 %\n"
     ]
    }
   ],
   "source": [
    "alpha_1b = 1.23\n",
    "beta_1b = 54649.9\n",
    "GApdf = lambda x: GA_pdf(x, alpha_1b, beta_1b)\n",
    "N = 30\n",
    "a = 0\n",
    "b = 75000\n",
    "print(\"The approximated itegral for the midpoint rule is\", midpoint(GApdf, a, b, N))\n",
    "print(\"So the percentage calculated with the midpoint rule is\", midpoint(GApdf, a, b, N) * 100, \"%\")\n",
    "print(\"The approximated itegral for the trapezoid rule is\", trapezoid(GApdf, a, b, N))\n",
    "print(\"So the percentage calculated with the trapezoid rule is\", trapezoid(GApdf, a, b, N) * 100, \"%\")\n",
    "print(\"The approximated itegral for the Simpson's rule is\", simpsons(GApdf, a, b, N))\n",
    "print(\"So the percentage calculated with the Simpson's rule is\", simpsons(GApdf, a, b, N) * 100, \"%\")"
   ]
  },
  {
   "cell_type": "markdown",
   "metadata": {},
   "source": [
    "## 1c) Use Gaussian quadrature to approximate the integral [3 points]\n",
    "Use gaussian quadrature using the `scipy.integrate.quad()` command to approximate the percent of the population that earns less than \\\\$75,000 assuming that the population income is distributed according to the gamma (GA) distribution with parameter values $\\alpha=1.23$ and $\\beta=54,649.9$. Report your percentage that you calculated using Gaussian quadrature."
   ]
  },
  {
   "cell_type": "code",
   "execution_count": 11,
   "metadata": {},
   "outputs": [
    {
     "name": "stdout",
     "output_type": "stream",
     "text": [
      "The approximated integral using Python Gaussian quadrature command is 0.6646972256281289\n",
      "So the percentage calculated in this way is 66.46972256281289 %\n"
     ]
    }
   ],
   "source": [
    "import scipy.integrate\n",
    "\n",
    "print(\"The approximated integral using Python Gaussian quadrature command is\", scipy.integrate.quad(GApdf, a, b)[0])\n",
    "print(\"So the percentage calculated in this way is\", scipy.integrate.quad(GApdf, a, b)[0] * 100, \"%\")"
   ]
  },
  {
   "cell_type": "markdown",
   "metadata": {},
   "source": [
    "We can see that the approximated values for the three rules above are quite close to the value approximated by using Gaussian quadrature."
   ]
  },
  {
   "cell_type": "markdown",
   "metadata": {},
   "source": [
    "# 2. Generalized method of moments estimation [10 points total]\n",
    "Suppose that your friend at the Bureau of Labor Statistics told you the following four moments (statistics) of the U.S. household income distribution in the third column of the table.\n",
    "\n",
    "| Income range | Number of households |Percent of population |\n",
    "| :--- | ---: | :---: |\n",
    "| Less than \\\\$10,000 | 9,233 | 7.6\\% |\n",
    "| \\\\$10,000 to \\\\$100,000 | 86,431 | 71.4\\% |\n",
    "| \\\\$100,000 to \\\\$160,000 | 16,347 | 13.5\\% |\n",
    "| Greater than \\\\$160,000 | 9,074 | 7.5\\% |\n",
    "\n",
    "Assume that these incomes are generated by the lognormal distribution, specified by the following probability density function (PDF).\n",
    "\n",
    "\\begin{equation*}\n",
    "\\begin{split}\n",
    "&(LN) \\quad f(x|\\mu,\\sigma) = \\frac{1}{x\\sigma\\sqrt{2\\pi}}e^{-\\frac{[\\ln(x)] - \\mu]^2}{2\\sigma^2}} \\\\\n",
    "&\\quad\\quad\\quad\\text{for}\\quad x>0, \\quad -\\infty<\\mu<\\infty, \\quad\\text{and}\\quad \\sigma>0\n",
    "\\end{split}\n",
    "\\end{equation*}"
   ]
  },
  {
   "cell_type": "markdown",
   "metadata": {},
   "source": [
    "One could plot a histogram of the information in the table above using the following code that imports the original data `hh_inc_synth.txt` from which the histogram was generated. (NOTE that you will not need to use the original data except for plotting fitted distributions over this histogram using the exact code below.)"
   ]
  },
  {
   "cell_type": "code",
   "execution_count": 12,
   "metadata": {},
   "outputs": [
    {
     "data": {
      "text/plain": [
       "Text(0, 0.5, 'Density (area sums to 1)')"
      ]
     },
     "execution_count": 12,
     "metadata": {},
     "output_type": "execute_result"
    },
    {
     "data": {
      "image/png": "[encoded data removed]",
      "text/plain": [
       "<Figure size 432x288 with 1 Axes>"
      ]
     },
     "metadata": {
      "needs_background": "light"
     },
     "output_type": "display_data"
    }
   ],
   "source": [
    "import numpy as np\n",
    "import matplotlib.pyplot as plt\n",
    "\n",
    "hh_inc_synth = np.loadtxt('data/hh_inc_synth.txt')\n",
    "\n",
    "bin_bound_list = [0, 10000, 100000, 160000, 350000]\n",
    "bin_widths = np.array([10000, 90000, 60000, 190000])\n",
    "N = len(hh_inc_synth)\n",
    "weight_inc = np.zeros(N)\n",
    "in_bin_1 = hh_inc_synth <= 10000\n",
    "in_bin_2 = (hh_inc_synth > 10000) * (hh_inc_synth <= 100000)\n",
    "in_bin_3 = (hh_inc_synth > 100000) * (hh_inc_synth <= 160000)\n",
    "in_bin_4 = hh_inc_synth > 160000\n",
    "weight_inc[in_bin_1] = 1 / (N * 10000)\n",
    "weight_inc[in_bin_2] = 1 / (N * 90000)\n",
    "weight_inc[in_bin_3] = 1 / (N * 60000)\n",
    "weight_inc[in_bin_4] = 1 / (N * 190000)\n",
    "\n",
    "n, bin_cuts, patches = \\\n",
    "    plt.hist(hh_inc_synth, bin_bound_list, edgecolor='black',\n",
    "             weights=weight_inc, label='data histogram')\n",
    "plt.title(r'Histogram of household income: $N=121,085$',\n",
    "          fontsize=13)\n",
    "plt.xticks(np.array([0, 10000, 100000, 160000, 350000]),\n",
    "           ('$0', '$10', '$100', '$160', '$350'))\n",
    "plt.xlabel(r'Household income (\\$000)')\n",
    "plt.ylabel(r'Density (area sums to 1)')"
   ]
  },
  {
   "cell_type": "markdown",
   "metadata": {},
   "source": [
    "Some python code for the PDF of the lognormal distribution is the following."
   ]
  },
  {
   "cell_type": "code",
   "execution_count": 13,
   "metadata": {},
   "outputs": [],
   "source": [
    "def LN_pdf(xvals, mu, sigma):\n",
    "    '''\n",
    "    --------------------------------------------------------------------\n",
    "    This function gives the PDF of the lognormal distribution for xvals\n",
    "    given mu and sigma\n",
    "\n",
    "    (LN): f(x; mu, sigma) = (1 / (x * sigma * sqrt(2 * pi))) *\n",
    "            exp((-1 / 2) * (((log(x) - mu) / sigma) ** 2))\n",
    "            x in [0, infty), mu in (-infty, infty), sigma > 0\n",
    "    --------------------------------------------------------------------\n",
    "    INPUTS:\n",
    "    xvals = (N,) vector, data\n",
    "    mu    = scalar, mean of the ln(x)\n",
    "    sigma = scalar > 0, standard deviation of ln(x)\n",
    "\n",
    "    OTHER FUNCTIONS AND FILES CALLED BY THIS FUNCTION: None\n",
    "\n",
    "    OBJECTS CREATED WITHIN FUNCTION:\n",
    "    pdf_vals        = (N,) vector, probability of each observation given\n",
    "                      the parameter values\n",
    "\n",
    "    FILES CREATED BY THIS FUNCTION: None\n",
    "\n",
    "    RETURNS: pdf_vals\n",
    "    --------------------------------------------------------------------\n",
    "    '''\n",
    "    pdf_vals = np.float64(((1 / (np.sqrt(2 * np.pi) * sigma * xvals)) *\n",
    "                          np.exp((-1.0 / 2.0) *\n",
    "                          (((np.log(xvals) - mu) / sigma) ** 2))))\n",
    "\n",
    "    return pdf_vals"
   ]
  },
  {
   "cell_type": "markdown",
   "metadata": {},
   "source": [
    "The following will help you to calculate your model moments. Using numerical integration of the PDF of the log normal distribution in your GMM minimization problem takes too long. The following method uses the cummulative distribution function (CDF). For a given $\\mu$ and $\\sigma$ of the log normal distribution, you can calculate the percent of a distribution between a lower bound `LB` and upper bound `UB` of income using the following code."
   ]
  },
  {
   "cell_type": "code",
   "execution_count": null,
   "metadata": {},
   "outputs": [],
   "source": [
    "import scipy.stats as sts\n",
    "\n",
    "pct_LBtoUB = (sts.lognorm.cdf(UB, s=sigma, scale=np.exp(mu)) -\n",
    "              sts.lognorm.cdf(LB, s=sigma, scale=np.exp(mu)))"
   ]
  },
  {
   "cell_type": "markdown",
   "metadata": {},
   "source": [
    "## 2a) Plot a log normal distribution with the histogram (2 points)\n",
    "Plot a log normal distribution with mean $\\mu=11.5$ and $\\sigma=0.9$ using the `LN_pdf()` code for the lognorm PDF above. Plot the log normal distribution over the histogram using the histogram code above. Make sure to use the same `x`-axis and `y`-axis labels as in the histogram plot above. Make sure to put a legend in the upper-right corner."
   ]
  },
  {
   "cell_type": "code",
   "execution_count": 69,
   "metadata": {},
   "outputs": [
    {
     "name": "stderr",
     "output_type": "stream",
     "text": [
      "/Users/ruoyuntan/opt/anaconda3/lib/python3.7/site-packages/ipykernel_launcher.py:27: RuntimeWarning: divide by zero encountered in true_divide\n",
      "/Users/ruoyuntan/opt/anaconda3/lib/python3.7/site-packages/ipykernel_launcher.py:29: RuntimeWarning: divide by zero encountered in log\n",
      "/Users/ruoyuntan/opt/anaconda3/lib/python3.7/site-packages/ipykernel_launcher.py:29: RuntimeWarning: invalid value encountered in multiply\n"
     ]
    },
    {
     "data": {
      "text/plain": [
       "Text(0, 0.5, 'Density (area sums to 1)')"
      ]
     },
     "execution_count": 69,
     "metadata": {},
     "output_type": "execute_result"
    },
    {
     "data": {
      "image/png": "[encoded data removed]",
      "text/plain": [
       "<Figure size 432x288 with 1 Axes>"
      ]
     },
     "metadata": {
      "needs_background": "light"
     },
     "output_type": "display_data"
    }
   ],
   "source": [
    "mu = 11.5\n",
    "sigma = 0.9\n",
    "xvals = np.linspace(0, 350000, 1000000)\n",
    "probs = LN_pdf(xvals, mu, sigma)\n",
    "plt.plot(xvals, probs, label='Log normal distribution with $\\mu = 11.5, \\sigma = 0.9$')\n",
    "n, bin_cuts, patches = \\\n",
    "    plt.hist(hh_inc_synth, bin_bound_list, edgecolor='black',\n",
    "             weights=weight_inc, label='data histogram')\n",
    "plt.legend(loc='upper right', fontsize=8)\n",
    "plt.title(r'Distribution of household income: $N=121,085$',\n",
    "          fontsize=13)\n",
    "plt.xticks(np.array([0, 10000, 100000, 160000, 350000]),\n",
    "           ('$0', '$10', '$100', '$160', '$350'))\n",
    "plt.xlabel(r'Household income (\\$000)')\n",
    "plt.ylabel(r'Density (area sums to 1)')"
   ]
  },
  {
   "cell_type": "markdown",
   "metadata": {},
   "source": [
    "## 2b) GMM estimation with identity weighting matrix (5 points)\n",
    "Using the four moments in the table above fit the log normal distribution to the income data using GMM and the identity matix for the optimal weighting matrix. More specifically, estimate $\\mu$ and $\\sigma$ from the log normal distribution to match the percentage moments in the third column of the table above with the income bin cutoffs listed in the first column of the table above. Report your estimates $\\mu_{GMM1}$ and $\\sigma_{GMM1}$, criterion function value, data moments, and model moments at your estimated parameter values. Plot your estimated log normal distribution on top of the histogram of the data given in the code above. [**HINT:** Use the log normal CDF approach described above to calculate your model moments. Using numerical integrals will take too long.]"
   ]
  },
  {
   "cell_type": "code",
   "execution_count": 70,
   "metadata": {},
   "outputs": [],
   "source": [
    "import scipy.stats as sts\n",
    "\n",
    "\n",
    "def data_moments(xvals):\n",
    "    data_percent1 = xvals[xvals < 10000].shape[0] / xvals.shape[0]\n",
    "    data_percent2 = (xvals[(xvals >= 10000) & (xvals < 100000)].shape[0] / xvals.shape[0])\n",
    "    data_percent3 = (xvals[(xvals >= 100000) & (xvals < 160000)].shape[0] / xvals.shape[0])\n",
    "    data_percent4 = (xvals[xvals >= 160000].shape[0] / xvals.shape[0])\n",
    "\n",
    "    return data_percent1, data_percent2, data_percent3, data_percent4\n",
    "\n",
    "\n",
    "def model_moments(mu, sigma):\n",
    "    model_percent1 = sts.lognorm.cdf(10000, s=sigma, scale=np.exp(mu))\n",
    "    model_percent2 = (sts.lognorm.cdf(100000, s=sigma, scale=np.exp(mu)) -\n",
    "              sts.lognorm.cdf(10000, s=sigma, scale=np.exp(mu)))\n",
    "    model_percent3 = (sts.lognorm.cdf(160000, s=sigma, scale=np.exp(mu)) -\n",
    "              sts.lognorm.cdf(100000, s=sigma, scale=np.exp(mu)))\n",
    "    model_percent4 = 1 - sts.lognorm.cdf(160000, s=sigma, scale=np.exp(mu))\n",
    "    \n",
    "    return model_percent1, model_percent2, model_percent3, model_percent4\n",
    "\n",
    "\n",
    "def err_vec(xvals, mu, sigma, simple):\n",
    "    data_percent1, data_percent2, data_percent3, data_percent4 = data_moments(xvals)\n",
    "    data_mts = np.array([[data_percent1], [data_percent2], [data_percent3], [data_percent4]])\n",
    "    model_percent1, model_percent2, model_percent3, model_percent4 = model_moments(mu, sigma)\n",
    "    model_mts = np.array([[model_percent1], [model_percent2], [model_percent3], [model_percent4]])\n",
    "    if simple:\n",
    "        err_vec = model_mts - data_mts \n",
    "    else:\n",
    "        err_vec = (model_mts - data_mts) / data_mts\n",
    "    \n",
    "    return err_vec\n",
    "\n",
    "\n",
    "def criterion(params, *args):\n",
    "    mu, sigma = params\n",
    "    xvals, W = args\n",
    "    err = err_vec(xvals, mu, sigma, simple=False)\n",
    "    crit_val = err.T @ W @ err \n",
    "    \n",
    "    return crit_val"
   ]
  },
  {
   "cell_type": "code",
   "execution_count": 75,
   "metadata": {},
   "outputs": [
    {
     "name": "stdout",
     "output_type": "stream",
     "text": [
      "mu_GMM1 = 10.622661631093175  sig_GMM1 = 0.9706306559006918\n",
      "The value of GMM criterion function at the estimated parameter values: [[0.0810807]]\n",
      "The model moments are: Less than $10000 = 0.07282697934948604 , Between $10000 and $100000 = 0.7476544740748076 , Between $100000 and $160000 = 0.09897525116330241 , More than $160000 = 0.08054329541240401\n",
      "The data moments are: Less than $10000 = 0.07625221951521659 , Between $10000 and $100000 = 0.7138043523144898 , Between $100000 and $160000 = 0.13500433579716728 , More than $160000 = 0.07493909237312632\n"
     ]
    }
   ],
   "source": [
    "import scipy.optimize as opt\n",
    "\n",
    "mu_init = 11.5\n",
    "sig_init = 0.9\n",
    "params_init = np.array([mu_init, sig_init])\n",
    "W_hat = np.eye(4)\n",
    "gmm_args = (hh_inc_synth, W_hat)\n",
    "results = opt.minimize(criterion, params_init, args=(gmm_args), tol=1e-14, method='L-BFGS-B', bounds=((1e-18, None), (1e-18, None)))\n",
    "mu_GMM, sig_GMM = results.x\n",
    "\n",
    "print('mu_GMM1 =', mu_GMM, ' sig_GMM1 =', sig_GMM)\n",
    "print(\"The value of GMM criterion function at the estimated parameter values:\", results.fun)\n",
    "\n",
    "model_percent1, model_percent2, model_percent3, model_percent4 = model_moments(mu_GMM, sig_GMM)\n",
    "data_percent1, data_percent2, data_percent3, data_percent4 = data_moments(hh_inc_synth)\n",
    "print(\"The model moments are: Less than $10000 =\", model_percent1, \", Between $10000 and $100000 =\", model_percent2, \", Between $100000 and $160000 =\", model_percent3, \", More than $160000 =\", model_percent4)\n",
    "print(\"The data moments are: Less than $10000 =\", data_percent1, \", Between $10000 and $100000 =\", data_percent2, \", Between $100000 and $160000 =\", data_percent3, \", More than $160000 =\", data_percent4)"
   ]
  },
  {
   "cell_type": "markdown",
   "metadata": {},
   "source": [
    "The data moments match with the percentage in the table above.\n",
    "\n",
    "The model moments and the data moments are close."
   ]
  },
  {
   "cell_type": "code",
   "execution_count": 76,
   "metadata": {},
   "outputs": [
    {
     "name": "stderr",
     "output_type": "stream",
     "text": [
      "/Users/ruoyuntan/opt/anaconda3/lib/python3.7/site-packages/ipykernel_launcher.py:27: RuntimeWarning: divide by zero encountered in true_divide\n",
      "/Users/ruoyuntan/opt/anaconda3/lib/python3.7/site-packages/ipykernel_launcher.py:29: RuntimeWarning: divide by zero encountered in log\n",
      "/Users/ruoyuntan/opt/anaconda3/lib/python3.7/site-packages/ipykernel_launcher.py:29: RuntimeWarning: invalid value encountered in multiply\n"
     ]
    },
    {
     "data": {
      "text/plain": [
       "Text(0, 0.5, 'Density (area sums to 1)')"
      ]
     },
     "execution_count": 76,
     "metadata": {},
     "output_type": "execute_result"
    },
    {
     "data": {
      "image/png": "[encoded data removed]",
      "text/plain": [
       "<Figure size 432x288 with 1 Axes>"
      ]
     },
     "metadata": {
      "needs_background": "light"
     },
     "output_type": "display_data"
    }
   ],
   "source": [
    "xvals = np.linspace(0, 350000, 1000000)\n",
    "probs = LN_pdf(xvals, mu_GMM, sig_GMM)\n",
    "plt.plot(xvals, probs, label='Log normal distribution with GMM estimates using identity matrix')\n",
    "n, bin_cuts, patches = \\\n",
    "    plt.hist(hh_inc_synth, bin_bound_list, edgecolor='black',\n",
    "             weights=weight_inc, label='data histogram')\n",
    "plt.legend(loc='upper right', fontsize=7.5)\n",
    "plt.title(r'Distribution of household income: $N=121,085$',\n",
    "          fontsize=13)\n",
    "plt.xticks(np.array([0, 10000, 100000, 160000, 350000]),\n",
    "           ('$0', '$10', '$100', '$160', '$350'))\n",
    "plt.xlabel(r'Household income (\\$000)')\n",
    "plt.ylabel(r'Density (area sums to 1)')"
   ]
  },
  {
   "cell_type": "markdown",
   "metadata": {},
   "source": [
    "## 2c) GMM estimation with two-step optimal weighting matrix (3 points)\n",
    "Using the four moments in the table above fit the log normal distribution to the income data using GMM and the two-step optimal weighting matrix. More specifically, estimate $\\mu$ and $\\sigma$ from the log normal distribution to match the percentage moments in the third column of the table above with the income bin cutoffs listed in the first column of the table above. Report your estimates $\\mu_{GMM2}$ and $\\sigma_{GMM2}$, criterion function value, data moments, and model moments at your estimated parameter values. Plot your estimated log normal distribution on top of the histogram of the data given in the code above. [**HINT:** Use the log normal CDF approach described above to calculate your model moments. Using numerical integrals will take too long.]"
   ]
  },
  {
   "cell_type": "code",
   "execution_count": 31,
   "metadata": {},
   "outputs": [],
   "source": [
    "def get_Err_mat(xvals, mu, sigma, simple):\n",
    "    R = 4\n",
    "    N = len(xvals)\n",
    "    Err_mat = np.zeros((R, N))\n",
    "    model_percent1, model_percent2, model_percent3, model_percent4 = model_moments(mu, sigma)\n",
    "    if simple:\n",
    "        xvals_in_grp1 = (xvals < 10000)\n",
    "        Err_mat[0, :] = xvals_in_grp1 - model_percent1\n",
    "        xvals_in_grp2 = (xvals >= 10000) & (xvals < 100000)\n",
    "        Err_mat[1, :] = xvals_in_grp2 - model_percent2\n",
    "        xvals_in_grp3 = (xvals >= 100000) & (xvals < 160000)\n",
    "        Err_mat[2, :] = xvals_in_grp3 - model_percent3\n",
    "        xvals_in_grp4 = (xvals >= 160000)\n",
    "        Err_mat[3, :] = xvals_in_grp4 - model_percent4\n",
    "    else:\n",
    "        xvals_in_grp1 = (xvals < 10000)\n",
    "        Err_mat[0, :] = (xvals_in_grp1 - model_percent1) / model_percent1\n",
    "        xvals_in_grp2 = (xvals >= 10000) & (xvals < 100000)\n",
    "        Err_mat[1, :] = (xvals_in_grp2 - model_percent2) / model_percent2\n",
    "        xvals_in_grp3 = (xvals >= 100000) & (xvals < 160000)\n",
    "        Err_mat[2, :] = (xvals_in_grp3 - model_percent3) / model_percent3\n",
    "        xvals_in_grp4 = (xvals >= 160000)\n",
    "        Err_mat[3, :] = (xvals_in_grp4 - model_percent4) / model_percent4\n",
    "    \n",
    "    return Err_mat"
   ]
  },
  {
   "cell_type": "code",
   "execution_count": 35,
   "metadata": {},
   "outputs": [
    {
     "name": "stdout",
     "output_type": "stream",
     "text": [
      "[[7.08733883e+12 7.27598557e+13 9.63202291e+12 7.83827132e+12]\n",
      " [7.27598557e+13 7.46965361e+14 9.88840261e+13 8.04690597e+13]\n",
      " [9.63202291e+12 9.88840261e+13 1.30903669e+13 1.06525751e+13]\n",
      " [7.83827132e+12 8.04690597e+13 1.06525751e+13 8.66876819e+12]]\n"
     ]
    }
   ],
   "source": [
    "import numpy.linalg as lin\n",
    "\n",
    "Err_mat = get_Err_mat(hh_inc_synth, mu_GMM, sig_GMM, simple=False)\n",
    "VCV = (1 / hh_inc_synth.shape[0]) * (Err_mat @ Err_mat.T)\n",
    "W = lin.inv(VCV)\n",
    "print(W)"
   ]
  },
  {
   "cell_type": "code",
   "execution_count": 37,
   "metadata": {},
   "outputs": [
    {
     "name": "stdout",
     "output_type": "stream",
     "text": [
      "mu_GMM2= 11.077899968835615  sig_GMM2= 0.8732392013437974\n",
      "The value of the GMM criterion function at the estimated parameter values: [[0.13470113]]\n"
     ]
    }
   ],
   "source": [
    "params_init = np.array([mu_GMM, sig_GMM])\n",
    "gmm_args = (hh_inc_synth, W)\n",
    "results2 = opt.minimize(criterion, params_init, args=(gmm_args),\n",
    "                       method='L-BFGS-B', bounds=((1e-10, None), (1e-10, None)))\n",
    "mu_GMM2, sig_GMM2 = results2.x\n",
    "print('mu_GMM2=', mu_GMM2, ' sig_GMM2=', sig_GMM2)\n",
    "print(\"The value of the GMM criterion function at the estimated parameter values:\", results2.fun)"
   ]
  },
  {
   "cell_type": "code",
   "execution_count": 38,
   "metadata": {},
   "outputs": [
    {
     "name": "stdout",
     "output_type": "stream",
     "text": [
      "The model moments are: Less than $10000 = 0.016231707122158028 , Between $10000 and $100000 = 0.674587763283087 , Between $100000 and $160000 = 0.15917381702685196 , More than $160000 = 0.150006712567903\n",
      "The data moments are: Less than $10000 = 0.07625221951521659 , Between $10000 and $100000 = 0.7138043523144898 , Between $100000 and $160000 = 0.13500433579716728 , More than $160000 = 0.07493909237312632\n"
     ]
    }
   ],
   "source": [
    "model_percent1, model_percent2, model_percent3, model_percent4 = model_moments(mu_GMM2, sig_GMM2)\n",
    "data_percent1, data_percent2, data_percent3, data_percent4 = data_moments(hh_inc_synth)\n",
    "print(\"The model moments are: Less than $10000 =\", model_percent1, \", Between $10000 and $100000 =\", model_percent2, \", Between $100000 and $160000 =\", model_percent3, \", More than $160000 =\", model_percent4)\n",
    "print(\"The data moments are: Less than $10000 =\", data_percent1, \", Between $10000 and $100000 =\", data_percent2, \", Between $100000 and $160000 =\", data_percent3, \", More than $160000 =\", data_percent4)"
   ]
  },
  {
   "cell_type": "code",
   "execution_count": 60,
   "metadata": {},
   "outputs": [
    {
     "name": "stderr",
     "output_type": "stream",
     "text": [
      "/Users/ruoyuntan/opt/anaconda3/lib/python3.7/site-packages/ipykernel_launcher.py:27: RuntimeWarning: divide by zero encountered in true_divide\n",
      "/Users/ruoyuntan/opt/anaconda3/lib/python3.7/site-packages/ipykernel_launcher.py:29: RuntimeWarning: divide by zero encountered in log\n",
      "/Users/ruoyuntan/opt/anaconda3/lib/python3.7/site-packages/ipykernel_launcher.py:29: RuntimeWarning: invalid value encountered in multiply\n"
     ]
    },
    {
     "data": {
      "text/plain": [
       "Text(0, 0.5, 'Density (area sums to 1)')"
      ]
     },
     "execution_count": 60,
     "metadata": {},
     "output_type": "execute_result"
    },
    {
     "data": {
      "image/png": "[encoded data removed]",
      "text/plain": [
       "<Figure size 432x288 with 1 Axes>"
      ]
     },
     "metadata": {
      "needs_background": "light"
     },
     "output_type": "display_data"
    }
   ],
   "source": [
    "xvals = np.linspace(0, 350000, 10000)\n",
    "probs = LN_pdf(xvals, mu_GMM2, sig_GMM2)\n",
    "plt.plot(xvals, probs, label='Log normal distribution with GMM estimates')\n",
    "n, bin_cuts, patches = \\\n",
    "    plt.hist(hh_inc_synth, bin_bound_list, edgecolor='black',\n",
    "             weights=weight_inc, label='data histogram')\n",
    "plt.legend(loc='upper right', fontsize=8)\n",
    "plt.title(r'Distribution of household income: $N=121,085$',\n",
    "          fontsize=13)\n",
    "plt.xticks(np.array([0, 10000, 100000, 160000, 350000]),\n",
    "           ('$0', '$10', '$100', '$160', '$350'))\n",
    "plt.xlabel(r'Household income (\\$000)')\n",
    "plt.ylabel(r'Density (area sums to 1)')"
   ]
  },
  {
   "cell_type": "code",
   "execution_count": null,
   "metadata": {},
   "outputs": [],
   "source": []
  }
 ],
 "metadata": {
  "kernelspec": {
   "display_name": "Python 3",
   "language": "python",
   "name": "python3"
  },
  "language_info": {
   "codemirror_mode": {
    "name": "ipython",
    "version": 3
   },
   "file_extension": ".py",
   "mimetype": "text/x-python",
   "name": "python",
   "nbconvert_exporter": "python",
   "pygments_lexer": "ipython3",
   "version": "3.7.4"
  }
 },
 "nbformat": 4,
 "nbformat_minor": 2
}

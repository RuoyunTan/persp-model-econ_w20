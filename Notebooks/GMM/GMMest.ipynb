{
 "cells": [
  {
   "cell_type": "markdown",
   "metadata": {},
   "source": [
    "# Generalized Method of Moments (GMM) Estimation\n",
<<<<<<< HEAD
    "### by [Richard W. Evans](https://sites.google.com/site/rickecon/), January 2020\n",
    "The code in this Jupyter notebook was written using Python 3.6. It also uses data file `Econ381totpts.txt` and the image file `MLEplots.png`. This data file and image file are stored along with the Jupyter notebook file `GMMest.ipynb` in the public GitHub repository [https://github.com/rickecon/Notebooks/tree/master/GMM](https://github.com/rickecon/Notebooks/tree/master/GMM).\n",
=======
    "### by [Richard W. Evans](https://sites.google.com/site/rickecon/), February 2020\n",
    "The code in this Jupyter notebook was written using Python 3.7. It also uses data file `Econ381totpts.txt` and the image file `MLEplots.png`. This data file and image file are stored along with the Jupyter notebook file `GMMest.ipynb` in the public GitHub repository [https://github.com/rickecon/Notebooks/tree/master/GMM](https://github.com/rickecon/Notebooks/tree/master/GMM).\n",
>>>>>>> 0d057cc151a76827728bbfb56c492d7180c75426
    "\n",
    "For teaching and learning purposes, it is best to clear all cell output by selecting `Cell` then `All Output` then `Clear` from the menu across the top of this notebook. However, this notebook comes with all the cells' output displayed."
   ]
  },
  {
   "cell_type": "markdown",
   "metadata": {},
   "source": [
    "## 1. MLE vs. GMM: Strengths and weaknesses"
   ]
  },
  {
   "cell_type": "markdown",
   "metadata": {},
   "source": [
    "### 1.1. Fuhrer, Moore, and Shuh (1995) paper\n",
    "A paper by Fuhrer, et al (1995) studies the accuracy and efficiency of the maximum likelihood (ML) estimator versus the generalized method of moments (GMM) estimator in the context of a simple linear-quadratic inventory model. They find that ML has some very nice properties over GMM in small samples when the model is simple. In the spirit of the Fuhrer, et al (1995) paper, we list the strengths and weaknesses of MLE vs. GMM more generally. I recommend you read the introduction to Fuhrer, et al (1995). Big support for maximum likelihood estimation over generalized method of moments.\n",
    "* GMM rejects the model (Hansen J-test)\n",
    "* MLE supports the model\n",
    "* \"Monte Carlo experiments reveal that the GMM estimates are often biased (apparently due to poor instruments), statistically insignificant, economically implausible, and dynamically unstable.\"\n",
    "* \"The ML estimates are generally unbiased (even in misspecifipd models), statistically significant, economically plausible, and dynamically stable.\"\n",
    "* \"Asymptotic standard errors for ML are 3 to 15 times sma!ler than for GMM.\""
   ]
  },
  {
   "cell_type": "markdown",
   "metadata": {},
   "source": [
    "### 1.2. MLE strengths\n",
    "* More statistical significance. In general, MLE provides more statistical significance for parameter estimates than does GMM. This comes from the strong distributional assumptions that are necessary for the ML estimates.\n",
    "* ML estimates are less sensitive to parameter or model normalizations than are GMM estimates.\n",
    "* ML estimates have nice small sample properties. ML estimates have less bias and more efficiency with small data samples than GMM estimates in many cases."
   ]
  },
  {
   "cell_type": "markdown",
   "metadata": {},
   "source": [
    "### 1.3. MLE weaknesses\n",
    "* MLE requires strong distributional assumptions. For MLE, the data generating process (DGP) must be completely specified. This assumes a lot of knowledge about the DGP. This assumption is likely almost always wrong.\n",
    "* MLE is very difficult in rational expectations models. This is because the consistency of beliefs induces a nonlinearity in the likelihood function that makes it difficult to find the global optimum.\n",
    "* MLE is very difficult in nonlinear models. The likelihood function can become highly nonlinear in MLE even if the model is linear when the data are irregular. This difficulty is multiplied when the model itself is more complicated and nonlinear."
   ]
  },
  {
   "cell_type": "markdown",
   "metadata": {},
   "source": [
    "### 1.4. GMM strengths\n",
    "* GMM allows for most flexible identification. GMM estimates can be identified by any set of moments from the data as long as you have at least as many moments as you have parameters to estimate and that those moments are independent enough to identify the parameters. (And the parameters are independent enough of each other to be separately identified.)\n",
    "* Good large sample properties. The GMM estimator is strongly consistent and asymptotically normal. GMM will likely be the best estimator if you have a lot of data.\n",
    "* GMM requires minimal assumptions about the DGP. In GMM, you need not specify the distributions of the error terms in your model of the DGP. This is often a strength, given that most error are not observed and most models are gross approximations of the true DGP."
   ]
  },
  {
   "cell_type": "markdown",
   "metadata": {},
   "source": [
    "### 1.5. GMM weaknesses\n",
    "* GMM estimates are usually less statistically significant than ML estimates. This comes from the minimal distributional assumptions. GMM parameter estimates usually are measured with more error.\n",
    "* GMM estimates can be sensitive to normalizations of the model or parameters.\n",
    "* GMM estimates have bad small sample properties. GMM estimates can have large bias and inefficiency in small samples."
   ]
  },
  {
   "cell_type": "markdown",
   "metadata": {},
   "source": [
    "### 1.6. Key questions to answer when deciding between MLE and GMM\n",
    "1. How much data is available for the estimation? Large data samples will make GMM relatively more attractive than MLE because of the nice large sample properties of GMM and fewer required assumptions on the model\n",
    "2. How complex is the model? Linear models or quadratic models are much easier to do using MLE than are more highly nonlinear models. Rational expectations models (macroeconomics) create an even more difficult level of nonlinearity that pushes you toward GMM estimation.\n",
    "3. How comfortable are you making strong distributional assumptions? MLE requires a complete specification of all distributional assumptions of the model DGP. If you think these assumptions are too strong, you should use GMM."
   ]
  },
  {
   "cell_type": "markdown",
   "metadata": {},
   "source": [
    "## 2. The GMM estimator\n",
    "GMM was first formalized by Hansen (1982). A strength of GMM estimation is that the econometrician can remain completely agnostic as to the distribution of the random variables in the DGP. For identification, the econometrician simply needs at least as many moment conditions from the data as he has parameters to estimate.\n",
    "\n",
    "A *moment* of the data is broadly defined as any statistic that summarizes the data to some degree. A data moment could be as narrow as an individual observation from the data or as broad as the sample average. GMM estimates the parameters of a model or data generating process to make the model moments as close as possible to the corresponding data moments. See Davidson and MacKinnon (2004, ch. 9) for a more detailed treatment of GMM. The estimation methods of linear least squares, nonlinear least squares, generalized least squares, and instrumental variables estimation are all specific cases of the more general GMM estimation method.\n",
    "\n",
    "Let $m(x)$ be an $R\\times 1$ vector of moments from the real world data $x$. And let $x$ be an $N\\times K$ matrix of data with $K$ columns representing $K$ variables and $N$ observations. Let the model DGP be characterized as $F(x,\\theta)$, where $F$ is a vector of equations, each of which is a function of the data $x$ and the $K\\times 1$ parameter vector $\\theta$. Then define $m(x|\\theta)$ as a vector of $R$ moments from the model that correspond to the real-world moment vector $m(x)$. Note that GMM requires both real world data $x$ and deterministic moments from the model $m(x|\\theta)$ in order to estimate $\\hat{\\theta}_{GMM}$. There is also a stochastic way to generate moments from the model, which we discuss later in our section on Simulated Method of Moments (SMM).\n",
    "\n",
<<<<<<< HEAD
    "The GMM approach of estimating the parameter vector $\\hat{\\theta}_{GMM}$ is to choose $\\theta$ to minimize some distance measure of the data moments $m(x)$ from the model moments $m(x|\\theta)$.\n",
    "\n",
    "$$ \\hat{\\theta}_{GMM}=\\theta:\\quad \\min_{\\theta}\\: ||m(x) - m(x|\\theta)|| $$\n",
    "\n",
    "The distance measure $||m(x)-m(x|\\theta)||$ can be any kind of norm. But it is important to recognize that your estimates $\\hat{\\theta}_{GMM}$ will be dependent on what distance measure (norm) you choose. The most widely studied and used distance metric in GMM estimation is the $L^2$ norm or the sum of squared errors in moments. Define the moment error function $e(x|\\theta)$ as either the percent difference in the vector of model moments from the data moments or the simple difference.\n",
    "\n",
    "$$ e(x|\\theta) \\equiv \\frac{m(x) - m(x|\\theta)}{m(x|\\theta)} \\quad\\text{or}\\quad m(x)-m(x|\\theta) $$\n",
=======
    "The GMM approach of estimating the parameter vector $\\hat{\\theta}_{GMM}$ is to choose $\\theta$ to minimize some distance measure of the model moments $m(x|\\theta)$ from the data moments $m(x)$.\n",
    "\n",
    "$$ \\hat{\\theta}_{GMM}=\\theta:\\quad \\min_{\\theta}\\: ||m(x|\\theta) - m(x)|| $$\n",
    "\n",
    "The distance measure $||m(x|\\theta) - m(x)||$ can be any kind of norm. But it is important to recognize that your estimates $\\hat{\\theta}_{GMM}$ will be dependent on what distance measure (norm) you choose. The most widely studied and used distance metric in GMM estimation is the $L^2$ norm or the sum of squared errors in moments. Define the moment error function $e(x|\\theta)$ as either the percent difference in the vector of model moments from the data moments or the simple difference.\n",
    "\n",
    "$$ e(x|\\theta) \\equiv \\frac{m(x|\\theta) - m(x)}{m(x)} \\quad\\text{or}\\quad m(x|\\theta) - m(x)$$\n",
>>>>>>> 0d057cc151a76827728bbfb56c492d7180c75426
    "\n",
    "It is important when possible that the error function $e(x|\\theta)$ be a percent deviation of the moments (given that none of the data moments are 0). This puts all the moments in the same units, which helps make sure that no moments receive unintended weighting simply due to its units. This ensures that the problem is scaled properly and does not suffer from ill conditioning. However, percent deviations become computationally problematic when the data moments are zero or close to zero. In that case, you would use a simple difference.\n",
    "\n",
    "The GMM estimator is the following,\n",
    "\n",
    "$$ \\hat{\\theta}_{GMM}=\\theta:\\quad \\min_{\\theta}\\:e(x|\\theta)^T \\, W \\, e(x|\\theta) $$\n",
    "\n",
    "where $W$ is a $R\\times R$ weighting matrix in the criterion function. For now, think of this weighting matrix as the identity matrix. But we will show in Section 3 a more optimal weighting matrix. We call the quadratic form expression $e(x|\\theta)^T \\, W \\, e(x|\\theta)$ the *criterion function* because it is a strictly positive scalar that is the object of the minimization in the GMM problem statement. The $R\\times R$ weighting matrix $W$ in the criterion function allows the econometrician to control how each moment is weighted in the minimization problem. For example, an $R\\times R$ identity matrix for $W$ would give each moment equal weighting, and the criterion function would be a simply sum of squared percent deviations (errors). Other weighting strategies can be dictated by the nature of the problem or model."
   ]
  },
  {
   "cell_type": "markdown",
   "metadata": {},
   "source": [
    "## 3. The Weighting Matrix (W)\n",
    "In the GMM criterion function in the problem statement above, some weighting matrices $W$ produce precise estimates while others produce poor estimates with large variances. We want to choose the optimal weighting matrix $W$ with the smallest possible asymptotic variance. This is an efficient of optimal GMM estimator. The optimal weighting matrix is the inverse variance covariance matrix of the moments at the optimal parameter values,\n",
    "\n",
    "$$ W^{opt} \\equiv \\Omega^{-1}(x|\\hat{\\theta}_{GMM}) $$\n",
    "\n",
    "where $\\Omega(x|\\theta)$ is the variance covariance matrix of the moment condition errors $E(x|\\theta)$ from each observation in the data (to be defined below). The intuition for using the inverse variance covariance matrix $\\Omega^{-1}$ as the optimal weighting matrix is the following. You want to downweight moments that have a high variance, and you want to weight more heavily the moments that are generated more precisely.\n",
    "\n",
    "Notice that this definition of the optimal weighting matrix is circular. $W^{opt}$ is a function of the GMM estimates $\\hat{\\theta}_{GMM}$, but the optimal weighting matrix is used in the estimation of $\\hat{\\theta}_{GMM}$. This means that one has to use some kind of iterative fixed point method to find the true optimal weighting matrix $W^{opt}$. Below are some examples of weighting matrices to use."
   ]
  },
  {
   "cell_type": "markdown",
   "metadata": {},
   "source": [
    "### 3.1. The identity matrix (W = I)\n",
    "Many times, you can get away with just using the identity matrix as your weighting matrix $W = I$. This changes the criterion function to a simple sum of squared error functions such that each moment has the same weight.\n",
    "\n",
    "$$ \\hat{\\theta}_{GMM}=\\theta:\\quad \\min_{\\theta}\\:e(x|\\theta)^T \\, e(x|\\theta) $$\n",
    "\n",
    "If the problem is well conditioned and well identified, then your GMM estimates $\\hat{\\theta}_{GMM}$ will not be greatly affected by this simplest of weighting matrices."
   ]
  },
  {
   "cell_type": "markdown",
   "metadata": {},
   "source": [
    "### 3.2. Two-step variance covariance estimator of W\n",
    "The most common method of estimating the optimal weighting matrix for GMM estimates is the two-step variance covariance estimator. The name \"two-step\" refers to the two steps used to get the weighting matrix.\n",
    "\n",
    "The first step is to estimate the GMM parameter vector $\\hat{\\theta}_{1,GMM}$ using the simple identity matrix as the weighting matrix $W = I$.\n",
    "\n",
    "$$ \\hat{\\theta}_{1, GMM}=\\theta:\\quad \\min_{\\theta}\\:e(x|\\theta)^T \\, I \\, e(x|\\theta) $$\n",
    "\n",
    "You then use the errors from each observation in the data $E(x|\\theta)$ that generated the error vector $e(x|\\theta)$, which data matrix is $R\\times N$ and if summed across the rows gives the error vector. When the errors are simple differences the $E(x|\\theta)$ matrix is the following,\n",
    "\n",
    "$$ E(x|\\theta) =\n",
    "  \\begin{bmatrix}\n",
    "    m_1(x|\\theta) - m_1(x_1) & m_1(x|\\theta) - m_1(x_2) & ... & m_1(x|\\theta) - m_1(x_N) \\\\\n",
    "    m_2(x|\\theta) - m_2(x_1) & m_2(x|\\theta) - m_2(x_2) & ... & m_2(x|\\theta) - m_2(x_N) \\\\\n",
    "    \\vdots & \\vdots & \\ddots & \\vdots \\\\\n",
    "    m_R(x|\\theta) - m_R(x_1) & m_R(x|\\theta) - m_R(x_2) & ... & m_R(x|\\theta) - m_R(x_N) \\\\\n",
    "  \\end{bmatrix} $$\n",
    "\n",
    "where $m_r(x_i)$ is a function associated with the $r$th moment and the $i$th data observation. When the errors are percent deviations, the $E(x|\\theta)$ matrix is the following,\n",
    "\n",
    "$$ E(x|\\theta) =\n",
    "  \\begin{bmatrix}\n",
<<<<<<< HEAD
    "    \\frac{m_1(x_1) - m_1(x|\\theta)}{m_1(x|\\theta)} & \\frac{m_1(x_2) - m_1(x|\\theta)}{m_1(x|\\theta)} & ... & \\frac{m_1(x_N) - m_1(x|\\theta)}{m_1(x|\\theta)} \\\\\n",
    "    \\frac{m_2(x_1) - m_2(x|\\theta)}{m_2(x|\\theta)} & \\frac{m_2(x_2) - m_2(x|\\theta)}{m_2(x|\\theta)} & ... & \\frac{m_2(x_N) - m_2(x|\\theta)}{m_2(x|\\theta)} \\\\\n",
    "    \\vdots & \\vdots & \\ddots & \\vdots \\\\\n",
    "    \\frac{m_R(x_1) - m_R(x|\\theta)}{m_R(x|\\theta)} & \\frac{m_R(x_2) - m_R(x|\\theta)}{m_R(x|\\theta)} & ... & \\frac{m_R(x_N) - m_R(x|\\theta)}{m_R(x|\\theta)} \\\\\n",
=======
    "    \\frac{m_1(x|\\theta) - m_1(x_1)}{m_1(x_1)} & \\frac{m_1(x|\\theta) - m_1(x_2)}{m_1(x_2)} & ... & \\frac{m_1(x|\\theta) - m_1(x_N)}{m_1(x_N)} \\\\\n",
    "    \\frac{m_2(x|\\theta) - m_2(x_1)}{m_2(x_1)} & \\frac{m_2(x|\\theta) - m_2(x_2)}{m_2(x_2)} & ... & \\frac{m_2(x|\\theta) - m_2(x_N)}{m_2(x_N)} \\\\\n",
    "    \\vdots & \\vdots & \\ddots & \\vdots \\\\\n",
    "    \\frac{m_R(x|\\theta) - m_R(x_1)}{m_R(x_1)} & \\frac{m_R(x|\\theta) - m_R(x_2)}{m_R(x_2)} & ... & \\frac{m_R(x|\\theta) - m_R(x_N)}{m_R(x_N)} \\\\\n",
>>>>>>> 0d057cc151a76827728bbfb56c492d7180c75426
    "  \\end{bmatrix} $$\n",
    "\n",
    "where the denominator of the percentage deviation or baseline is the model moment that does not change. We use the $E(x|\\theta)$ data matrix and the Step 1 GMM estimate $e(x|\\hat{\\theta}_{1,GMM})$ to get a new estimate of the variance covariance matrix.\n",
    "\n",
    "$$ \\hat{\\Omega}_2 = \\frac{1}{N}E(x|\\hat{\\theta}_{1,GMM})\\,E(x|\\hat{\\theta}_{1,GMM})^T $$\n",
    "\n",
    "This is simply saying that the $(r,s)$-element of the estimator of the variance-covariance matrix of the moment vector is the following.\n",
    "\n",
    "$$\\hat{\\Omega}_{r,s} = \\frac{1}{N}\\sum_{i=1}^N\\Bigl[m_r(x|\\theta) - m_{r}(x_i)\\Bigr]\\Bigl[ m_s(x|\\theta) - m_s(x_i)\\Bigr] $$\n",
    "\n",
    "The optimal weighting matrix is the inverse of the two-step variance covariance matrix.\n",
    "\n",
    "$$ \\hat{W}^{two-step} \\equiv \\hat{\\Omega}_2^{-1} $$\n",
    "\n",
    "Lastly, re-estimate the GMM estimator using the optimal two-step weighting matrix.\n",
    "\n",
    "$$ \\hat{\\theta}_{2, GMM}=\\theta:\\quad \\min_{\\theta}\\:e(x|\\theta)^T \\, \\hat{W}^{two-step} \\, e(x|\\theta) $$\n",
    "\n",
    "$\\hat{\\theta}_{2, GMM}$ is called the two-step GMM estimator."
   ]
  },
  {
   "cell_type": "markdown",
   "metadata": {},
   "source": [
    "### 3.3. Iterated variance covariance estimator of W\n",
    "The truly optimal weighting matrix $W^{opt}$ is the iterated variance-covariance estimator of $W$. This procedure is to just repeat the process described in the two-step GMM estimator until the estimated weighting matrix no longer changes between iterations. Let $i$ index the $i$th iterated GMM estimator,\n",
    "\n",
    "$$ \\hat{\\theta}_{i, GMM}=\\theta:\\quad \\min_{\\theta}\\:e(x|\\theta)^T \\, \\hat{W}_{i} \\, e(x|\\theta) $$\n",
    "\n",
    "and the $i+1$th estimate of the optimal weighting matrix is defined as the following.\n",
    "\n",
    "$$ \\hat{W}_{i+1} \\equiv \\hat{\\Omega}_{i+1} = \\frac{1}{N}E(x|\\hat{\\theta}_{i,GMM})\\,E(x|\\hat{\\theta}_{i,GMM})^T $$\n",
    "\n",
    "The iterated GMM estimator is the $\\hat{\\theta}_{i,GMM}$ such that $\\hat{W}_{i+1}$ is very close to $\\hat{W}_{i}$ for some distance metric (norm).\n",
    "\n",
    "$$ \\hat{\\theta}_{it,GMM} = \\hat{\\theta}_{i,GMM}: \\quad || \\hat{W}_{i+1} - \\hat{W}_{i} || < \\varepsilon $$"
   ]
  },
  {
   "cell_type": "markdown",
   "metadata": {},
   "source": [
    "### 3.4. Newey-West consistent estimator of $\\Omega$ and W\n",
    "The Newey-West estimator of the optimal weighting matrix and variance covariance matrix is consistent in the presence of heteroskedasticity and autocorrelation in the data (See Newey and West, 1987). Adda and Cooper (2003, p. 82) have a nice exposition of how to compute the Newey-West weighting matrix $\\hat{W}_{nw}$. The asymptotic representation of the optimal weighting matrix $\\hat{W}^{opt}$ is the following:\n",
    "\n",
    "$$ \\hat{W}^{opt} = \\lim_{N\\rightarrow\\infty}\\frac{1}{N}\\sum_{i=1}^N \\sum_{l=-\\infty}^\\infty E(x_i|\\theta)E(x_{i-l}|\\theta)^T $$\n",
    "\n",
    "The Newey-West consistend estimator of $\\hat{W}^{opt}$ is:\n",
    "\n",
    "$$ \\hat{W}_{nw} = \\Gamma_{0,N} + \\sum_{v=1}^q \\left(1 - \\left[\\frac{v}{q+1}\\right]\\right)\\left(\\Gamma_{v,N} + \\Gamma^T_{v,N}\\right) $$\n",
    "\n",
    "where\n",
    "\n",
    "$$ \\Gamma_{v,N} = \\frac{1}{N}\\sum_{i=v+1}^N E(x_i|\\theta)E(x_{i-v}|\\theta)^T $$\n",
    "\n",
    "Of course, for autocorrelation, the subscript $i$ and the sample size $N$ can be changed to $t$ and $T$, respectively."
   ]
  },
  {
   "cell_type": "markdown",
   "metadata": {},
   "source": [
    "## 4. The GMM Variance-Covariance Estimator of the Estimated Parameters\n",
    "The estimated variance-covariance matrix $\\hat{\\Sigma}$ of the estimated parameter vector $\\hat{\\theta}_{GMM}$ is different from the variance-covariance matrix $\\hat{\\Omega}$ of the moment vector $e(x|\\theta)$ from the previous section. $\\hat{\\Omega}$ from the previous section is the $R\\times R$ variance-covariance matrix of the $R$ moment errors used to identify the $K$ parameters $\\theta$ to be estimated. The estimated variance-covariance matrix of the estimated parameter vector $\\hat{\\Sigma}$ is a $K\\times K$ matrix. We say the model is exactly identified if $K = R$. We say the model is overidentified if $K<R$.\n",
    "\n",
    "Similar to the inverse Hessian estimator of the variance-covariance matrix of the maximum likelihood estimator from the [maximum likelihood estimation notebook](https://github.com/rickecon/Notebooks/blob/master/MLE/MLest.ipynb), the GMM variance-covariance matrix is related to the derivative of the criterion function with respect to each parameter. The intuition is that if the second derivative of the criterion function with respect to the parameters is large, there is a lot of curvature around the criterion minimizing estimate. In other words, the parameters of the model are precisely estimated. The inverse of the Hessian matrix will be small."
   ]
  },
  {
   "cell_type": "markdown",
   "metadata": {},
   "source": [
    "Define $R\\times K$ matrix $d(x|\\theta)$ as the Jacobian matrix of derivatives of the $R\\times 1$ error vector $e(x|\\theta)$.\n",
    "\n",
    "\\begin{equation}\n",
    "  d(x|\\theta) \\equiv\n",
    "    \\begin{bmatrix}\n",
    "      \\frac{\\partial e_1(x|\\theta)}{\\partial \\theta_1} & \\frac{\\partial e_1(x|\\theta)}{\\partial \\theta_2} & ... & \\frac{\\partial e_1(x|\\theta)}{\\partial \\theta_K} \\\\\n",
    "      \\frac{\\partial e_2(x|\\theta)}{\\partial \\theta_1} & \\frac{\\partial e_2(x|\\theta)}{\\partial \\theta_2} & ... & \\frac{\\partial e_2(x|\\theta)}{\\partial \\theta_K} \\\\\n",
    "      \\vdots & \\vdots & \\ddots & \\vdots \\\\\n",
    "      \\frac{\\partial e_R(x|\\theta)}{\\partial \\theta_1} & \\frac{\\partial e_R(x|\\theta)}{\\partial \\theta_2} & ... & \\frac{\\partial e_R(x|\\theta)}{\\partial \\theta_K}\n",
    "    \\end{bmatrix}\n",
    "\\end{equation}\n",
    "\n",
    "The GMM estimates of the parameter vector $\\hat{\\theta}_{GMM}$ are assymptotically normal. If $\\theta_0$ is the true value of the parameters, then the following holds,\n",
    "\n",
    "\\begin{equation}\n",
    "  \\text{plim}_{N\\rightarrow\\infty}\\sqrt{N}\\left(\\hat{\\theta}_{GMM} - \\theta_0\\right) \\sim \\text{N}\\left(0, \\left[d(x|\\theta)^T W d(x|\\theta)\\right]^{-1}\\right)\n",
    "\\end{equation}\n",
    "\n",
    "where $W$ is the optimal weighting matrix from the GMM criterion function. The GMM estimator for the variance-covariance matrix $\\hat{\\Sigma}_{GMM}$ of the parameter vector $\\hat{\\theta}_{GMM}$ is the following.\n",
    "\n",
    "\\begin{equation}\n",
    "  \\hat{\\Sigma}_{GMM} = \\frac{1}{N}\\left[d(x|\\theta)^T W d(x|\\theta)\\right]^{-1}\n",
    "\\end{equation}"
   ]
  },
  {
   "cell_type": "markdown",
   "metadata": {},
   "source": [
    "In the examples below, we will use a finite difference method to compute numerical versions of the Jacobian matrix $d(x|\\theta)$.\n",
    "\n",
    "$$ f'(x_0) = \\lim_{h\\rightarrow 0} \\frac{f(x_0 + h) - f(x_0)}{h} $$\n",
    "\n",
    "The following is a centered second-order numerical approximation of the derivative of a function. (See [BYU ACME numerical differentiation lab](https://github.com/UC-MACSS/persp-model-econ_W19/blob/master/Notes/ACME_NumDiff.pdf) for more details.)\n",
    "\n",
    "$$ f'(x_0) \\approx \\frac{f(x_0 + h) - f(x_0 - h)}{2h} $$"
   ]
  },
  {
   "cell_type": "markdown",
   "metadata": {},
   "source": [
    "## 5. Examples\n",
    "In this section, we will use GMM to estimate parameters of the models from the [maximum likelihood estimation notebook](https://github.com/rickecon/Notebooks/blob/master/MLE/MLest.ipynb). We will also go through the standard moment conditions in most econometrics textbooks in which the conditional and unconditional expectations provide moments for estimation."
   ]
  },
  {
   "cell_type": "markdown",
   "metadata": {},
   "source": [
    "### 5.1. Fitting a truncated normal to intermediate macroeconomics test scores\n",
    "Let's revisit the problem from the MLE notebook of fitting a truncated normal distribution to intermediate macroeconomics test scores. The data are in the text file `Econ381totpts.txt`. Recall that these test scores are between 0 and 450. The figure below shows a histogram of the data, as well as three truncated normal PDF's. The black line is the ML estimate of $\\mu$ and $\\sigma$ of the truncated normal pdf. The red and the green lines are just the PDF's of two \"arbitrarily\" chosen combinations of the truncated normal parameters $\\mu$ and $\\sigma$."
   ]
  },
  {
   "cell_type": "code",
<<<<<<< HEAD
   "execution_count": 2,
=======
   "execution_count": 9,
>>>>>>> 0d057cc151a76827728bbfb56c492d7180c75426
   "metadata": {},
   "outputs": [],
   "source": [
    "# Import packages and load the data\n",
    "import numpy as np\n",
    "import numpy.linalg as lin\n",
    "import scipy.stats as sts\n",
    "import scipy.integrate as intgr\n",
    "import scipy.optimize as opt\n",
    "import matplotlib\n",
    "import matplotlib.pyplot as plt\n",
    "from mpl_toolkits.mplot3d import Axes3D\n",
    "from matplotlib import cm\n",
    "cmap1 = matplotlib.cm.get_cmap('summer')\n",
    "# This next command is specifically for Jupyter Notebook\n",
    "%matplotlib notebook\n",
    "\n",
    "import requests\n",
    "from IPython.display import Image"
   ]
  },
  {
   "cell_type": "code",
<<<<<<< HEAD
   "execution_count": 3,
=======
   "execution_count": 10,
>>>>>>> 0d057cc151a76827728bbfb56c492d7180c75426
   "metadata": {},
   "outputs": [
    {
     "data": {
<<<<<<< HEAD
      "image/png": "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\n",
=======
      "image/png": "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\n",
>>>>>>> 0d057cc151a76827728bbfb56c492d7180c75426
      "text/plain": [
       "<IPython.core.display.Image object>"
      ]
     },
<<<<<<< HEAD
     "execution_count": 3,
=======
     "execution_count": 10,
>>>>>>> 0d057cc151a76827728bbfb56c492d7180c75426
     "metadata": {},
     "output_type": "execute_result"
    }
   ],
   "source": [
    "# Download and save the data file MLEplots.png\n",
    "url = ('https://raw.githubusercontent.com/rickecon/Notebooks/' +\n",
    "       'master/GMM/images/MLEplots.png')\n",
    "image_file = requests.get(url, allow_redirects=True)\n",
    "open('images/MLEplots.png', 'wb').write(image_file.content)\n",
    "Image(\"images/MLEplots.png\")"
   ]
  },
  {
   "cell_type": "markdown",
   "metadata": {},
   "source": [
    "#### 5.1.1. Two moments, identity weighting matrix\n",
    "Let's try estimating the parameters $\\mu$ and $\\sigma$ by GMM. What moments should we use? Let's try the mean and variance of the data. These two statistics of the data are defined by:\n",
    "\n",
    "$$ mean(scores_i) = \\frac{1}{N}\\sum_{i=1}^N scores_i $$\n",
    "\n",
    "$$ var(scores_i) = \\frac{1}{N}\\sum_{i=1}^{N} \\left(scores_i - mean(scores_i)\\right)^2 $$\n",
    "\n",
    "So the data moment vector $m(x)$ for GMM is the following.\n",
    "\n",
    "$$ m(scores_i) \\equiv \\begin{bmatrix} mean(scores_i) \\\\ var(scores_i) \\end{bmatrix} $$\n",
    "\n",
    "And the model moment vector $m(x|\\theta)$ for GMM is the following.\n",
    "\n",
    "$$ m(scores_i|\\mu,\\sigma) \\equiv \\begin{bmatrix} mean(scores_i|\\mu,\\sigma) \\\\ var(scores_i|\\mu,\\sigma) \\end{bmatrix} $$\n",
    "\n",
    "Define the error vector as the vector of percent deviations of the model moments from the data moments.\n",
    "\n",
    "$$ e(scores_i|\\mu,\\sigma) \\equiv \\frac{m(scores_i|\\mu,\\sigma) - m(scores_i)}{m(scores_i)} $$\n",
    "\n",
    "The GMM estimator for this moment vector is the following.\n",
    "\n",
    "$$ (\\hat{\\mu}_{GMM},\\hat{\\sigma}_{GMM}) = (\\mu,\\sigma):\\quad \\min_{\\mu,\\sigma} e(scores_i|\\mu,\\sigma)^T \\, W \\, e(scores_i|\\mu,\\sigma) $$"
   ]
  },
  {
   "cell_type": "markdown",
   "metadata": {},
   "source": [
    "Something interesting to note here is the $1/N$ weighting on our variance estimator. There is less bias in the estimator of the variance by using the weighting $1/(N-1)$ because one degree of freedom is used in calculating the mean used in the variance calculation. However, in GMM when many moments are used that might have differing degrees of freedom restrictions, it is important to have the same weighting for each moment. So we use $1/N$ in all cases."
   ]
  },
  {
   "cell_type": "code",
   "execution_count": null,
   "metadata": {},
   "outputs": [],
   "source": [
    "# Download and save the data file Econ381totpts.txt\n",
    "url = ('https://raw.githubusercontent.com/rickecon/Notebooks/' +\n",
    "       'master/GMM/data/Econ381totpts.txt')\n",
    "data_file = requests.get(url, allow_redirects=True)\n",
    "open('data/Econ381totpts.txt', 'wb').write(data_file.content)\n",
    "\n",
    "# Load the data as a NumPy array\n",
    "pts = np.loadtxt('data/Econ381totpts.txt')\n",
    "#pts"
   ]
  },
  {
   "cell_type": "code",
   "execution_count": null,
   "metadata": {},
   "outputs": [],
   "source": [
    "# Define function that generates values of a normal pdf\n",
    "def trunc_norm_pdf(xvals, mu, sigma, cut_lb, cut_ub):\n",
    "    '''\n",
    "    --------------------------------------------------------------------\n",
    "    Generate pdf values from the normal pdf with mean mu and standard\n",
    "    deviation sigma. If the cutoff is given, then the PDF values are\n",
    "    inflated upward to reflect the zero probability on values above the\n",
    "    cutoff. If there is no cutoff given, this function does the same\n",
    "    thing as sp.stats.norm.pdf(x, loc=mu, scale=sigma).\n",
    "    --------------------------------------------------------------------\n",
    "    INPUTS:\n",
    "    xvals  = (N,) vector, values of the normally distributed random\n",
    "             variable\n",
    "    mu     = scalar, mean of the normally distributed random variable\n",
    "    sigma  = scalar > 0, standard deviation of the normally distributed\n",
    "             random variable\n",
    "    cut_lb = scalar or string, ='None' if no cutoff is given, otherwise\n",
    "             is scalar lower bound value of distribution. Values below\n",
    "             this value have zero probability\n",
    "    cut_ub = scalar or string, ='None' if no cutoff is given, otherwise\n",
    "             is scalar upper bound value of distribution. Values above\n",
    "             this value have zero probability\n",
    "    \n",
    "    OTHER FUNCTIONS AND FILES CALLED BY THIS FUNCTION: None\n",
    "    \n",
    "    OBJECTS CREATED WITHIN FUNCTION:\n",
    "    prob_notcut = scalar \n",
    "    pdf_vals = (N,) vector, normal PDF values for mu and sigma\n",
    "               corresponding to xvals data\n",
    "    \n",
    "    FILES CREATED BY THIS FUNCTION: None\n",
    "    \n",
    "    RETURNS: pdf_vals\n",
    "    --------------------------------------------------------------------\n",
    "    '''\n",
    "    if cut_ub == 'None' and cut_lb == 'None':\n",
    "        prob_notcut = 1.0\n",
    "    elif cut_ub == 'None' and cut_lb != 'None':\n",
    "        prob_notcut = 1.0 - sts.norm.cdf(cut_lb, loc=mu, scale=sigma)\n",
    "    elif cut_ub != 'None' and cut_lb == 'None':\n",
    "        prob_notcut = sts.norm.cdf(cut_ub, loc=mu, scale=sigma)\n",
    "    elif cut_ub != 'None' and cut_lb != 'None':\n",
    "        prob_notcut = (sts.norm.cdf(cut_ub, loc=mu, scale=sigma) -\n",
    "                       sts.norm.cdf(cut_lb, loc=mu, scale=sigma))\n",
    "            \n",
    "    pdf_vals    = ((1/(sigma * np.sqrt(2 * np.pi)) *\n",
    "                    np.exp( - (xvals - mu)**2 / (2 * sigma**2))) /\n",
    "                    prob_notcut)\n",
    "    \n",
    "    return pdf_vals"
   ]
  },
  {
   "cell_type": "markdown",
   "metadata": {},
   "source": [
    "Now let's define a criterion function that takes as inputs the parameters and the estimator for the weighting matrix $\\hat{W}$."
   ]
  },
  {
   "cell_type": "code",
   "execution_count": null,
   "metadata": {},
   "outputs": [],
   "source": [
    "def data_moments(xvals):\n",
    "    '''\n",
    "    --------------------------------------------------------------------\n",
    "    This function computes the two data moments for GMM\n",
    "    (mean(data), variance(data)).\n",
    "    --------------------------------------------------------------------\n",
    "    INPUTS:\n",
    "    xvals = (N,) vector, test scores data\n",
    "    \n",
    "    OTHER FUNCTIONS AND FILES CALLED BY THIS FUNCTION: None\n",
    "    \n",
    "    OBJECTS CREATED WITHIN FUNCTION:\n",
    "    mean_data = scalar, mean value of test scores data\n",
    "    var_data  = scalar > 0, variance of test scores data\n",
    "    \n",
    "    FILES CREATED BY THIS FUNCTION: None\n",
    "    \n",
    "    RETURNS: mean_data, var_data\n",
    "    --------------------------------------------------------------------\n",
    "    '''\n",
    "    mean_data = xvals.mean()\n",
    "    var_data = xvals.var()\n",
    "    \n",
    "    return mean_data, var_data\n",
    "\n",
    "\n",
    "def model_moments(mu, sigma, cut_lb, cut_ub):\n",
<<<<<<< HEAD
=======
    "    '''\n",
    "    --------------------------------------------------------------------\n",
    "    This function computes the two model moments for GMM\n",
    "    (mean(model data), variance(model data)).\n",
    "    --------------------------------------------------------------------\n",
    "    INPUTS:\n",
    "    mu     = scalar, mean of the normally distributed random variable\n",
    "    sigma  = scalar > 0, standard deviation of the normally distributed\n",
    "             random variable\n",
    "    cut_lb = scalar or string, ='None' if no cutoff is given, otherwise\n",
    "             is scalar lower bound value of distribution. Values below\n",
    "             this value have zero probability\n",
    "    cut_ub = scalar or string, ='None' if no cutoff is given, otherwise\n",
    "             is scalar upper bound value of distribution. Values above\n",
    "             this value have zero probability\n",
    "    \n",
    "    OTHER FUNCTIONS AND FILES CALLED BY THIS FUNCTION:\n",
    "        trunc_norm_pdf()\n",
    "        xfx()\n",
    "        x2fx()\n",
    "    \n",
    "    OBJECTS CREATED WITHIN FUNCTION:\n",
    "    mean_model = scalar, mean value of test scores from model\n",
    "    m_m_err    = scalar > 0, estimated error in the computation of the\n",
    "                 integral for the mean of the distribution\n",
    "    var_model  = scalar > 0, variance of test scores from model\n",
    "    v_m_err    = scalar > 0, estimated error in the computation of the\n",
    "                 integral for the variance of the distribution\n",
    "    \n",
    "    FILES CREATED BY THIS FUNCTION: None\n",
    "    \n",
    "    RETURNS: mean_model, var_model\n",
    "    --------------------------------------------------------------------\n",
    "    '''\n",
>>>>>>> 0d057cc151a76827728bbfb56c492d7180c75426
    "    xfx = lambda x: x * trunc_norm_pdf(x, mu, sigma, cut_lb, cut_ub)\n",
    "    (mean_model, m_m_err) = intgr.quad(xfx, cut_lb, cut_ub)\n",
    "    x2fx = lambda x: ((x - mean_model) ** 2) * trunc_norm_pdf(x, mu, sigma, cut_lb, cut_ub) \n",
    "    (var_model, v_m_err) = intgr.quad(x2fx, cut_lb, cut_ub)\n",
    "    \n",
    "    return mean_model, var_model\n",
    "\n",
    "\n",
    "def err_vec(xvals, mu, sigma, cut_lb, cut_ub, simple):\n",
<<<<<<< HEAD
=======
    "    '''\n",
    "    --------------------------------------------------------------------\n",
    "    This function computes the vector of moment errors (in percent\n",
    "    deviation from the data moment vector) for GMM.\n",
    "    --------------------------------------------------------------------\n",
    "    INPUTS:\n",
    "    xvals  = (N,) vector, test scores data\n",
    "    mu     = scalar, mean of the normally distributed random variable\n",
    "    sigma  = scalar > 0, standard deviation of the normally distributed\n",
    "             random variable\n",
    "    cut_lb = scalar or string, ='None' if no cutoff is given, otherwise\n",
    "             is scalar lower bound value of distribution. Values below\n",
    "             this value have zero probability\n",
    "    cut_ub = scalar or string, ='None' if no cutoff is given, otherwise\n",
    "             is scalar upper bound value of distribution. Values above\n",
    "             this value have zero probability\n",
    "    simple = boolean, =True if errors are simple difference, =False if\n",
    "             errors are percent deviation from data moments\n",
    "    \n",
    "    OTHER FUNCTIONS AND FILES CALLED BY THIS FUNCTION:\n",
    "        data_moments()\n",
    "        model_moments()\n",
    "    \n",
    "    OBJECTS CREATED WITHIN FUNCTION:\n",
    "    mean_data  = scalar, mean value of data\n",
    "    var_data   = scalar > 0, variance of data\n",
    "    moms_data  = (2, 1) matrix, column vector of two data moments\n",
    "    mean_model = scalar, mean value from model\n",
    "    var_model  = scalar > 0, variance from model\n",
    "    moms_model = (2, 1) matrix, column vector of two model moments\n",
    "    err_vec    = (2, 1) matrix, column vector of two moment error\n",
    "                 functions\n",
    "    \n",
    "    FILES CREATED BY THIS FUNCTION: None\n",
    "    \n",
    "    RETURNS: err_vec\n",
    "    --------------------------------------------------------------------\n",
    "    '''\n",
>>>>>>> 0d057cc151a76827728bbfb56c492d7180c75426
    "    mean_data, var_data = data_moments(xvals)\n",
    "    moms_data = np.array([[mean_data], [var_data]])\n",
    "    mean_model, var_model = model_moments(mu, sigma, cut_lb, cut_ub)\n",
    "    moms_model = np.array([[mean_model], [var_model]])\n",
    "    if simple:\n",
    "        err_vec = moms_model - moms_data\n",
    "    else:\n",
    "        err_vec = (moms_model - moms_data) / moms_data\n",
    "    \n",
    "    return err_vec\n",
    "\n",
    "\n",
    "def criterion(params, *args):\n",
<<<<<<< HEAD
=======
    "    '''\n",
    "    --------------------------------------------------------------------\n",
    "    This function computes the GMM weighted sum of squared moment errors\n",
    "    criterion function value given parameter values and an estimate of\n",
    "    the weighting matrix.\n",
    "    --------------------------------------------------------------------\n",
    "    INPUTS:\n",
    "    params = (2,) vector, ([mu, sigma])\n",
    "    mu     = scalar, mean of the normally distributed random variable\n",
    "    sigma  = scalar > 0, standard deviation of the normally distributed\n",
    "             random variable\n",
    "    args   = length 3 tuple, (xvals, cutoff, W_hat)\n",
    "    xvals  = (N,) vector, values of the truncated normally distributed\n",
    "             random variable\n",
    "    cut_lb = scalar or string, ='None' if no cutoff is given, otherwise\n",
    "             is scalar lower bound value of distribution. Values below\n",
    "             this value have zero probability\n",
    "    cut_ub = scalar or string, ='None' if no cutoff is given, otherwise\n",
    "             is scalar upper bound value of distribution. Values above\n",
    "             this value have zero probability\n",
    "    W_hat  = (R, R) matrix, estimate of optimal weighting matrix\n",
    "    \n",
    "    OTHER FUNCTIONS AND FILES CALLED BY THIS FUNCTION:\n",
    "        norm_pdf()\n",
    "    \n",
    "    OBJECTS CREATED WITHIN FUNCTION:\n",
    "    err        = (2, 1) matrix, column vector of two moment error\n",
    "                 functions\n",
    "    crit_val   = scalar > 0, GMM criterion function value\n",
    "    \n",
    "    FILES CREATED BY THIS FUNCTION: None\n",
    "    \n",
    "    RETURNS: crit_val\n",
    "    --------------------------------------------------------------------\n",
    "    '''\n",
>>>>>>> 0d057cc151a76827728bbfb56c492d7180c75426
    "    mu, sigma = params\n",
    "    xvals, cut_lb, cut_ub, W = args\n",
    "    err = err_vec(xvals, mu, sigma, cut_lb, cut_ub, simple=False)\n",
    "    crit_val = err.T @ W @ err\n",
    "    \n",
    "    return crit_val"
   ]
  },
  {
   "cell_type": "markdown",
   "metadata": {},
   "source": [
    "Now we can perform the GMM estimation. Let's start with the identity matrix as our estimate for the optimal weighting matrix $W = I$."
   ]
  },
  {
   "cell_type": "code",
   "execution_count": null,
   "metadata": {},
   "outputs": [],
   "source": [
    "# Note that this takes a little time because the intgr.quad() commands\n",
    "# are a little slow\n",
    "mu_init = 400\n",
    "sig_init = 60\n",
    "params_init = np.array([mu_init, sig_init])\n",
    "W_hat = np.eye(2)\n",
    "gmm_args = (pts, 0.0, 450.0, W_hat)\n",
    "results = opt.minimize(criterion, params_init, args=(gmm_args))\n",
    "results = opt.minimize(criterion, params_init, args=(gmm_args),\n",
    "                       tol=1e-14, method='L-BFGS-B',\n",
    "                       bounds=((1e-10, None), (1e-10, None)))\n",
    "mu_GMM1, sig_GMM1 = results.x\n",
    "print('mu_GMM1=', mu_GMM1, ' sig_GMM1=', sig_GMM1)\n",
    "results"
   ]
  },
  {
   "cell_type": "code",
   "execution_count": null,
   "metadata": {},
   "outputs": [],
   "source": [
    "mean_data, var_data = data_moments(pts)\n",
    "mean_model, var_model = model_moments(mu_GMM1, sig_GMM1, 0.0, 450.0)\n",
    "err1 = err_vec(pts, mu_GMM1, sig_GMM1, 0.0, 450.0, False).reshape(2,)\n",
    "print('Mean of points =', mean_data, ', Variance of points =', var_data)\n",
    "print('Mean of model =', mean_model, ', Variance of model =', var_model)\n",
    "print('Error vector=', err1)\n",
    "results"
   ]
  },
  {
   "cell_type": "markdown",
   "metadata": {},
   "source": [
    "Let's plot the PDF implied by these results against the histogram."
   ]
  },
  {
   "cell_type": "code",
   "execution_count": null,
   "metadata": {},
   "outputs": [],
   "source": [
    "# Plot the histogram of the data\n",
    "num_bins = 30\n",
    "count, bins, ignored = plt.hist(pts, num_bins, density=True,\n",
    "                                edgecolor='k')\n",
    "plt.title('Econ 381 scores: 2011-2012', fontsize=20)\n",
    "plt.xlabel(r'Total points')\n",
    "plt.ylabel(r'Percent of scores')\n",
    "plt.xlim([0, 550])  # This gives the xmin and xmax to be plotted\"\n",
    "\n",
    "# Plot the estimated GMM PDF\n",
    "dist_pts = np.linspace(0, 450, 500)\n",
    "plt.plot(dist_pts, trunc_norm_pdf(dist_pts, mu_GMM1, sig_GMM1, 0.0, 450),\n",
    "         linewidth=2, color='k', label='1: $\\mu_{GMM1}$,$\\sigma_{GMM1}$')\n",
    "plt.legend(loc='upper left')"
   ]
  },
  {
   "cell_type": "markdown",
   "metadata": {},
   "source": [
    "That looks just like the ML estimate from the previous notebook. Let's see what the criterion function looks like for different values of $\\mu$ and $\\sigma$."
   ]
  },
  {
   "cell_type": "code",
   "execution_count": null,
   "metadata": {},
   "outputs": [],
   "source": [
    "# Note that this will take a few minutes because the intgr.quad() commands\n",
    "# are a little slow\n",
    "mu_vals = np.linspace(60, 700, 50)\n",
    "sig_vals = np.linspace(20, 200, 50)\n",
    "# mu_vals = np.linspace(540, 572, 50)\n",
    "# sig_vals = np.linspace(170, 182, 50)\n",
    "crit_vals = np.zeros((50, 50))\n",
    "for mu_ind in range(50):\n",
    "    for sig_ind in range(50):\n",
    "        crit_vals[mu_ind, sig_ind] = \\\n",
    "            criterion(np.array([mu_vals[mu_ind], sig_vals[sig_ind]]),\n",
    "                      pts, 0.0, 450.0, W_hat)\n",
    "\n",
    "mu_mesh, sig_mesh = np.meshgrid(mu_vals, sig_vals)\n",
    "\n",
    "fig = plt.figure()\n",
    "ax = fig.gca(projection='3d')\n",
    "ax.plot_surface(sig_mesh, mu_mesh, crit_vals, rstride=8,\n",
    "                cstride=1, cmap=cmap1)\n",
    "ax.set_title('Criterion function for values of mu and sigma')\n",
    "ax.set_xlabel(r'$\\sigma$')\n",
    "ax.set_ylabel(r'$\\mu$')\n",
    "ax.set_zlabel(r'Crit. func.')"
   ]
  },
  {
   "cell_type": "markdown",
   "metadata": {},
   "source": [
    "Let's compute the GMM estimator for the variance-covariance matrix $\\hat{\\Sigma}_{GMM}$ of our GMM estimates $\\hat{\\theta}_{GMM}$ using the equation in Section 4 based on the Jacobian $d(x|\\hat{\\theta}_{GMM})$ of the moment error vector $e(x|\\hat{\\theta}_{GMM})$ from the criterion function at the estimated (optimal) parameter values $\\hat{\\theta}_{GMM}$. We first write a function that computes the Jacobian $d(x|\\hat{\\theta}_{GMM})$."
   ]
  },
  {
   "cell_type": "code",
   "execution_count": null,
   "metadata": {},
   "outputs": [],
   "source": [
    "def Jac_err2(xvals, mu, sigma, cut_lb, cut_ub, simple=False):\n",
    "    '''\n",
    "    This function computes the Jacobian matrix of partial derivatives of the R x 1 moment\n",
    "    error vector e(x|theta) with respect to the K parameters theta_i in the K x 1 parameter vector\n",
    "    theta. The resulting matrix is R x K Jacobian.\n",
    "    '''\n",
    "    Jac_err = np.zeros((2, 2))\n",
    "    h_mu = 1e-8 * mu\n",
    "    h_sig = 1e-8 * sigma\n",
    "    Jac_err[:, 0] = \\\n",
    "        ((err_vec(xvals, mu + h_mu, sigma, cut_lb, cut_ub, simple) -\n",
    "          err_vec(xvals, mu - h_mu, sigma, cut_lb, cut_ub, simple)) / (2 * h_mu)).flatten()\n",
    "    Jac_err[:, 1] = \\\n",
    "        ((err_vec(xvals, mu, sigma + h_sig, cut_lb, cut_ub, simple) -\n",
    "          err_vec(xvals, mu, sigma - h_sig, cut_lb, cut_ub, simple)) / (2 * h_sig)).flatten()\n",
    "    \n",
    "    return Jac_err"
   ]
  },
  {
   "cell_type": "code",
   "execution_count": null,
   "metadata": {},
   "outputs": [],
   "source": [
    "N = pts.shape[0]\n",
    "d_err2 = Jac_err2(pts, mu_GMM1, sig_GMM1, 0.0, 450.0, False)\n",
    "print(d_err2)\n",
    "print(W_hat)\n",
    "SigHat2 = (1 / N) * lin.inv(d_err2.T @ W_hat @ d_err2)\n",
    "print(SigHat2)\n",
    "print('Std. err. mu_hat=', np.sqrt(SigHat2[0, 0]))\n",
    "print('Std. err. sig_hat=', np.sqrt(SigHat2[1, 1]))"
   ]
  },
  {
   "cell_type": "markdown",
   "metadata": {},
   "source": [
    "#### 5.1.2. Two moments, two-step optimal weighting matrix\n",
    "Similar to the ML problem, it looks like the criterion function is roughly equal for a specific portion increase of $\\mu$ and $\\sigma$ together. That is, with these two moments probably have a correspondence of values of $\\mu$ and $\\sigma$ that give roughly the same criterion function value. This issue has two possible solutions.\n",
    "\n",
    "1. Maybe we need the two-step variance covariance estimator to calculate a \"more\" optimal weighting matrix $W$.\n",
    "2. Maybe our two moments aren't very good moments for fitting the data.\n",
    "\n",
    "Let's first try the two-step weighting matrix."
   ]
  },
  {
   "cell_type": "code",
   "execution_count": null,
   "metadata": {},
   "outputs": [],
   "source": [
    "def get_Err_mat2(pts, mu, sigma, cut_lb, cut_ub, simple=False):\n",
    "    '''\n",
    "    --------------------------------------------------------------------\n",
    "    This function computes the R x N matrix of errors from each\n",
    "    observation for each moment. In this function, we have hard coded\n",
    "    R = 2.\n",
    "    --------------------------------------------------------------------\n",
    "    INPUTS:\n",
    "    xvals  = (N,) vector, test scores data\n",
    "    mu     = scalar, mean of the normally distributed random variable\n",
    "    sigma  = scalar > 0, standard deviation of the normally distributed\n",
    "             random variable\n",
    "    cut_lb = scalar or string, ='None' if no cutoff is given, otherwise\n",
    "             is scalar lower bound value of distribution. Values below\n",
    "             this value have zero probability\n",
    "    cut_ub = scalar or string, ='None' if no cutoff is given, otherwise\n",
    "             is scalar upper bound value of distribution. Values above\n",
    "             this value have zero probability\n",
    "    simple = boolean, =True if errors are simple difference, =False if\n",
    "             errors are percent deviation from data moments\n",
    "    \n",
    "    OTHER FUNCTIONS AND FILES CALLED BY THIS FUNCTION:\n",
    "        model_moments()\n",
    "    \n",
    "    OBJECTS CREATED WITHIN FUNCTION:\n",
    "    R          = integer = 2, hard coded number of moments\n",
    "    N          = integer >= R, number of data observations\n",
    "    Err_mat    = (R, N) matrix, error by moment and observation data\n",
    "    mean_model = scalar, mean value from model\n",
    "    var_model  = scalar > 0, variance from model\n",
    "    \n",
    "    FILES CREATED BY THIS FUNCTION: None\n",
    "    \n",
    "    RETURNS: Err_mat\n",
    "    --------------------------------------------------------------------\n",
    "    '''\n",
    "    R = 2\n",
    "    N = len(pts)\n",
    "    Err_mat = np.zeros((R, N))\n",
    "    mean_model, var_model = model_moments(mu, sigma, cut_lb, cut_ub)\n",
    "    if simple:\n",
    "        Err_mat[0, :] = pts - mean_model\n",
    "        Err_mat[1, :] = ((mean_data - pts) ** 2) - var_model\n",
    "    else:\n",
    "        Err_mat[0, :] = (pts - mean_model) / mean_model\n",
    "        Err_mat[1, :] = (((mean_data - pts) ** 2) - var_model) / var_model\n",
    "    \n",
    "    return Err_mat"
   ]
  },
  {
   "cell_type": "code",
   "execution_count": null,
   "metadata": {},
   "outputs": [],
   "source": [
    "Err_mat = get_Err_mat2(pts, mu_GMM1, sig_GMM1, 0.0, 450.0, False)\n",
    "VCV2 = (1 / pts.shape[0]) * (Err_mat @ Err_mat.T)\n",
    "print(VCV2)\n",
    "W_hat2 = lin.inv(VCV2)\n",
    "print(W_hat2)"
   ]
  },
  {
   "cell_type": "code",
   "execution_count": null,
   "metadata": {},
   "outputs": [],
   "source": [
    "# Note that this takes a little time because the intgr.quad() commands\n",
    "# are a little slow\n",
    "mu_init = 400\n",
    "sig_init = 60\n",
    "params_init = np.array([mu_GMM1, sig_GMM1])\n",
    "# W_hat3 = np.array([[1. / VCV2[0, 0], 0.], [0., 1. / VCV2[1, 1]]])\n",
    "gmm_args = (pts, 0.0, 450.0, W_hat2)\n",
    "results = opt.minimize(criterion, params_init, args=(gmm_args),\n",
    "                       method='L-BFGS-B', bounds=((1e-10, None), (1e-10, None)))\n",
    "mu_GMM2, sig_GMM2 = results.x\n",
    "print('mu_GMM2=', mu_GMM2, ' sig_GMM2=', sig_GMM2)"
   ]
  },
  {
   "cell_type": "markdown",
   "metadata": {},
   "source": [
    "Look at how much smaller (more efficient) the estimated standard errors are in this case with the two-step optimal weighting matrix $\\hat{W}_{2step}$."
   ]
  },
  {
   "cell_type": "code",
   "execution_count": null,
   "metadata": {},
   "outputs": [],
   "source": [
    "d_err2_2 = Jac_err2(pts, mu_GMM2, sig_GMM2, 0.0, 450.0, False)\n",
    "print(d_err2_2)\n",
    "print(W_hat2)\n",
    "SigHat2_2 = (1 / N) * lin.inv(d_err2.T @ W_hat2 @ d_err2)\n",
    "print(SigHat2_2)\n",
    "print('Std. err. mu_hat=', np.sqrt(SigHat2_2[0, 0]))\n",
    "print('Std. err. sig_hat=', np.sqrt(SigHat2_2[1, 1]))"
   ]
  },
  {
   "cell_type": "markdown",
   "metadata": {},
   "source": [
    "#### 5.1.3. Four moments, identity weighting matrix\n",
    "Using a better weighting matrix didn't improve our estimates or fit very much it did improve the standard errors of our estimates. To get the right fit, we might need to choose different moments. Let's try an overidentified model $K<R$, where we estimate $\\mu$ and $\\sigma$ of the truncated normal distribution $K=2$ using the following four moments $R=4$.\n",
    "\n",
    "1. The percent of observations greater than 430 (between 430 and 450)\n",
    "2. The percent of observations between 320 and 430\n",
    "3. The percent of observations between 220 and 320\n",
    "4. The percent of observations less than 220 (between 0 and 220)"
   ]
  },
  {
   "cell_type": "code",
   "execution_count": null,
   "metadata": {},
   "outputs": [],
   "source": [
    "def data_moments4(xvals):\n",
    "    '''\n",
    "    --------------------------------------------------------------------\n",
    "    This function computes the four data moments for GMM\n",
    "    (binpct_1, binpct_2, binpct_3, binpct_4).\n",
    "    --------------------------------------------------------------------\n",
    "    INPUTS:\n",
    "    xvals = (N,) vector, test scores data\n",
    "\n",
    "    OTHER FUNCTIONS AND FILES CALLED BY THIS FUNCTION: None\n",
    "\n",
    "    OBJECTS CREATED WITHIN FUNCTION:\n",
    "    bpct_1_dat = scalar in [0, 1], percent of observations\n",
    "                 0 <= x < 220\n",
    "    bpct_2_dat = scalar in [0, 1], percent of observations\n",
    "                 220 <= x < 320\n",
    "    bpct_3_dat = scalar in [0, 1], percent of observations\n",
    "                 320 <= x < 430\n",
    "    bpct_4_dat = scalar in [0, 1], percent of observations\n",
    "                 430 <= x <= 450\n",
    "\n",
    "    FILES CREATED BY THIS FUNCTION: None\n",
    "\n",
    "    RETURNS: bpct_1, bpct_2, bpct_3, bpct_4\n",
    "    --------------------------------------------------------------------\n",
    "    '''\n",
    "    bpct_1_dat = xvals[xvals < 220].shape[0] / xvals.shape[0]\n",
    "    bpct_2_dat = (xvals[(xvals >=220) & (xvals < 320)].shape[0] /\n",
    "                  xvals.shape[0])\n",
    "    bpct_3_dat = (xvals[(xvals >=320) & (xvals < 430)].shape[0] /\n",
    "                  xvals.shape[0])\n",
    "    bpct_4_dat = xvals[xvals >= 430].shape[0] / xvals.shape[0]\n",
    "\n",
    "    return bpct_1_dat, bpct_2_dat, bpct_3_dat, bpct_4_dat\n",
    "\n",
    "\n",
    "def model_moments4(mu, sigma, cut_lb, cut_ub):\n",
    "    '''\n",
    "    --------------------------------------------------------------------\n",
    "    This function computes the four model moments for GMM\n",
    "    (binpct_1, binpct_2, binpct_3, binpct_4).\n",
    "    --------------------------------------------------------------------\n",
    "    INPUTS:\n",
    "    mu     = scalar, mean of the normally distributed random variable\n",
    "    sigma  = scalar > 0, standard deviation of the normally distributed\n",
    "             random variable\n",
    "    cut_lb = scalar or string, ='None' if no cutoff is given, otherwise\n",
    "             is scalar lower bound value of distribution. Values below\n",
    "             this value have zero probability\n",
    "    cut_ub = scalar or string, ='None' if no cutoff is given, otherwise\n",
    "             is scalar upper bound value of distribution. Values above\n",
    "             this value have zero probability\n",
    "    \n",
    "    OTHER FUNCTIONS AND FILES CALLED BY THIS FUNCTION:\n",
    "        trunc_norm_pdf()\n",
    "        xfx()\n",
    "    \n",
    "    OBJECTS CREATED WITHIN FUNCTION:\n",
    "    bpct_1_mod = scalar in [0, 1], percent of model observations in\n",
    "                 bin 1\n",
    "    bp_1_err   = scalar > 0, estimated error in the computation of the\n",
    "                 integral for bpct_1_mod\n",
    "    bpct_2_mod = scalar in [0, 1], percent of model observations in\n",
    "                 bin 2\n",
    "    bp_2_err   = scalar > 0, estimated error in the computation of the\n",
    "                 integral for bpct_2_mod\n",
    "    bpct_3_mod = scalar in [0, 1], percent of model observations in\n",
    "                 bin 3\n",
    "    bp_3_err   = scalar > 0, estimated error in the computation of the\n",
    "                 integral for bpct_3_mod\n",
    "    bpct_4_mod = scalar in [0, 1], percent of model observations in\n",
    "                 bin 4\n",
    "    bp_4_err   = scalar > 0, estimated error in the computation of the\n",
    "                 integral for bpct_4_mod\n",
    "    \n",
    "    FILES CREATED BY THIS FUNCTION: None\n",
    "    \n",
    "    RETURNS: bpct_1_mod, bpct_2_mod, bpct_3_mod, bpct_4_mod\n",
    "    --------------------------------------------------------------------\n",
    "    '''\n",
    "    xfx = lambda x: trunc_norm_pdf(x, mu, sigma, cut_lb, cut_ub)\n",
    "    (bpct_1_mod, bp_1_err) = intgr.quad(xfx, 0.0, 220)\n",
    "    (bpct_2_mod, bp_2_err) = intgr.quad(xfx, 220, 320)\n",
    "    (bpct_3_mod, bp_3_err) = intgr.quad(xfx, 320, 430)\n",
    "    (bpct_4_mod, bp_4_err) = intgr.quad(xfx, 430, 450)\n",
    "    \n",
    "    return bpct_1_mod, bpct_2_mod, bpct_3_mod, bpct_4_mod\n",
    "\n",
    "\n",
    "def err_vec4(xvals, mu, sigma, cut_lb, cut_ub, simple):\n",
    "    '''\n",
    "    --------------------------------------------------------------------\n",
    "    This function computes the vector of moment errors (in percent\n",
    "    deviation from the data moment vector) for GMM.\n",
    "    --------------------------------------------------------------------\n",
    "    INPUTS:\n",
    "    xvals  = (N,) vector, test scores data\n",
    "    mu     = scalar, mean of the normally distributed random variable\n",
    "    sigma  = scalar > 0, standard deviation of the normally distributed\n",
    "             random variable\n",
    "    cut_lb = scalar or string, ='None' if no cutoff is given, otherwise\n",
    "             is scalar lower bound value of distribution. Values below\n",
    "             this value have zero probability\n",
    "    cut_ub = scalar or string, ='None' if no cutoff is given, otherwise\n",
    "             is scalar upper bound value of distribution. Values above\n",
    "             this value have zero probability\n",
    "    simple = boolean, =True if errors are simple difference, =False if\n",
    "             errors are percent deviation from data moments\n",
    "    \n",
    "    OTHER FUNCTIONS AND FILES CALLED BY THIS FUNCTION:\n",
    "        data_moments4()\n",
    "        model_moments4()\n",
    "    \n",
    "    OBJECTS CREATED WITHIN FUNCTION:\n",
    "    mean_data  = scalar, mean value of data\n",
    "    var_data   = scalar > 0, variance of data\n",
    "    moms_data  = (2, 1) matrix, column vector of two data moments\n",
    "    mean_model = scalar, mean value from model\n",
    "    var_model  = scalar > 0, variance from model\n",
    "    moms_model = (2, 1) matrix, column vector of two model moments\n",
    "    err_vec    = (2, 1) matrix, column vector of two moment error\n",
    "                 functions\n",
    "    \n",
    "    FILES CREATED BY THIS FUNCTION: None\n",
    "    \n",
    "    RETURNS: err_vec\n",
    "    --------------------------------------------------------------------\n",
    "    '''\n",
    "    bpct_1_dat, bpct_2_dat, bpct_3_dat, bpct_4_dat = \\\n",
    "        data_moments4(xvals)\n",
    "    moms_data = np.array([[bpct_1_dat], [bpct_2_dat], [bpct_3_dat],\n",
    "                          [bpct_4_dat]])\n",
    "    bpct_1_mod, bpct_2_mod, bpct_3_mod, bpct_4_mod = \\\n",
    "        model_moments4(mu, sigma, cut_lb, cut_ub)\n",
    "    moms_model = np.array([[bpct_1_mod], [bpct_2_mod], [bpct_3_mod],\n",
    "                          [bpct_4_mod]])\n",
    "    if simple:\n",
    "        err_vec = moms_model - moms_data\n",
    "    else:\n",
    "        err_vec = (moms_model - moms_data) / moms_data\n",
    "    \n",
    "    return err_vec\n",
    "\n",
    "\n",
    "def criterion4(params, *args):\n",
    "    '''\n",
    "    --------------------------------------------------------------------\n",
    "    This function computes the GMM weighted sum of squared moment errors\n",
    "    criterion function value given parameter values and an estimate of\n",
    "    the weighting matrix.\n",
    "    --------------------------------------------------------------------\n",
    "    INPUTS:\n",
    "    params = (2,) vector, ([mu, sigma])\n",
    "    mu     = scalar, mean of the normally distributed random variable\n",
    "    sigma  = scalar > 0, standard deviation of the normally distributed\n",
    "             random variable\n",
    "    args   = length 3 tuple, (xvals, cutoff, W_hat)\n",
    "    xvals  = (N,) vector, values of the truncated normally distributed\n",
    "             random variable\n",
    "    cut_lb = scalar or string, ='None' if no cutoff is given, otherwise\n",
    "             is scalar lower bound value of distribution. Values below\n",
    "             this value have zero probability\n",
    "    cut_ub = scalar or string, ='None' if no cutoff is given, otherwise\n",
    "             is scalar upper bound value of distribution. Values above\n",
    "             this value have zero probability\n",
    "    W_hat  = (R, R) matrix, estimate of optimal weighting matrix\n",
    "    \n",
    "    OTHER FUNCTIONS AND FILES CALLED BY THIS FUNCTION:\n",
    "        err_vec4()\n",
    "    \n",
    "    OBJECTS CREATED WITHIN FUNCTION:\n",
    "    err        = (4, 1) matrix, column vector of four moment error\n",
    "                 functions\n",
    "    crit_val   = scalar > 0, GMM criterion function value\n",
    "    \n",
    "    FILES CREATED BY THIS FUNCTION: None\n",
    "    \n",
    "    RETURNS: crit_val\n",
    "    --------------------------------------------------------------------\n",
    "    '''\n",
    "    mu, sigma = params\n",
    "    xvals, cut_lb, cut_ub, W = args\n",
    "    err = err_vec4(xvals, mu, sigma, cut_lb, cut_ub, simple=False)\n",
    "    crit_val = err.T @ W @ err \n",
    "    \n",
    "    return crit_val"
   ]
  },
  {
   "cell_type": "markdown",
   "metadata": {},
   "source": [
    "Let's see what the model moments would be relative to the data moments with the first GMM estimates $mu\\approx 620$ and $\\sigma\\approx 198$ from the previous 2-moment estimation. Let's also look at the resulting criterion function at those values."
   ]
  },
  {
   "cell_type": "code",
   "execution_count": null,
   "metadata": {},
   "outputs": [],
   "source": [
    "params = np.array([mu_GMM1, sig_GMM1])\n",
    "print('params=', params)\n",
    "print(data_moments4(pts))\n",
    "print(model_moments4(mu_GMM1, sig_GMM1, 0.0, 450))\n",
    "print(criterion4(params, pts, 0.0, 450.0, np.eye(4)))"
   ]
  },
  {
   "cell_type": "code",
   "execution_count": null,
   "metadata": {},
   "outputs": [],
   "source": [
    "# Note that this takes a little time because the intgr.quad() commands\n",
    "# are a little slow\n",
    "mu_init = 400\n",
    "sig_init = 70\n",
    "params_init = np.array([mu_init, sig_init])\n",
    "W_hat1_4 = np.eye(4)\n",
    "gmm_args = (pts, 0.0, 450.0, W_hat1_4)\n",
    "results_4 = opt.minimize(criterion4, params_init, args=(gmm_args),\n",
    "                       method='L-BFGS-B', bounds=((1e-10, None), (1e-10, None)))\n",
    "mu_GMM1_4, sig_GMM1_4 = results_4.x\n",
    "print('mu_GMM1_4=', mu_GMM1_4, ' sig_GMM1_4=', sig_GMM1_4)"
   ]
  },
  {
   "cell_type": "code",
   "execution_count": null,
   "metadata": {},
   "outputs": [],
   "source": [
    "params = np.array([mu_GMM1_4, sig_GMM1_4])\n",
    "print('params=', params)\n",
    "print(data_moments4(pts))\n",
    "print(model_moments4(mu_GMM1_4, sig_GMM1_4, 0.0, 450))\n",
    "print(criterion4(params, pts, 0.0, 450.0, W_hat1_4))"
   ]
  },
  {
   "cell_type": "code",
   "execution_count": null,
   "metadata": {},
   "outputs": [],
   "source": [
    "params2 = np.array([400, 70])\n",
    "print('params=', params)\n",
    "print(data_moments4(pts))\n",
    "print(model_moments4(400, 70, 0.0, 450))\n",
    "print(criterion4(params2, pts, 0.0, 450.0, W_hat1_4))"
   ]
  },
  {
   "cell_type": "code",
   "execution_count": null,
   "metadata": {},
   "outputs": [],
   "source": [
    "# Plot the histogram of the data\n",
    "count, bins, ignored = plt.hist(pts, num_bins, density=True,\n",
    "                                edgecolor='k')\n",
    "plt.title('Econ 381 scores: 2011-2012', fontsize=20)\n",
    "plt.xlabel(r'Total points')\n",
    "plt.ylabel(r'Percent of scores')\n",
    "plt.xlim([0, 550])  # This gives the xmin and xmax to be plotted\"\n",
    "\n",
    "# Plot the estimated GMM PDF\n",
    "dist_pts = np.linspace(0, 450, 500)\n",
    "plt.plot(dist_pts, trunc_norm_pdf(dist_pts, mu_GMM1_4, sig_GMM1_4, 0.0, 450),\n",
    "         linewidth=2, color='k', label='1: $\\mu_{GMM1}$,$\\sigma_{GMM1}$')\n",
    "\n",
    "# Plot the estimated GMM PDF\n",
    "dist_pts = np.linspace(0, 450, 500)\n",
    "plt.plot(dist_pts, trunc_norm_pdf(dist_pts, 400, 70, 0.0, 450),\n",
    "         linewidth=2, color='g', label='1: $\\mu=400$,$\\sigma=70$')\n",
    "plt.legend(loc='upper left')"
   ]
  },
  {
   "cell_type": "markdown",
   "metadata": {},
   "source": [
    "We can compute the estimator of the variance-covariance matrix $\\hat{\\Sigma}$ of the GMM parameter estimator by computing the Jacobian of the error vector. In this case, the Jacobian $d(x|\\theta)$ is $R\\times K = 4\\times 2$."
   ]
  },
  {
   "cell_type": "code",
   "execution_count": null,
   "metadata": {},
   "outputs": [],
   "source": [
    "def Jac_err4(xvals, mu, sigma, cut_lb, cut_ub, simple=False):\n",
    "    '''\n",
    "    This function computes the Jacobian matrix of partial derivatives of the R x 1 moment\n",
    "    error vector e(x|theta) with respect to the K parameters theta_i in the K x 1 parameter vector\n",
    "    theta. The resulting matrix is R x K Jacobian.\n",
    "    '''\n",
    "    Jac_err = np.zeros((4, 2))\n",
    "    h_mu = 1e-8 * mu\n",
    "    h_sig = 1e-8 * sigma\n",
    "    Jac_err[:, 0] = \\\n",
    "        ((err_vec4(xvals, mu + h_mu, sigma, cut_lb, cut_ub, simple) -\n",
    "          err_vec4(xvals, mu - h_mu, sigma, cut_lb, cut_ub, simple)) / (2 * h_mu)).flatten()\n",
    "    Jac_err[:, 1] = \\\n",
    "        ((err_vec4(xvals, mu, sigma + h_sig, cut_lb, cut_ub, simple) -\n",
    "          err_vec4(xvals, mu, sigma - h_sig, cut_lb, cut_ub, simple)) / (2 * h_sig)).flatten()\n",
    "    \n",
    "    return Jac_err"
   ]
  },
  {
   "cell_type": "code",
   "execution_count": null,
   "metadata": {},
   "outputs": [],
   "source": [
    "d_err4 = Jac_err4(pts, mu_GMM1_4, sig_GMM1_4, 0.0, 450.0, False)\n",
    "print(d_err4)\n",
    "print(W_hat1_4)\n",
    "SigHat4 = (1 / N) * lin.inv(d_err4.T @ W_hat1_4 @ d_err4)\n",
    "print(SigHat4)\n",
    "print('Std. err. mu_hat=', np.sqrt(SigHat4[0, 0]))\n",
    "print('Std. err. sigma_hat=', np.sqrt(SigHat4[1, 1]))"
   ]
  },
  {
   "cell_type": "markdown",
   "metadata": {},
   "source": [
    "Note how much tighter the standard errors are here with these four moments than they were in the econometric models of Sections 5.1.1 and 5.1.2 with two moments."
   ]
  },
  {
   "cell_type": "markdown",
   "metadata": {},
   "source": [
    "#### 5.1.4. Four moments, two-step optimal weighting matrix\n",
    "Let's see how much things change if we use the two-step estimator for the optimal weighting matrix $W$ instead of the identity matrix."
   ]
  },
  {
   "cell_type": "code",
   "execution_count": null,
   "metadata": {},
   "outputs": [],
   "source": [
    "def get_Err_mat4(pts, mu, sigma, cut_lb, cut_ub, simple=False):\n",
    "    '''\n",
    "    --------------------------------------------------------------------\n",
    "    This function computes the R x N matrix of errors from each\n",
    "    observation for each moment. In this function, we have hard coded\n",
    "    R = 4.\n",
    "    --------------------------------------------------------------------\n",
    "    INPUTS:\n",
    "    xvals  = (N,) vector, test scores data\n",
    "    mu     = scalar, mean of the normally distributed random variable\n",
    "    sigma  = scalar > 0, standard deviation of the normally distributed\n",
    "             random variable\n",
    "    cut_lb = scalar or string, ='None' if no cutoff is given, otherwise\n",
    "             is scalar lower bound value of distribution. Values below\n",
    "             this value have zero probability\n",
    "    cut_ub = scalar or string, ='None' if no cutoff is given, otherwise\n",
    "             is scalar upper bound value of distribution. Values above\n",
    "             this value have zero probability\n",
    "    simple = boolean, =True if errors are simple difference, =False if\n",
    "             errors are percent deviation from data moments\n",
    "    \n",
    "    OTHER FUNCTIONS AND FILES CALLED BY THIS FUNCTION:\n",
    "        model_moments()\n",
    "    \n",
    "    OBJECTS CREATED WITHIN FUNCTION:\n",
    "    R          = 2, hard coded number of moments\n",
    "    N          = integer >= R, number of data observations\n",
    "    Err_mat    = (R, N) matrix, error by moment and observation data\n",
    "    mean_model = scalar, mean value from model\n",
    "    var_model  = scalar > 0, variance from model\n",
    "    \n",
    "    FILES CREATED BY THIS FUNCTION: None\n",
    "    \n",
    "    RETURNS: Err_mat\n",
    "    --------------------------------------------------------------------\n",
    "    '''\n",
    "    R = 4\n",
    "    N = len(pts)\n",
    "    Err_mat = np.zeros((R, N))\n",
    "    pct_1_mod, pct_2_mod, pct_3_mod, pct_4_mod = \\\n",
    "        model_moments4(mu, sigma, cut_lb, cut_ub)\n",
    "    if simple:\n",
    "        pts_in_grp1 = pts < 220\n",
    "        Err_mat[0, :] = pts_in_grp1 - pct_1_mod\n",
    "        pts_in_grp2 = (pts >= 220) & (pts < 320)\n",
    "        Err_mat[1, :] = pts_in_grp2 - pct_2_mod\n",
    "        pts_in_grp3 = (pts >= 320) & (pts < 430)\n",
    "        Err_mat[2, :] = pts_in_grp3 - pct_3_mod\n",
    "        pts_in_grp4 = pts >= 430\n",
    "        Err_mat[3, :] = pts_in_grp4 - pct_4_mod\n",
    "    else:\n",
    "        pts_in_grp1 = pts < 220\n",
    "        Err_mat[0, :] = (pts_in_grp1 - pct_1_mod) / pct_1_mod\n",
    "        pts_in_grp2 = (pts >= 220) & (pts < 320)\n",
    "        Err_mat[1, :] = (pts_in_grp2 - pct_2_mod) / pct_2_mod\n",
    "        pts_in_grp3 = (pts >= 320) & (pts < 430)\n",
    "        Err_mat[2, :] = (pts_in_grp3 - pct_3_mod) / pct_3_mod\n",
    "        pts_in_grp4 = pts >= 430\n",
    "        Err_mat[3, :] = (pts_in_grp4 - pct_4_mod) / pct_4_mod\n",
    "    \n",
    "    return Err_mat"
   ]
  },
  {
   "cell_type": "code",
   "execution_count": null,
   "metadata": {},
   "outputs": [],
   "source": [
    "Err_mat4 = get_Err_mat4(pts, mu_GMM1_4, sig_GMM1_4, 0.0, 450.0, True)\n",
    "VCV2_4 = (1 / pts.shape[0]) * (Err_mat4 @ Err_mat4.T)\n",
    "print(VCV2_4)\n",
    "# We use the pseudo-inverse command here because the VCV matrix is poorly conditioned\n",
    "W_hat2_4 = lin.pinv(VCV2_4)\n",
    "print(W_hat2_4)"
   ]
  },
  {
   "cell_type": "code",
   "execution_count": null,
   "metadata": {},
   "outputs": [],
   "source": [
    "# Note that this takes a little time because the intgr.quad() commands\n",
    "# are a little slow\n",
    "mu_init = 600\n",
    "sig_init = 196\n",
    "params_init = np.array([mu_GMM1_4, sig_GMM1_4])\n",
    "gmm_args = (pts, 0.0, 450.0, W_hat2_4)\n",
    "results2_4 = opt.minimize(criterion4, params_init, args=(gmm_args),\n",
    "                          method='L-BFGS-B', bounds=((1e-10, None), (1e-10, None)))\n",
    "mu_GMM2_4, sig_GMM2_4 = results2_4.x\n",
    "print('mu_GMM2_4=', mu_GMM2_4, ' sig_GMM2_4=', sig_GMM2_4)\n",
    "results2_4"
   ]
  },
  {
   "cell_type": "markdown",
   "metadata": {},
   "source": [
    "In this case, the two-step estimator of the optimal weighting matrix creates a small change in the estimated $\\mu$ and $\\sigma$ paramters to $(\\mu=364,\\sigma=111)$ from $(\\mu=362,\\sigma=92)$ in the identity matrix estimation. The criterion function for different values of $\\mu$ and $\\sigma$ here has a clear minimum in a certain area. But it also has some really interesting nonlinearities."
   ]
  },
  {
   "cell_type": "code",
   "execution_count": null,
   "metadata": {},
   "outputs": [],
   "source": [
    "%matplotlib notebook\n",
    "# Note that this will take a few minutes because the intgr.quad() commands\n",
    "# are a little slow\n",
    "mu_vals = np.linspace(355, 370, 50)\n",
    "sig_vals = np.linspace(85, 120, 50)\n",
    "# mu_vals = np.linspace(60, 700, 50)\n",
    "# sig_vals = np.linspace(20, 200, 50)\n",
    "crit_vals4 = np.zeros((50, 50))\n",
    "for mu_ind in range(50):\n",
    "    for sig_ind in range(50):\n",
    "        crit_vals4[mu_ind, sig_ind] = \\\n",
    "            criterion4(np.array([mu_vals[mu_ind], sig_vals[sig_ind]]),\n",
    "                       pts, 0.0, 450.0, W_hat2_4)\n",
    "\n",
    "mu_mesh, sig_mesh = np.meshgrid(mu_vals, sig_vals)\n",
    "\n",
    "fig = plt.figure()\n",
    "ax = fig.gca(projection='3d')\n",
    "ax.plot_surface(sig_mesh, mu_mesh, crit_vals4, rstride=8,\n",
    "                cstride=1, cmap=cmap1)\n",
    "ax.set_title('Criterion function for values of mu and sigma')\n",
    "ax.set_xlabel(r'$\\sigma$')\n",
    "ax.set_ylabel(r'$\\mu$')\n",
    "ax.set_zlabel(r'Crit. func.')"
   ]
  },
  {
   "cell_type": "markdown",
   "metadata": {},
   "source": [
    "We can compute the estimator of the variance-covariance matrix $\\hat{\\Sigma}$ of the GMM parameter estimator by computing the Jacobian of the error vector."
   ]
  },
  {
   "cell_type": "code",
   "execution_count": null,
   "metadata": {},
   "outputs": [],
   "source": [
    "d_err4_2 = Jac_err4(pts, mu_GMM2_4, sig_GMM2_4, 0.0, 450.0, False)\n",
    "print(d_err4_2)\n",
    "print(W_hat2_4)\n",
    "SigHat4_2 = (1 / N) * lin.inv(d_err4_2.T @ W_hat2_4 @ d_err4_2)\n",
    "print(SigHat4_2)\n",
    "print('Std. err. mu_hat=', np.sqrt(SigHat4_2[0, 0]))\n",
    "print('Std. err. sigma_hat=', np.sqrt(SigHat4_2[1, 1]))"
   ]
  },
  {
   "cell_type": "markdown",
   "metadata": {},
   "source": [
    "Note how much smaller (more efficient) the estimated standard errors are in this case with the two-step optimal weighting matrix $\\hat{W}_{2step}$: $(1.65, 1.49)$ versus $(3.78, 3.24)$."
   ]
  },
  {
   "cell_type": "markdown",
   "metadata": {},
   "source": [
    "### 5.2. Unconditional and conditional expectations, instruments, and moments\n",
    "Most standard treatments of the generalized method of moments estimator in econometrics textbooks start with this principle and this selection of moments. However, this notebook follows the progression of starting with the most general treatment of GMM and then covering these special cases.\n",
    "\n",
    "In stochastic models, the assumed data generating process might have one or more characterizing equations that involve an unconditional expectation. The unconditional expectation is a strong assumption with many implications on conditional expectations that can create moments for identifying parameters using GMM. In econometric models, these unconditional expectations often show up as an assumption on the error term of one or more of the equations. Note that this is a minimal assumption and does not require knowledge of the distribution of the error term.\n",
    "\n",
    "$$ y_i = \\beta_0 + \\beta_1 x_{1,i} + \\beta_2 x_{2,i} + \\varepsilon_i \\quad\\text{where}\\quad E\\left[\\varepsilon_i\\right] = 0 $$\n",
    "\n",
    "In a macroeconomic model like the Brock and Mirman (1972) model, unconditional expectations show up in two places. The first is in the Euler equation, which is the first equation below. And the second is on the error term in the law of motion for the productivity shock, which is the last equation below.\n",
    "\n",
    "$$ \\quad\\left(c_t\\right)^{-1} = \\beta E\\left[r_{t+1}\\left(c_{t+1}\\right)^{-1}\\right] $$\n",
    "$$ c_t + k_{t+1} = r_{t+1}k_t + w_t $$\n",
    "$$ \\quad w_t = (1 - \\alpha)e^{z_t}k_{t}^\\alpha $$\n",
    "$$ r_t = \\alpha e^{z_t}k_{t}^{\\alpha-1} $$\n",
    "$$ \\qquad\\qquad\\qquad\\qquad\\qquad\\qquad z_{t} = \\rho z_{t-1} + (1 - \\rho)\\mu + \\varepsilon_t \\quad\\text{where}\\quad E[\\varepsilon_t]=0 $$\n",
    "\n",
    "It is valuable to note first that these unconditional expectations imply minimal restrictions on the stochastic distributions in the model. They only imply a restriction on the first moments of those particular parts of the distributions. Furthermore, because they are unconditional distributions (which is a strong assumption), they also imply restrictions on conditional distributions."
   ]
  },
  {
   "cell_type": "markdown",
   "metadata": {},
   "source": [
    "Let $\\mathcal{I}$ be the set of variables that are in the information set of the model at the time the expectations operator in the model is formed. Let $w\\in\\mathcal{I}$ be the typical element (variable) in the information set. In a cross sectional econometric model, the variables in the information set are $w\\in\\mathcal{I}$ that could possibly be related to the dependent variable $y$ and were determined at the time the expectation was formed. In dynamic models or time series models, variables in the information set include any variables that were determined on or before the period in which the expectation was formed.\n",
    "\n",
    "The following sequence shows how an unconditional expectation can lead to moments that can identify parameters.\n",
    "\n",
    "$$ E[x] = 0 \\Rightarrow E[x|\\mathcal{I}] = 0 \\Rightarrow Cov[x,w] = 0 \\Rightarrow E[xw] = 0 $$\n",
    "\n",
    "The first equation states that the unconditional expectation of $x$ is zero. This implies that the conditional expectation of $x$ given anything else in the information set is also zero. This, in turn, implies that the covariance of $x$ and any element $w$ of the information set is zero so that the expectation of $x$ times $w$ is zero. It is this last equation that generates many of the moments used to identify parameters in GMM. Any variable in the instrument set $w\\in\\mathcal{I}$ can generate a moment condition."
   ]
  },
  {
   "cell_type": "markdown",
   "metadata": {},
   "source": [
    "#### 5.2.1. Econometric (linear regression) GMM example using unconditional expectation for moments\n",
    "In the econometric model example above, there are three parameters to be estimated $(\\beta_0, \\beta_1, \\beta_2)$. We need at least three independent moments to identify these parameters. The first moment we can use is the assumption that the unconditional expectation of the error terms is zero. This has an empirical counterpart that the sample mean of the error terms should be zero.\n",
    "\n",
    "$$ \\text{(Theoretical moment 1)}\\quad E[\\varepsilon_i] = 0 \\quad\\Rightarrow\\quad E\\left[y_i - \\beta_0 - \\beta_1 x_{1,i} - \\beta_2 x_{2,i}\\right]=0 $$\n",
    "$$ \\text{(Empirical moment 1)}\\qquad\\qquad\\qquad\\:\\:\\: \\frac{1}{N}\\sum_{i=1}^N\\left[y_i - \\beta_0 - \\beta_1 x_{1,i} - \\beta_2 x_{2,i}\\right]=0 $$\n",
    "\n",
    "The next two moments are formed from the implications that the unconditional expectation on the errors implies that the expected value of the product of the error and any other variable in the information set is also zero.\n",
    "\n",
    "$$ \\text{(Theoretical moment 2)}\\quad E[\\varepsilon_i x_{1,i}] = 0 \\quad\\Rightarrow\\quad E\\Bigl[\\left(y_i - \\beta_0 - \\beta_1 x_{1,i} - \\beta_2 x_{2,i}\\right)x_{1,i}\\Bigr]=0 $$\n",
    "$$ \\text{(Empirical moment 2)}\\qquad\\qquad\\qquad\\qquad \\frac{1}{N}\\sum_{i=1}^N\\Bigl[\\left(y_i - \\beta_0 - \\beta_1 x_{1,i} - \\beta_2 x_{2,i}\\right)x_{1,i}\\Bigr]=0 $$\n",
    "\n",
    "$$ \\text{(Theoretical moment 3)}\\quad E[\\varepsilon_i x_{2,i}] = 0 \\quad\\Rightarrow\\quad E\\Bigl[\\left(y_i - \\beta_0 - \\beta_1 x_{1,i} - \\beta_2 x_{2,i}\\right)x_{2,i}\\Bigr]=0 $$\n",
    "$$ \\text{(Empirical moment 3)}\\qquad\\qquad\\qquad\\qquad \\frac{1}{N}\\sum_{i=1}^N\\Bigl[\\left(y_i - \\beta_0 - \\beta_1 x_{1,i} - \\beta_2 x_{2,i}\\right)x_{2,i}\\Bigr]=0 $$"
   ]
  },
  {
   "cell_type": "markdown",
   "metadata": {},
   "source": [
    "#### 5.2.2. Brock and Mirman (1972) estimation by GMM using unconditional expectations for moments\n",
    "Give Brock and Mirman (1972) example. This is currently a problem set.\n",
    "\n",
    "Cite Hansen and Singleton (1982) example."
   ]
  },
  {
   "cell_type": "markdown",
   "metadata": {},
   "source": [
    "## 6. Identification\n",
    "An issue that we saw in the examples from Section 5 is that there is some science as well as some art in choosing moments to identify the parameters in a GMM estimation.\n",
    "\n",
    "* The $\\mu$ and $\\sigma$ parameters were identified more precisely when using the two-step estimator of the optimal weighting matrix instead of the identity matrix.\n",
    "* The overidentified four-moment model of total scores produced much smaller standard errors for both $\\mu$ and $\\sigma$ than did the two-moment model.\n",
    "\n",
    "Suppose the parameter vector $\\theta$ has $K$ elements, or rather, $K$ parameters to be estimated. In order to estimate $\\theta$ by GMM, you must have at least as many moments as parameters to estimate $R\\geq K$. If you have exactly as many moments as parameters to be estimated $R=K$, the model is said to be *exactly identified*. If you have more moments than parameters to be estimated $R>K$, the model is said to be *overidentified*. If you have fewer moments than parameters to be estimated $R<K$, the model is said to be *underidentified*. There are good reasons to overidentify $R>K$ the model in GMM estimation as we saw in the previous example. The main reason is that not all moments are orthogonal. That is, some moments convey roughly the same information about the data and, therefore, do not separately identify any extra parameters. So a good GMM model often is overidentified $R>K$.\n",
    "\n",
    "One last point about GMM regards moment selection and verification of results. The real world has an infinite supply of potential moments that describe some part of the data. Choosing moments to estimate parameters by GMM requires understanding of the model, intuition about its connections to the real world, and artistry. A good GMM estimation will include moments that have some relation to or story about their connection to particular parameters of the model to be estimated. In addition, a good verification of a GMM estimation is to take some moment from the data that was not used in the estimation and see how well the corresponding moment from the estimated model matches that *outside moment*."
   ]
  },
  {
   "cell_type": "markdown",
   "metadata": {},
   "source": [
    "## 7. Linear regression by GMM and relation to OLS\n",
    "The most common method of estimating the parameters of a linear regression is using the ordinary least squares (OLS) estimator. This estimator is just special type of generalized method of moments (GMM) estimator. A simple regression specification in which the dependent variable $y_i$ is a linear function of two independent variables $x_{1,i}$ and $x_{2,i}$ is the following:\n",
    "\n",
    "$$ y_i = \\beta_0 + \\beta_1 x_{1,i} + \\beta_2 x_{2,i} + \\varepsilon_i \\quad\\text{where}\\quad \\varepsilon_i\\sim N\\left(0,\\sigma^2\\right) $$\n",
    "\n",
    "Note that we can solve for the parameters $(\\beta_0,\\beta_1,\\beta_2)$ in a number of ways. And we can do it without making any assumptions about the distribution of the error terms $\\varepsilon_i$.\n",
    "\n",
    "One way we might choose the parameters is to choose $(\\beta_0,\\beta_1,\\beta_2)$ to minimize the distance between the $N$ observations of $y_i$ and the $N$ predicted values for $y_i$ given by $\\beta_0 + \\beta_1 x_{1,i} + \\beta_2 x_{2,i}$. You can think of the $N$ observations of $y_i$ as $N$ data moments. And you can think of the $N$ observations of $\\beta_0 + \\beta_1 x_{1,i} + \\beta_2 x_{2,i}$ as $N$ model moments. The least squares estimator minimizes the sum of squared errors, which is the sum of squared deviations between the $N$ values of $y_i$ and  $\\beta_0 + \\beta_1 x_{1,i} + \\beta_2 x_{2,i}$.\n",
    "\n",
    "$$ \\varepsilon_i = y_i - \\beta_0 - \\beta_1 x_{1,i} - \\beta_2 x_{2,i} $$\n",
    "\n",
    "$$ \\hat{\\theta}_{OLS} = \\theta:\\quad \\min_{\\theta} \\varepsilon^T\\, I \\, \\varepsilon $$\n",
    "\n",
    "Let the $N\\times 1$ vector of $y_i$'s be $Y$. Let the $N\\times 3$ vector of data $(1, x_{1,i}, x_{2,i})$ be $X$. And let the vector of three parameters $(\\beta_0, \\beta_1, \\beta_2)$ be $\\beta$. It can be shown that the OLS estimator for the vector of parameters $\\beta$ is the following.\n",
    "\n",
    "$$ \\hat{\\beta}_{OLS} = (X^T X)^{-1}(X^T Y) $$\n",
    "\n",
    "But you could also just estimate the coefficients using the criterion function in the GMM statement of the problem above. This method is called nonlinear least squares or generalized least squares. Many applications of regression use a weighting matrix in the criterion function that adjusts for issues like heteroskedasticity and autocorrelation. \n",
    "\n",
    "Lastly, many applications use a different distance metric than the weighted sum of squared errors for the difference in moments. Sum of squared errors puts a large penalty on big differences. Sometimes you might want to maximize the sum of absolute errors, which is sometimes called median regression. You could also minimize the maximum absolute difference in the errors, which is even more extreme than the sum of squared errors on penalizing large differences."
   ]
  },
  {
   "cell_type": "markdown",
   "metadata": {},
   "source": [
    "## 8. References\n",
    "* Adda, Jerome and Russell Cooper, *Dynamic Economics: Quantitative Methods and Applications*, MIT Press (2003).\n",
    "* Brock, William A. and Leonard J. Mirman, \"Optimal Economic Growth and Uncertainty: The Discounted Case,\" *Journal of Economic Theory*, 4:3, pp. 479-513 (June 1972).\n",
    "* Davidson, Russell and James G. MacKinnon, *Econometric Theory and Methods*, Oxford University Press (2004).\n",
    "* Fuhrer, Jeffrey C., George R. Moore, and Scott D. Schuh, \"Estimating the Linear-quadratic Inventory Model: Maximum Likelihood versus Generalized Method of Moments,\" *Journal of Monetary Economics*, 35:1, pp. 115-157 (February 1995).\n",
    "* Hansen, Lars Peter, \"Large Sample Properties of Generalized Method of Moments Estimators,\" *Econometrica*, 50:4, pp. 1029-1054 (July 1982).\n",
    "* Hansen, Lars Peter and Kenneth J. Singleton, \"Generalized Instrumental Variables Estimation of Nonlinear Rational Expectations Models\", *Econometrica*, 50:5, pp. 1269-1286 (September 1982).\n",
    "* Newey, Whitney K. and Kenneth D. West, \"A Simple, Positive, Semi-definite, Heteroskedasticy and Autocorrelation Consistent Covariance Matrix,\" *Econometrica*, 55:3, pp. 703-708 (May 1987)."
   ]
  }
 ],
 "metadata": {
  "anaconda-cloud": {},
  "kernelspec": {
   "display_name": "Python 3",
   "language": "python",
   "name": "python3"
  },
  "language_info": {
   "codemirror_mode": {
    "name": "ipython",
    "version": 3
   },
   "file_extension": ".py",
   "mimetype": "text/x-python",
   "name": "python",
   "nbconvert_exporter": "python",
   "pygments_lexer": "ipython3",
   "version": "3.7.4"
  }
 },
 "nbformat": 4,
 "nbformat_minor": 1
}

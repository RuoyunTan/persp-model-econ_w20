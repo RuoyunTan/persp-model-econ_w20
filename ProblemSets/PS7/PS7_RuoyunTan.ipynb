{
 "cells": [
  {
   "cell_type": "markdown",
   "metadata": {},
   "source": [
    "## Problem Set #7"
   ]
  },
  {
   "cell_type": "markdown",
   "metadata": {},
   "source": [
    "MACS 30150, Dr. Evans\n",
    "\n",
    "Ruoyun Tan"
   ]
  },
  {
   "cell_type": "markdown",
   "metadata": {},
   "source": [
    "### Problem 1"
   ]
  },
  {
   "cell_type": "markdown",
   "metadata": {},
   "source": [
    "#### (a)"
   ]
  },
  {
   "cell_type": "code",
   "execution_count": 98,
   "metadata": {},
   "outputs": [
    {
     "data": {
      "text/html": [
       "<div>\n",
       "<style scoped>\n",
       "    .dataframe tbody tr th:only-of-type {\n",
       "        vertical-align: middle;\n",
       "    }\n",
       "\n",
       "    .dataframe tbody tr th {\n",
       "        vertical-align: top;\n",
       "    }\n",
       "\n",
       "    .dataframe thead th {\n",
       "        text-align: right;\n",
       "    }\n",
       "</style>\n",
       "<table border=\"1\" class=\"dataframe\">\n",
       "  <thead>\n",
       "    <tr style=\"text-align: right;\">\n",
       "      <th></th>\n",
       "      <th>cultivar</th>\n",
       "      <th>alco</th>\n",
       "      <th>malic</th>\n",
       "      <th>ash</th>\n",
       "      <th>alk</th>\n",
       "      <th>magn</th>\n",
       "      <th>tot_phen</th>\n",
       "      <th>flav</th>\n",
       "      <th>nonfl_phen</th>\n",
       "      <th>proanth</th>\n",
       "      <th>color_int</th>\n",
       "      <th>hue</th>\n",
       "      <th>OD280rat</th>\n",
       "      <th>proline</th>\n",
       "    </tr>\n",
       "  </thead>\n",
       "  <tbody>\n",
       "    <tr>\n",
       "      <th>0</th>\n",
       "      <td>1</td>\n",
       "      <td>14.23</td>\n",
       "      <td>1.71</td>\n",
       "      <td>2.43</td>\n",
       "      <td>15.6</td>\n",
       "      <td>127</td>\n",
       "      <td>2.80</td>\n",
       "      <td>3.06</td>\n",
       "      <td>0.28</td>\n",
       "      <td>2.29</td>\n",
       "      <td>5.64</td>\n",
       "      <td>1.04</td>\n",
       "      <td>3.92</td>\n",
       "      <td>1065</td>\n",
       "    </tr>\n",
       "    <tr>\n",
       "      <th>1</th>\n",
       "      <td>1</td>\n",
       "      <td>13.20</td>\n",
       "      <td>1.78</td>\n",
       "      <td>2.14</td>\n",
       "      <td>11.2</td>\n",
       "      <td>100</td>\n",
       "      <td>2.65</td>\n",
       "      <td>2.76</td>\n",
       "      <td>0.26</td>\n",
       "      <td>1.28</td>\n",
       "      <td>4.38</td>\n",
       "      <td>1.05</td>\n",
       "      <td>3.40</td>\n",
       "      <td>1050</td>\n",
       "    </tr>\n",
       "    <tr>\n",
       "      <th>2</th>\n",
       "      <td>1</td>\n",
       "      <td>13.16</td>\n",
       "      <td>2.36</td>\n",
       "      <td>2.67</td>\n",
       "      <td>18.6</td>\n",
       "      <td>101</td>\n",
       "      <td>2.80</td>\n",
       "      <td>3.24</td>\n",
       "      <td>0.30</td>\n",
       "      <td>2.81</td>\n",
       "      <td>5.68</td>\n",
       "      <td>1.03</td>\n",
       "      <td>3.17</td>\n",
       "      <td>1185</td>\n",
       "    </tr>\n",
       "    <tr>\n",
       "      <th>3</th>\n",
       "      <td>1</td>\n",
       "      <td>14.37</td>\n",
       "      <td>1.95</td>\n",
       "      <td>2.50</td>\n",
       "      <td>16.8</td>\n",
       "      <td>113</td>\n",
       "      <td>3.85</td>\n",
       "      <td>3.49</td>\n",
       "      <td>0.24</td>\n",
       "      <td>2.18</td>\n",
       "      <td>7.80</td>\n",
       "      <td>0.86</td>\n",
       "      <td>3.45</td>\n",
       "      <td>1480</td>\n",
       "    </tr>\n",
       "    <tr>\n",
       "      <th>4</th>\n",
       "      <td>1</td>\n",
       "      <td>13.24</td>\n",
       "      <td>2.59</td>\n",
       "      <td>2.87</td>\n",
       "      <td>21.0</td>\n",
       "      <td>118</td>\n",
       "      <td>2.80</td>\n",
       "      <td>2.69</td>\n",
       "      <td>0.39</td>\n",
       "      <td>1.82</td>\n",
       "      <td>4.32</td>\n",
       "      <td>1.04</td>\n",
       "      <td>2.93</td>\n",
       "      <td>735</td>\n",
       "    </tr>\n",
       "  </tbody>\n",
       "</table>\n",
       "</div>"
      ],
      "text/plain": [
       "   cultivar   alco  malic   ash   alk  magn  tot_phen  flav  nonfl_phen  \\\n",
       "0         1  14.23   1.71  2.43  15.6   127      2.80  3.06        0.28   \n",
       "1         1  13.20   1.78  2.14  11.2   100      2.65  2.76        0.26   \n",
       "2         1  13.16   2.36  2.67  18.6   101      2.80  3.24        0.30   \n",
       "3         1  14.37   1.95  2.50  16.8   113      3.85  3.49        0.24   \n",
       "4         1  13.24   2.59  2.87  21.0   118      2.80  2.69        0.39   \n",
       "\n",
       "   proanth  color_int   hue  OD280rat  proline  \n",
       "0     2.29       5.64  1.04      3.92     1065  \n",
       "1     1.28       4.38  1.05      3.40     1050  \n",
       "2     2.81       5.68  1.03      3.17     1185  \n",
       "3     2.18       7.80  0.86      3.45     1480  \n",
       "4     1.82       4.32  1.04      2.93      735  "
      ]
     },
     "execution_count": 98,
     "metadata": {},
     "output_type": "execute_result"
    }
   ],
   "source": [
    "import pandas as pd\n",
    "\n",
    "wine_data = pd.read_csv('data/strongdrink.txt')\n",
    "wine_data.head()"
   ]
  },
  {
   "cell_type": "code",
   "execution_count": 99,
   "metadata": {},
   "outputs": [
    {
     "name": "stdout",
     "output_type": "stream",
     "text": [
      "       cultivar = 1  cultivar = 2\n",
      "beta0    -24.011332     22.801680\n",
      "beta1      1.700433     -1.467985\n",
      "beta2     -0.265610     -0.333051\n",
      "beta3      1.223894      0.664006\n",
      "beta4      0.022748     -0.922709\n",
      "              precision    recall  f1-score   support\n",
      "\n",
      "           1       0.87      1.00      0.93        13\n",
      "           2       1.00      0.90      0.95        21\n",
      "           3       1.00      1.00      1.00        10\n",
      "\n",
      "    accuracy                           0.95        44\n",
      "   macro avg       0.96      0.97      0.96        44\n",
      "weighted avg       0.96      0.95      0.96        44\n",
      "\n"
     ]
    }
   ],
   "source": [
    "import numpy as np\n",
    "from sklearn.model_selection import train_test_split\n",
    "from sklearn.metrics import classification_report, mean_squared_error\n",
    "from sklearn.linear_model import LogisticRegression\n",
    "\n",
    "X = wine_data[['alco', 'malic', 'tot_phen', 'color_int']] \n",
    "y = wine_data['cultivar']\n",
    "\n",
    "X_train, X_test, y_train, y_test = \\\n",
    "    train_test_split(X, y, test_size = 0.25,\n",
    "       random_state=20)\n",
    "\n",
    "Multi_LG = LogisticRegression(multi_class='multinomial', solver='newton-cg').fit(X_train, y_train)\n",
    "\n",
    "print(pd.DataFrame({\"cultivar = 1\": np.append(Multi_LG.intercept_[0], Multi_LG.coef_[0]),\n",
    "              \"cultivar = 2\": np.append(Multi_LG.intercept_[1], Multi_LG.coef_[1])},\n",
    "               index=[\"beta0\",\"beta1\",'beta2','beta3','beta4']))\n",
    "\n",
    "y_pred = Multi_LG.predict(X_test)\n",
    "print(classification_report(y_test, y_pred))"
   ]
  },
  {
   "cell_type": "code",
   "execution_count": 100,
   "metadata": {},
   "outputs": [
    {
     "name": "stdout",
     "output_type": "stream",
     "text": [
      "The error rate for j = 1 is 0.13\n",
      "The error rate for j = 2 is 0\n",
      "The error rate for j = 3 is 0\n"
     ]
    }
   ],
   "source": [
    "print(\"The error rate for j = 1 is\", 1 - 0.87)\n",
    "print(\"The error rate for j = 2 is\", 1 - 1)\n",
    "print(\"The error rate for j = 3 is\", 1 - 1)"
   ]
  },
  {
   "cell_type": "markdown",
   "metadata": {},
   "source": [
    "As shown in the classification_report printed above, the model is best at predicting the third category of cultivar where the f1-score is the highest. "
   ]
  },
  {
   "cell_type": "code",
   "execution_count": 101,
   "metadata": {},
   "outputs": [
    {
     "data": {
      "text/plain": [
       "2    71\n",
       "1    59\n",
       "3    46\n",
       "Name: cultivar, dtype: int64"
      ]
     },
     "execution_count": 101,
     "metadata": {},
     "output_type": "execute_result"
    }
   ],
   "source": [
    "wine_data[\"cultivar\"].value_counts()"
   ]
  },
  {
   "cell_type": "markdown",
   "metadata": {},
   "source": [
    "Although the model is best at predicting the third category of cultivar, this category does not have the most observations (it has the least observations)."
   ]
  },
  {
   "cell_type": "code",
   "execution_count": 102,
   "metadata": {},
   "outputs": [
    {
     "name": "stdout",
     "output_type": "stream",
     "text": [
      "MSE from the test set = 0.045454545454545456\n"
     ]
    }
   ],
   "source": [
    "print('MSE from the test set =', mean_squared_error(y_test, y_pred))"
   ]
  },
  {
   "cell_type": "markdown",
   "metadata": {},
   "source": [
    "#### (b)"
   ]
  },
  {
   "cell_type": "code",
   "execution_count": 120,
   "metadata": {},
   "outputs": [],
   "source": [
    "from sklearn.model_selection import train_test_split, LeaveOneOut\n",
    "\n",
    "Xvars = wine_data[['alco', 'malic', 'tot_phen', 'color_int']].values\n",
    "yvars = wine_data['cultivar'].values\n",
    "N_loo = Xvars.shape[0]\n",
    "loo = LeaveOneOut()\n",
    "loo.get_n_splits(Xvars)\n",
    "CV_vec = np.zeros(N_loo)\n",
    "y_pred = np.zeros(X.shape[0])\n",
    "y = np.zeros(X.shape[0])\n",
    "\n",
    "for train_index, test_index in loo.split(Xvars):\n",
    "    X_train, X_test = Xvars[train_index], Xvars[test_index]\n",
    "    y_train, y_test = yvars[train_index], yvars[test_index]\n",
    "    y[test_index] = y_test\n",
    "    LogReg = LogisticRegression(solver='newton-cg')\n",
    "    LogReg.fit(X_train, y_train)\n",
    "    y_pred[test_index] = LogReg.predict(X_test)\n",
    "    if y_pred[test_index] == y_test:\n",
    "        CV_vec[test_index] = 0\n",
    "    else:\n",
    "        CV_vec[test_index] = 1 \n",
    "    \n",
    "\n",
    "CV_loo = CV_vec.mean()\n",
    "CV_loo_std = CV_vec.std()"
   ]
  },
  {
   "cell_type": "code",
   "execution_count": 121,
   "metadata": {},
   "outputs": [
    {
     "name": "stdout",
     "output_type": "stream",
     "text": [
      "              precision    recall  f1-score   support\n",
      "\n",
      "         0.0       1.00      1.00      1.00       780\n",
      "         1.0       0.90      0.93      0.92        59\n",
      "         2.0       0.91      0.90      0.91        71\n",
      "         3.0       0.96      0.93      0.95        46\n",
      "\n",
      "    accuracy                           0.99       956\n",
      "   macro avg       0.94      0.94      0.94       956\n",
      "weighted avg       0.99      0.99      0.99       956\n",
      "\n"
     ]
    }
   ],
   "source": [
    "print(classification_report(y, y_pred))"
   ]
  },
  {
   "cell_type": "code",
   "execution_count": 122,
   "metadata": {},
   "outputs": [
    {
     "name": "stdout",
     "output_type": "stream",
     "text": [
      "The error rate for j = 1 is 0.09999999999999998\n",
      "The error rate for j = 2 is 0.08999999999999997\n",
      "The error rate for j = 3 is 0.040000000000000036\n"
     ]
    }
   ],
   "source": [
    "print(\"The error rate for j = 1 is\", 1 - 0.90)\n",
    "print(\"The error rate for j = 2 is\", 1 - 0.91)\n",
    "print(\"The error rate for j = 3 is\", 1 - 0.96)"
   ]
  },
  {
   "cell_type": "markdown",
   "metadata": {},
   "source": [
    "Just like before, the third category still has the smallest error rate. The error rate for the second category is higher than it was in (a), while the error rate for the first category is smaller."
   ]
  },
  {
   "cell_type": "code",
   "execution_count": 123,
   "metadata": {},
   "outputs": [
    {
     "name": "stdout",
     "output_type": "stream",
     "text": [
      "test estimate MSE loocv= 0.07954545454545454 , test estimate MSE standard err= 0.2705882022679695\n"
     ]
    }
   ],
   "source": [
    "print('test estimate MSE loocv=', CV_loo,\n",
    "      ', test estimate MSE standard err=', CV_loo_std)"
   ]
  },
  {
   "cell_type": "markdown",
   "metadata": {},
   "source": [
    "#### (c)"
   ]
  },
  {
   "cell_type": "code",
   "execution_count": 124,
   "metadata": {},
   "outputs": [
    {
     "data": {
      "text/plain": [
       "4"
      ]
     },
     "execution_count": 124,
     "metadata": {},
     "output_type": "execute_result"
    }
   ],
   "source": [
    "from sklearn.model_selection import KFold\n",
    "\n",
    "k = 4\n",
    "kf = KFold(n_splits=4, shuffle=True, random_state=10)\n",
    "kf.get_n_splits(Xvars)"
   ]
  },
  {
   "cell_type": "code",
   "execution_count": 127,
   "metadata": {},
   "outputs": [],
   "source": [
    "MSE_vec_kf = np.zeros(k)\n",
    "k_ind = int(0)\n",
    "y_pred = np.zeros(X.shape[0])\n",
    "y = np.zeros(X.shape[0])\n",
    "\n",
    "for train_index, test_index in kf.split(Xvars):\n",
    "    X_train, X_test = Xvars[train_index], Xvars[test_index]\n",
    "    y_train, y_test = yvars[train_index], yvars[test_index]\n",
    "    LogReg = LogisticRegression(solver='newton-cg')\n",
    "    LogReg.fit(X_train, y_train)\n",
    "    y[test_index] = y_test\n",
    "    y_pred[test_index] = LogReg.predict(X_test)\n",
    "    indicator = y_pred[test_index] != y_test\n",
    "    MSE_vec_kf[k_ind] = indicator.mean()\n",
    "    k_ind += 1\n",
    "    \n",
    "\n",
    "MSE_kf = MSE_vec_kf.mean()\n",
    "MSE_kf_std = MSE_vec_kf.std()"
   ]
  },
  {
   "cell_type": "code",
   "execution_count": 128,
   "metadata": {},
   "outputs": [
    {
     "name": "stdout",
     "output_type": "stream",
     "text": [
      "              precision    recall  f1-score   support\n",
      "\n",
      "         0.0       1.00      1.00      1.00       780\n",
      "         1.0       0.87      0.93      0.90        59\n",
      "         2.0       0.91      0.87      0.89        71\n",
      "         3.0       0.96      0.93      0.95        46\n",
      "\n",
      "    accuracy                           0.98       956\n",
      "   macro avg       0.94      0.94      0.93       956\n",
      "weighted avg       0.98      0.98      0.98       956\n",
      "\n"
     ]
    }
   ],
   "source": [
    "print(classification_report(y, y_pred))"
   ]
  },
  {
   "cell_type": "code",
   "execution_count": 129,
   "metadata": {},
   "outputs": [
    {
     "name": "stdout",
     "output_type": "stream",
     "text": [
      "The error rate for j = 1 is 0.13\n",
      "The error rate for j = 2 is 0.08999999999999997\n",
      "The error rate for j = 3 is 0.040000000000000036\n"
     ]
    }
   ],
   "source": [
    "print(\"The error rate for j = 1 is\", 1 - 0.87)\n",
    "print(\"The error rate for j = 2 is\", 1 - 0.91)\n",
    "print(\"The error rate for j = 3 is\", 1 - 0.96)"
   ]
  },
  {
   "cell_type": "markdown",
   "metadata": {},
   "source": [
    "Compared to those from part (a), the error rate for j = 1 is the same, but the error rates for j = 2 and j =3 increases. The error rate for j = 3 is still the smallest.\n",
    "\n",
    "Compared to those from part (b), the error rates for j = 2 and j = 3 are the same, but the error rates for j = 1 increases. The error rate for j = 3 is still the smallest."
   ]
  },
  {
   "cell_type": "code",
   "execution_count": 130,
   "metadata": {},
   "outputs": [
    {
     "name": "stdout",
     "output_type": "stream",
     "text": [
      "test estimate MSE k-fold= 0.09090909090909091 test estimate MSE standard err= 0.04821182598999188\n"
     ]
    }
   ],
   "source": [
    "print('test estimate MSE k-fold=', MSE_kf,\n",
    "      'test estimate MSE standard err=', MSE_kf_std)"
   ]
  },
  {
   "cell_type": "markdown",
   "metadata": {},
   "source": [
    "### Problem 2"
   ]
  },
  {
   "cell_type": "markdown",
   "metadata": {},
   "source": [
    "#### (a)"
   ]
  },
  {
   "cell_type": "code",
   "execution_count": 110,
   "metadata": {},
   "outputs": [
    {
     "data": {
      "text/html": [
       "<div>\n",
       "<style scoped>\n",
       "    .dataframe tbody tr th:only-of-type {\n",
       "        vertical-align: middle;\n",
       "    }\n",
       "\n",
       "    .dataframe tbody tr th {\n",
       "        vertical-align: top;\n",
       "    }\n",
       "\n",
       "    .dataframe thead th {\n",
       "        text-align: right;\n",
       "    }\n",
       "</style>\n",
       "<table border=\"1\" class=\"dataframe\">\n",
       "  <thead>\n",
       "    <tr style=\"text-align: right;\">\n",
       "      <th></th>\n",
       "      <th>Age</th>\n",
       "      <th>Coolness</th>\n",
       "    </tr>\n",
       "  </thead>\n",
       "  <tbody>\n",
       "    <tr>\n",
       "      <th>0</th>\n",
       "      <td>11.0</td>\n",
       "      <td>10.981602</td>\n",
       "    </tr>\n",
       "    <tr>\n",
       "      <th>1</th>\n",
       "      <td>11.0</td>\n",
       "      <td>11.364925</td>\n",
       "    </tr>\n",
       "    <tr>\n",
       "      <th>2</th>\n",
       "      <td>11.0</td>\n",
       "      <td>10.190227</td>\n",
       "    </tr>\n",
       "    <tr>\n",
       "      <th>3</th>\n",
       "      <td>11.0</td>\n",
       "      <td>9.903725</td>\n",
       "    </tr>\n",
       "    <tr>\n",
       "      <th>4</th>\n",
       "      <td>11.0</td>\n",
       "      <td>8.997918</td>\n",
       "    </tr>\n",
       "  </tbody>\n",
       "</table>\n",
       "</div>"
      ],
      "text/plain": [
       "    Age   Coolness\n",
       "0  11.0  10.981602\n",
       "1  11.0  11.364925\n",
       "2  11.0  10.190227\n",
       "3  11.0   9.903725\n",
       "4  11.0   8.997918"
      ]
     },
     "execution_count": 110,
     "metadata": {},
     "output_type": "execute_result"
    }
   ],
   "source": [
    "df = pd.read_csv(\"data/CoolIndex.txt\", names=[\"Age\", \"Coolness\"])\n",
    "df.head()"
   ]
  },
  {
   "cell_type": "code",
   "execution_count": 111,
   "metadata": {},
   "outputs": [
    {
     "data": {
      "image/png": "[encoded data removed]",
      "text/plain": [
       "<Figure size 432x288 with 1 Axes>"
      ]
     },
     "metadata": {
      "needs_background": "light"
     },
     "output_type": "display_data"
    }
   ],
   "source": [
    "import matplotlib.pyplot as plt\n",
    "\n",
    "plt.scatter(df['Age'], df['Coolness'])\n",
    "plt.xlabel(\"Age\")\n",
    "plt.ylabel(\"Coolness Index\")\n",
    "plt.title(\"Coolness Index and Age\")\n",
    "plt.show()"
   ]
  },
  {
   "cell_type": "markdown",
   "metadata": {},
   "source": [
    "#### (b)"
   ]
  },
  {
   "cell_type": "code",
   "execution_count": 112,
   "metadata": {},
   "outputs": [
    {
     "name": "stdout",
     "output_type": "stream",
     "text": [
      "                            OLS Regression Results                            \n",
      "==============================================================================\n",
      "Dep. Variable:               Coolness   R-squared:                       0.429\n",
      "Model:                            OLS   Adj. R-squared:                  0.427\n",
      "Method:                 Least Squares   F-statistic:                     178.7\n",
      "Date:                Mon, 24 Feb 2020   Prob (F-statistic):          3.73e-114\n",
      "Time:                        23:52:21   Log-Likelihood:                -3214.5\n",
      "No. Observations:                 956   AIC:                             6439.\n",
      "Df Residuals:                     951   BIC:                             6463.\n",
      "Df Model:                           4                                         \n",
      "Covariance Type:            nonrobust                                         \n",
      "==============================================================================\n",
      "                 coef    std err          t      P>|t|      [0.025      0.975]\n",
      "------------------------------------------------------------------------------\n",
      "bin1          20.1025      0.562     35.746      0.000      18.999      21.206\n",
      "bin2          34.4758      0.431     80.006      0.000      33.630      35.321\n",
      "bin3          37.6351      0.424     88.814      0.000      36.804      38.467\n",
      "bin4          35.2254      0.485     72.560      0.000      34.273      36.178\n",
      "bin5          27.2964      0.936     29.175      0.000      25.460      29.132\n",
      "==============================================================================\n",
      "Omnibus:                       80.102   Durbin-Watson:                   1.236\n",
      "Prob(Omnibus):                  0.000   Jarque-Bera (JB):              101.718\n",
      "Skew:                           0.714   Prob(JB):                     8.17e-23\n",
      "Kurtosis:                       3.719   Cond. No.                         2.21\n",
      "==============================================================================\n",
      "\n",
      "Warnings:\n",
      "[1] Standard Errors assume that the covariance matrix of the errors is correctly specified.\n"
     ]
    }
   ],
   "source": [
    "import statsmodels.api as sm\n",
    "\n",
    "df[\"bin1\"] = np.where((df.Age >= 11) & (df.Age < 22), 1, 0)\n",
    "df[\"bin2\"] = np.where((df.Age >= 22) & (df.Age < 40), 1, 0)\n",
    "df[\"bin3\"] = np.where((df.Age >= 40) & (df.Age < 59), 1, 0)\n",
    "df[\"bin4\"] = np.where((df.Age >= 59) & (df.Age < 77), 1, 0)\n",
    "df[\"bin5\"] = np.where((df.Age >= 77) & (df.Age <= 95), 1, 0)\n",
    "\n",
    "X = df[[\"bin1\", \"bin2\", \"bin3\", \"bin4\", \"bin5\"]]\n",
    "res = sm.OLS(df['Coolness'], X).fit()\n",
    "print(res.summary())"
   ]
  },
  {
   "cell_type": "code",
   "execution_count": 113,
   "metadata": {},
   "outputs": [
    {
     "data": {
      "image/png": "[encoded data removed]",
      "text/plain": [
       "<Figure size 432x288 with 1 Axes>"
      ]
     },
     "metadata": {
      "needs_background": "light"
     },
     "output_type": "display_data"
    }
   ],
   "source": [
    "plt.scatter(df['Age'], df['Coolness'], label=\"Scatter plot\")\n",
    "plt.plot(df['Age'], res.predict(), color='r', label=\"OLS step function\")\n",
    "plt.legend(loc=\"upper right\")\n",
    "plt.xlabel(\"Age\")\n",
    "plt.ylabel(\"Coolness Index\")\n",
    "plt.title(\"Coolness Index and Age\")\n",
    "plt.show()"
   ]
  },
  {
   "cell_type": "code",
   "execution_count": 114,
   "metadata": {},
   "outputs": [
    {
     "name": "stdout",
     "output_type": "stream",
     "text": [
      "The stimated step function values are:\n",
      "bin1    20.102457\n",
      "bin2    34.475788\n",
      "bin3    37.635105\n",
      "bin4    35.225400\n",
      "bin5    27.296378\n",
      "dtype: float64\n"
     ]
    }
   ],
   "source": [
    "print(\"The stimated step function values are:\")\n",
    "print(res.params)"
   ]
  },
  {
   "cell_type": "code",
   "execution_count": 115,
   "metadata": {},
   "outputs": [
    {
     "name": "stdout",
     "output_type": "stream",
     "text": [
      "The predicted coolness of a 73-year old is 35.22540004024275\n"
     ]
    }
   ],
   "source": [
    "print('The predicted coolness of a 73-year old is', res.params[3])"
   ]
  },
  {
   "cell_type": "markdown",
   "metadata": {},
   "source": [
    "#### (c)"
   ]
  },
  {
   "cell_type": "code",
   "execution_count": 116,
   "metadata": {},
   "outputs": [
    {
     "data": {
      "image/png": "[encoded data removed]",
      "text/plain": [
       "<Figure size 432x288 with 1 Axes>"
      ]
     },
     "metadata": {
      "needs_background": "light"
     },
     "output_type": "display_data"
    }
   ],
   "source": [
    "from scipy.interpolate import LSQUnivariateSpline as lsq\n",
    "\n",
    "t = np.array([22,40,59,77])\n",
    "df_group = df.groupby('Age').mean()\n",
    "df_group['Age']=df_group.index\n",
    "linear_sp = lsq(df_group['Age'].values, df_group['Coolness'].values, t, k=1)\n",
    "\n",
    "plt.scatter(df['Age'], df['Coolness'], label=\"Scatter plot\")\n",
    "plt.plot(df['Age'], res.predict(), color='r', label=\"OLS step function\")\n",
    "plt.plot(df_group['Age'], linear_sp(df_group['Age']), color='y', label=\"Linear spline\")\n",
    "plt.legend(loc=\"upper right\")\n",
    "plt.xlabel(\"Age\")\n",
    "plt.ylabel(\"Coolness Index\")\n",
    "plt.title(\"Coolness Index and Age\")\n",
    "plt.show()"
   ]
  },
  {
   "cell_type": "code",
   "execution_count": 117,
   "metadata": {},
   "outputs": [
    {
     "name": "stdout",
     "output_type": "stream",
     "text": [
      "The predicted coolness of a 73-year old is 32.86784862349653\n"
     ]
    }
   ],
   "source": [
    "print('The predicted coolness of a 73-year old is', linear_sp(73))"
   ]
  },
  {
   "cell_type": "markdown",
   "metadata": {},
   "source": [
    "#### (d)"
   ]
  },
  {
   "cell_type": "code",
   "execution_count": 118,
   "metadata": {},
   "outputs": [
    {
     "data": {
      "image/png": "[encoded data removed]",
      "text/plain": [
       "<Figure size 432x288 with 1 Axes>"
      ]
     },
     "metadata": {
      "needs_background": "light"
     },
     "output_type": "display_data"
    }
   ],
   "source": [
    "cubic_sp = lsq(df_group['Age'].values, df_group['Coolness'].values, t, k=3)\n",
    "\n",
    "plt.scatter(df['Age'], df['Coolness'], label=\"Scatter plot\")\n",
    "plt.plot(df['Age'], res.predict(), color='r', label=\"OLS step function\")\n",
    "plt.plot(df_group['Age'], linear_sp(df_group['Age']), color='y', label=\"Linear spline\")\n",
    "plt.plot(df_group['Age'], cubic_sp(df_group['Age']), color='k', label=\"Cubic spline\")\n",
    "plt.legend(loc=\"upper right\")\n",
    "plt.xlabel(\"Age\")\n",
    "plt.ylabel(\"Coolness Index\")\n",
    "plt.title(\"Coolness Index and Age\")\n",
    "plt.show()"
   ]
  },
  {
   "cell_type": "code",
   "execution_count": 97,
   "metadata": {},
   "outputs": [
    {
     "name": "stdout",
     "output_type": "stream",
     "text": [
      "The predicted coolness of a 73-year old is 32.642301066279764\n"
     ]
    }
   ],
   "source": [
    "print('The predicted coolness of a 73-year old is', cubic_sp(73))"
   ]
  }
 ],
 "metadata": {
  "kernelspec": {
   "display_name": "Python 3",
   "language": "python",
   "name": "python3"
  },
  "language_info": {
   "codemirror_mode": {
    "name": "ipython",
    "version": 3
   },
   "file_extension": ".py",
   "mimetype": "text/x-python",
   "name": "python",
   "nbconvert_exporter": "python",
   "pygments_lexer": "ipython3",
   "version": "3.7.6"
  }
 },
 "nbformat": 4,
 "nbformat_minor": 2
}

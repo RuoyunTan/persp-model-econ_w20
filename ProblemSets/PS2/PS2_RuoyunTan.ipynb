{
 "cells": [
  {
   "cell_type": "markdown",
   "metadata": {},
   "source": [
    "## Problem Set 2"
   ]
  },
  {
   "cell_type": "markdown",
   "metadata": {},
   "source": [
    "Ruoyun Tan"
   ]
  },
  {
   "cell_type": "markdown",
   "metadata": {},
   "source": [
    "First, import all the needed library."
   ]
  },
  {
   "cell_type": "code",
   "execution_count": 202,
   "metadata": {},
   "outputs": [],
   "source": [
    "import sympy as sy\n",
    "import numpy as np\n",
    "import math\n",
    "import time\n",
    "import random\n",
    "import scipy.integrate\n",
    "import scipy.stats\n",
    "from matplotlib import pyplot as plt\n",
    "from autograd import numpy as anp\n",
    "from autograd import grad"
   ]
  },
  {
   "cell_type": "markdown",
   "metadata": {},
   "source": [
    "### Part 1"
   ]
  },
  {
   "cell_type": "markdown",
   "metadata": {},
   "source": [
    "#### Problem 1"
   ]
  },
  {
   "cell_type": "markdown",
   "metadata": {},
   "source": [
    "First, define function f and take its derivative using Sympy, then lambdify it."
   ]
  },
  {
   "cell_type": "code",
   "execution_count": 203,
   "metadata": {},
   "outputs": [],
   "source": [
    "# define f\n",
    "x = sy.symbols(\"x\")\n",
    "f = (sy.sin(x) + 1)**(sy.sin(sy.cos(x)))\n",
    "#calculate the derivative using Sympy and lambdify the functions\n",
    "f_der = sy.lambdify(x, sy.diff(f, x), \"numpy\")\n",
    "f = sy.lambdify(x, f, \"numpy\")"
   ]
  },
  {
   "cell_type": "markdown",
   "metadata": {},
   "source": [
    "To check the results, plot f and its deriavtive on $[-\\pi. \\pi]$."
   ]
  },
  {
   "cell_type": "code",
   "execution_count": 204,
   "metadata": {
    "scrolled": false
   },
   "outputs": [
    {
     "data": {
      "text/plain": [
       "Text(0.5, 1.0, 'f and its derivative')"
      ]
     },
     "execution_count": 204,
     "metadata": {},
     "output_type": "execute_result"
    },
    {
     "data": {
      "image/png": "[encoded data removed]",
      "text/plain": [
       "<Figure size 432x288 with 1 Axes>"
      ]
     },
     "metadata": {
      "needs_background": "light"
     },
     "output_type": "display_data"
    }
   ],
   "source": [
    "ax = plt.gca()\n",
    "ax.spines[\"bottom\"].set_position(\"zero\")\n",
    "#take points on [\\pi, \\pi] to plot\n",
    "t = np.linspace(-math.pi, math.pi, 10000)\n",
    "ax.plot(t, f(t), label=\"f\")\n",
    "ax.plot(t, f_der(t), label=\"f'\")\n",
    "ax.legend(loc=\"lower right\")\n",
    "plt.title(\"f and its derivative\")"
   ]
  },
  {
   "cell_type": "markdown",
   "metadata": {},
   "source": [
    "From the plot, we can see that on $[-\\pi, \\pi]$, the derivative cross the x-axis at 4 points. Each of these points correspond to a local minimum/maximum of $f$."
   ]
  },
  {
   "cell_type": "markdown",
   "metadata": {},
   "source": [
    "#### Problem 2"
   ]
  },
  {
   "cell_type": "markdown",
   "metadata": {},
   "source": [
    "For each of the finite difference quotients, write a function."
   ]
  },
  {
   "cell_type": "code",
   "execution_count": 205,
   "metadata": {},
   "outputs": [],
   "source": [
    "def forward1(f0, x0, h):\n",
    "    '''\n",
    "    Inputs: \n",
    "        f0: a function handle\n",
    "        x0: an array of points x\n",
    "        h: a float\n",
    "    \n",
    "    Return:\n",
    "        an array of difference quotients evaluated at each point in x0\n",
    "    '''\n",
    "    \n",
    "    return (f0(x0 + h) - f0(x0)) / h\n",
    "\n",
    "def forward2(f0, x0, h):\n",
    "    '''\n",
    "    Inputs: \n",
    "        f0: a function handle\n",
    "        x0: an array of points x\n",
    "        h: a float\n",
    "    \n",
    "    Return:\n",
    "        an array of difference quotients evaluated at each point in x0\n",
    "    '''\n",
    "    \n",
    "    return (- 3 * f0(x0) + 4 * f0(x0 + h) - f0(x0 + 2 * h)) / (2 * h)\n",
    "\n",
    "def backward1(f0, x0, h):\n",
    "    '''\n",
    "    Inputs: \n",
    "        f0: a function handle\n",
    "        x0: an array of points x\n",
    "        h: a float\n",
    "    \n",
    "    Return:\n",
    "        an array of difference quotients evaluated at each point in x0\n",
    "    '''\n",
    "    \n",
    "    return (f0(x0) - f0(x0 - h)) / h\n",
    "\n",
    "def backward2(f0, x0, h):\n",
    "    '''\n",
    "    Inputs: \n",
    "        f0: a function handle\n",
    "        x0: an array of points x\n",
    "        h: a float\n",
    "    \n",
    "    Return:\n",
    "        an array of difference quotients evaluated at each point in x0\n",
    "    '''\n",
    "    \n",
    "    return (3 * f0(x0) - 4 * f0(x0 - h) + f0(x0 - 2 * h)) / (2 * h)\n",
    "\n",
    "def centered2(f0, x0, h):\n",
    "    '''\n",
    "    Inputs: \n",
    "        f0: a function handle\n",
    "        x0: an array of points x\n",
    "        h: a float\n",
    "    \n",
    "    Return:\n",
    "        an array of difference quotients evaluated at each point in x0\n",
    "    '''\n",
    "    \n",
    "    return (f0(x0 + h) - f0(x0 - h)) / (2 * h)\n",
    "\n",
    "def centered4(f0, x0, h):\n",
    "    '''\n",
    "    Inputs: \n",
    "        f0: a function handle\n",
    "        x0: an array of points x\n",
    "        h: a float\n",
    "    \n",
    "    Return:\n",
    "        an array of difference quotients evaluated at each point in x0\n",
    "    '''\n",
    "    \n",
    "    return (f0(x0 - 2 * h) - 8 * f0(x0 - h) + 8 * f0(x0 + h) - f0(x0 + 2 * h)) / (12 * h)"
   ]
  },
  {
   "cell_type": "markdown",
   "metadata": {},
   "source": [
    "Next, plot each of these functions and the derivative obatined using Sympy from problem 1 on the domain of $[-\\pi, \\pi]$."
   ]
  },
  {
   "cell_type": "code",
   "execution_count": 206,
   "metadata": {},
   "outputs": [
    {
     "data": {
      "text/plain": [
       "Text(0.5, 1.0, 'Order 1 Forward Approximation of Derivative')"
      ]
     },
     "execution_count": 206,
     "metadata": {},
     "output_type": "execute_result"
    },
    {
     "data": {
      "image/png": "[encoded data removed]",
      "text/plain": [
       "<Figure size 432x288 with 1 Axes>"
      ]
     },
     "metadata": {
      "needs_background": "light"
     },
     "output_type": "display_data"
    }
   ],
   "source": [
    "#Again, take points on [\\pi, \\pi] to plot\n",
    "t = np.linspace(-math.pi, math.pi, 10000)\n",
    "\n",
    "plt.plot(t, forward1(f, t, 0.05), \"--\", label=\"Order 1 Forward\")\n",
    "plt.plot(t, f_der(t), label=\"Sympy\")\n",
    "plt.legend(loc=\"lower right\")\n",
    "plt.title(\"Order 1 Forward Approximation of Derivative\")"
   ]
  },
  {
   "cell_type": "code",
   "execution_count": 207,
   "metadata": {},
   "outputs": [
    {
     "data": {
      "text/plain": [
       "Text(0.5, 1.0, 'Order 2 Forward Approximation of Derivative')"
      ]
     },
     "execution_count": 207,
     "metadata": {},
     "output_type": "execute_result"
    },
    {
     "data": {
      "image/png": "[encoded data removed]",
      "text/plain": [
       "<Figure size 432x288 with 1 Axes>"
      ]
     },
     "metadata": {
      "needs_background": "light"
     },
     "output_type": "display_data"
    }
   ],
   "source": [
    "plt.plot(t, forward2(f, t, 0.05), \"--\", label=\"Order 2 Forward\")\n",
    "plt.plot(t, f_der(t), label=\"Sympy\")\n",
    "plt.legend(loc=\"lower right\")\n",
    "plt.title(\"Order 2 Forward Approximation of Derivative\")"
   ]
  },
  {
   "cell_type": "code",
   "execution_count": 208,
   "metadata": {},
   "outputs": [
    {
     "data": {
      "text/plain": [
       "Text(0.5, 1.0, 'Order 1 Backward Approximation of Derivative')"
      ]
     },
     "execution_count": 208,
     "metadata": {},
     "output_type": "execute_result"
    },
    {
     "data": {
      "image/png": "[encoded data removed]",
      "text/plain": [
       "<Figure size 432x288 with 1 Axes>"
      ]
     },
     "metadata": {
      "needs_background": "light"
     },
     "output_type": "display_data"
    }
   ],
   "source": [
    "plt.plot(t, backward1(f, t, 0.05), \"--\", label=\"Order 1 Backward\")\n",
    "plt.plot(t, f_der(t), label=\"Sympy\")\n",
    "plt.legend(loc=\"lower right\")\n",
    "plt.title(\"Order 1 Backward Approximation of Derivative\")"
   ]
  },
  {
   "cell_type": "code",
   "execution_count": 209,
   "metadata": {},
   "outputs": [
    {
     "data": {
      "text/plain": [
       "Text(0.5, 1.0, 'Order 2 Backward Approximation of Derivative')"
      ]
     },
     "execution_count": 209,
     "metadata": {},
     "output_type": "execute_result"
    },
    {
     "data": {
      "image/png": "[encoded data removed]",
      "text/plain": [
       "<Figure size 432x288 with 1 Axes>"
      ]
     },
     "metadata": {
      "needs_background": "light"
     },
     "output_type": "display_data"
    }
   ],
   "source": [
    "plt.plot(t, backward2(f, t, 0.05), \"--\", label=\"Order 2 Backward\")\n",
    "plt.plot(t, f_der(t), label=\"Sympy\")\n",
    "plt.legend(loc=\"lower right\")\n",
    "plt.title(\"Order 2 Backward Approximation of Derivative\")"
   ]
  },
  {
   "cell_type": "code",
   "execution_count": 210,
   "metadata": {},
   "outputs": [
    {
     "data": {
      "text/plain": [
       "Text(0.5, 1.0, 'Order 2 Centered Approximation of Derivative')"
      ]
     },
     "execution_count": 210,
     "metadata": {},
     "output_type": "execute_result"
    },
    {
     "data": {
      "image/png": "[encoded data removed]",
      "text/plain": [
       "<Figure size 432x288 with 1 Axes>"
      ]
     },
     "metadata": {
      "needs_background": "light"
     },
     "output_type": "display_data"
    }
   ],
   "source": [
    "plt.plot(t, centered2(f, t, 0.05), \"--\", label=\"Order 2 Centered\")\n",
    "plt.plot(t, f_der(t), label=\"Sympy\")\n",
    "plt.legend(loc=\"lower right\")\n",
    "plt.title(\"Order 2 Centered Approximation of Derivative\")"
   ]
  },
  {
   "cell_type": "code",
   "execution_count": 211,
   "metadata": {
    "scrolled": true
   },
   "outputs": [
    {
     "data": {
      "text/plain": [
       "Text(0.5, 1.0, 'Order 4 Centered Approximation of Derivative')"
      ]
     },
     "execution_count": 211,
     "metadata": {},
     "output_type": "execute_result"
    },
    {
     "data": {
      "image/png": "[encoded data removed]",
      "text/plain": [
       "<Figure size 432x288 with 1 Axes>"
      ]
     },
     "metadata": {
      "needs_background": "light"
     },
     "output_type": "display_data"
    }
   ],
   "source": [
    "plt.plot(t, centered4(f, t, 0.05), \"--\", label=\"Order 4 Centered\")\n",
    "plt.plot(t, f_der(t), label=\"Sympy\")\n",
    "plt.legend(loc=\"lower right\")\n",
    "plt.title(\"Order 4 Centered Approximation of Derivative\")"
   ]
  },
  {
   "cell_type": "markdown",
   "metadata": {},
   "source": [
    "From the graphs, we can see that the approximations are quite close to the actual derivative obtained from Sympy. "
   ]
  },
  {
   "cell_type": "markdown",
   "metadata": {},
   "source": [
    "#### Problem 3"
   ]
  },
  {
   "cell_type": "markdown",
   "metadata": {},
   "source": [
    "First, I write functions that compute the absolute error of approximation at one point for each of the finite different quotients."
   ]
  },
  {
   "cell_type": "code",
   "execution_count": 212,
   "metadata": {},
   "outputs": [],
   "source": [
    "def abs_error_forward1(x0, h):\n",
    "    '''\n",
    "    Inputs:\n",
    "        x0: a number\n",
    "        h: a float\n",
    "        \n",
    "    Return:\n",
    "        absolute value of the error\n",
    "    '''\n",
    "    \n",
    "    return abs(f_der(x0) - forward1(f, x0, h))\n",
    "\n",
    "\n",
    "def abs_error_forward2(x0, h):\n",
    "    '''\n",
    "    Inputs:\n",
    "        x0: a number\n",
    "        h: a float\n",
    "        \n",
    "    Return:\n",
    "        absolute value of the error\n",
    "    '''\n",
    "    \n",
    "    return abs(f_der(x0) - forward2(f, x0, h))\n",
    "\n",
    "\n",
    "def abs_error_backward1(x0, h):\n",
    "    '''\n",
    "    Inputs:\n",
    "        x0: a number\n",
    "        h: a float\n",
    "        \n",
    "    Return:\n",
    "        absolute value of the error\n",
    "    '''\n",
    "    return abs(f_der(x0) - backward1(f, x0, h))\n",
    "\n",
    "\n",
    "def abs_error_backward2(x0, h):\n",
    "    '''\n",
    "    Inputs:\n",
    "        x0: a number\n",
    "        h: a float\n",
    "        \n",
    "    Return:\n",
    "        absolute value of the error\n",
    "    '''\n",
    "    return abs(f_der(x0) - backward2(f, x0, h))\n",
    "\n",
    "\n",
    "def abs_error_centered2(x0, h):\n",
    "    '''\n",
    "    Inputs:\n",
    "        x0: a number\n",
    "        h: a float\n",
    "        \n",
    "    Return:\n",
    "        absolute value of the error\n",
    "    '''\n",
    "    return abs(f_der(x0) - centered2(f, x0, h))\n",
    "\n",
    "\n",
    "def abs_error_centered4(x0, h):\n",
    "    '''\n",
    "    Inputs:\n",
    "        x0: a number\n",
    "        h: a float\n",
    "        \n",
    "    Return:\n",
    "        absolute value of the error\n",
    "    '''\n",
    "    return abs(f_der(x0) - centered4(f, x0, h))"
   ]
  },
  {
   "cell_type": "markdown",
   "metadata": {},
   "source": [
    "Next, I plot the absolute error against h."
   ]
  },
  {
   "cell_type": "code",
   "execution_count": 213,
   "metadata": {},
   "outputs": [
    {
     "data": {
      "text/plain": [
       "Text(0.5, 1.0, 'Absolute Error of Difference Quotients Approximation')"
      ]
     },
     "execution_count": 213,
     "metadata": {},
     "output_type": "execute_result"
    },
    {
     "data": {
      "image/png": "[encoded data removed]",
      "text/plain": [
       "<Figure size 432x288 with 1 Axes>"
      ]
     },
     "metadata": {
      "needs_background": "light"
     },
     "output_type": "display_data"
    }
   ],
   "source": [
    "h = np.logspace(-8, 0, 9)\n",
    "\n",
    "plt.plot(h, abs_error_forward1(1, h), label=\"Order 1 Forward\")\n",
    "plt.plot(h, abs_error_forward2(1, h), label=\"Order 2 Forward\")\n",
    "plt.plot(h, abs_error_backward1(1, h), label=\"Order 1 Backward\")\n",
    "plt.plot(h, abs_error_backward2(1, h), label=\"Order 2 Backward\")\n",
    "plt.plot(h, abs_error_centered2(1, h), label=\"Order 2 Centered\")\n",
    "plt.plot(h, abs_error_centered4(1, h), label=\"Order 4 Centered\")\n",
    "plt.legend(loc=\"upper left\")\n",
    "plt.yscale('log')\n",
    "plt.xscale('log')\n",
    "plt.xlabel(\"h)\")\n",
    "plt.ylabel(\"Absolute Error\")\n",
    "plt.title(\"Absolute Error of Difference Quotients Approximation\")"
   ]
  },
  {
   "cell_type": "markdown",
   "metadata": {},
   "source": [
    "#### Problem 4"
   ]
  },
  {
   "cell_type": "code",
   "execution_count": 218,
   "metadata": {},
   "outputs": [
    {
     "name": "stdout",
     "output_type": "stream",
     "text": [
      "[46.42420062 47.00103938 48.99880514 50.09944163 48.29035084 51.56455905\n",
      " 53.92303355 51.51480057]\n"
     ]
    }
   ],
   "source": [
    "#load the data from plane.npy\n",
    "data = np.load(\"plane.npy\")\n",
    "#convert degrees to radian\n",
    "data[:, 1:] = np.deg2rad(data[:, 1:])\n",
    "a = 500\n",
    "x_t = a * np.tan(data[:, 2]) / (np.tan(data[:, 2]) - np.tan(data[:, 1]))\n",
    "y_t = a * np.tan(data[:, 2]) * np.tan(data[:, 1]) / (np.tan(data[:, 2]) - np.tan(data[:, 1]))\n",
    "\n",
    "#compute the x'(t)\n",
    "x_t_der = np.full_like(x_t, 0)\n",
    "x_t_der[0] = x_t[1] - x_t[0]\n",
    "x_t_der[1: 7] = (x_t[2: 8] - x_t[0: 6]) / 2\n",
    "x_t_der[7] = x_t[7] - x_t[6]\n",
    "\n",
    "#compute the y'(t)\n",
    "y_t_der = np.full_like(y_t, 0)\n",
    "y_t_der[0] = y_t[1] - y_t[0]\n",
    "y_t_der[1: 7] = (y_t[2: 8] - y_t[0: 6]) / 2\n",
    "y_t_der[7] = y_t[7] - y_t[6]\n",
    "\n",
    "#compute the speed\n",
    "speeds = np.sqrt(x_t_der**2 + y_t_der**2)\n",
    "\n",
    "print(speeds)"
   ]
  },
  {
   "cell_type": "markdown",
   "metadata": {},
   "source": [
    "#### Problem 5"
   ]
  },
  {
   "cell_type": "markdown",
   "metadata": {},
   "source": [
    "First, I write a function that computes the jacobian of a function."
   ]
  },
  {
   "cell_type": "code",
   "execution_count": 219,
   "metadata": {},
   "outputs": [],
   "source": [
    "def jacob(f0, x0, h):\n",
    "    '''\n",
    "    Inputs:\n",
    "        f0: a function\n",
    "        x0: a point\n",
    "        h: a float\n",
    "    \n",
    "    Return:\n",
    "        a numpy array of the jacobian\n",
    "    '''\n",
    "    \n",
    "    ders = []\n",
    "    for i in range(len(x0)):\n",
    "        e = np.zeros(len(x0))\n",
    "        e[i] = 1\n",
    "        der = (f0(x0 + h * e) - f0(x0 - h * e))/ (2 * h)\n",
    "        ders.append(der)\n",
    "    ders = np.asarray(ders)\n",
    "    ders = np.transpose(ders)\n",
    "    \n",
    "    return ders "
   ]
  },
  {
   "cell_type": "code",
   "execution_count": 220,
   "metadata": {},
   "outputs": [],
   "source": [
    "#write a test function\n",
    "def func(x):\n",
    "    return np.asarray([x[0]**2, x[0]**3 - x[1]])"
   ]
  },
  {
   "cell_type": "markdown",
   "metadata": {},
   "source": [
    "For this function, we can calculate the jacobian easily:\n",
    "$$\n",
    " J = \\left[\n",
    " \\begin{matrix}\n",
    "   2x & 0\\\\\n",
    "   3x^2 & -1 \n",
    "  \\end{matrix}\n",
    "  \\right] \n",
    "$$\n",
    "At the point (1, 2), for example, the Jacobian should be\n",
    "$$\n",
    " J = \\left[\n",
    " \\begin{matrix}\n",
    "   2 & 0\\\\\n",
    "   3 & -1 \n",
    "  \\end{matrix}\n",
    "  \\right] \n",
    "$$"
   ]
  },
  {
   "cell_type": "code",
   "execution_count": 221,
   "metadata": {},
   "outputs": [
    {
     "data": {
      "text/plain": [
       "array([[ 2.    ,  0.    ],\n",
       "       [ 3.0001, -1.    ]])"
      ]
     },
     "execution_count": 221,
     "metadata": {},
     "output_type": "execute_result"
    }
   ],
   "source": [
    "x = np.array([1, 2])\n",
    "jacob(func, x, 0.01)"
   ]
  },
  {
   "cell_type": "markdown",
   "metadata": {},
   "source": [
    "So the function jacob() get the right results."
   ]
  },
  {
   "cell_type": "markdown",
   "metadata": {},
   "source": [
    "#### Problem 7"
   ]
  },
  {
   "cell_type": "code",
   "execution_count": 222,
   "metadata": {},
   "outputs": [],
   "source": [
    "#define f and its derivative using Sympy\n",
    "x = sy.symbols(\"x\")\n",
    "f = (sy.sin(x) + 1)**(sy.sin(sy.cos(x)))\n",
    "f_der = sy.lambdify(x, sy.diff(f, x), \"numpy\")\n",
    "f = sy.lambdify(x, f, \"numpy\")"
   ]
  },
  {
   "cell_type": "code",
   "execution_count": 223,
   "metadata": {},
   "outputs": [],
   "source": [
    "#write a function that reports the performance (time needed and error) of three ways of computing derivatives\n",
    "def efficiency(N):\n",
    "    '''\n",
    "    Input:\n",
    "        N: an integer. The experiment will be conducted N times.\n",
    "        \n",
    "    Returns:\n",
    "        sympy_times: computation times of Sympy\n",
    "        sympy_errs: computation error of Sympy (set to 1e-18)\n",
    "        dq_times: computation times of difference quotients\n",
    "        dq_errs: computation error of difference quotients \n",
    "        grad_times: computation times of Autograd\n",
    "        grad_errs: computation error of Autograd\n",
    "    '''\n",
    "    sympy_errs = [1e-18] * N\n",
    "    sympy_times = []\n",
    "    dq_errs = []\n",
    "    dq_times = []\n",
    "    grad_errs = []\n",
    "    grad_times = []\n",
    "    for i in range(N):\n",
    "        x0 = random.uniform(-100, 100)\n",
    "        start_time_sympy = time.time()\n",
    "        x = sy.symbols(\"x\")\n",
    "        f = (sy.sin(x) + 1)**(sy.sin(sy.cos(x)))\n",
    "        f_der = sy.lambdify(x, sy.diff(f, x), \"numpy\")\n",
    "        der_sympy = f_der(x0)\n",
    "        sympy_times.append(time.time() - start_time_sympy)\n",
    "        start_time_dq = time.time()\n",
    "        dq_errs.append(abs_error_centered4(x0, 0.0001))\n",
    "        dq_times.append(time.time() - start_time_dq)\n",
    "        f = lambda x: (anp.sin(x) + 1)**(anp.sin(anp.cos(x)))\n",
    "        start_time_grad = time.time()\n",
    "        der_grad = grad(f)\n",
    "        grad_errs.append(abs(f_der(x0) - der_grad(x0)))\n",
    "        grad_times.append(time.time() - start_time_grad)\n",
    "    \n",
    "    return sympy_times, sympy_errs, dq_times, dq_errs, grad_times, grad_errs"
   ]
  },
  {
   "cell_type": "code",
   "execution_count": 225,
   "metadata": {},
   "outputs": [
    {
     "data": {
      "text/plain": [
       "Text(0.5, 1.0, 'Comparing the efficiency of three ways for computing derivatives')"
      ]
     },
     "execution_count": 225,
     "metadata": {},
     "output_type": "execute_result"
    },
    {
     "data": {
      "image/png": "[encoded data removed]",
      "text/plain": [
       "<Figure size 432x288 with 1 Axes>"
      ]
     },
     "metadata": {
      "needs_background": "light"
     },
     "output_type": "display_data"
    }
   ],
   "source": [
    "N = 200\n",
    "\n",
    "plt.yscale('log')\n",
    "plt.xscale('log')\n",
    "plt.xlabel(\"Computation time (seconds)\")\n",
    "plt.ylabel(\"Computation error\")\n",
    "plt.scatter(efficiency(N)[0], efficiency(N)[1], label=\"SymPy\")\n",
    "plt.scatter(efficiency(N)[2], efficiency(N)[3], label=\"Difference Quotients\")\n",
    "plt.scatter(efficiency(N)[4], efficiency(N)[5], label=\"Autograd\")\n",
    "plt.legend(loc=\"upper right\")\n",
    "plt.title(\"Comparing the efficiency of three ways for computing derivatives\")"
   ]
  },
  {
   "cell_type": "markdown",
   "metadata": {},
   "source": [
    "From the graph, we can see that Sympy has runs the slowest but produces the most accurate results. Using difference quotients is the fastest way compared to Autograd and Sympy but its results are the least accurate compared with the other methods."
   ]
  },
  {
   "cell_type": "markdown",
   "metadata": {},
   "source": [
    "### Part 2"
   ]
  },
  {
   "cell_type": "markdown",
   "metadata": {},
   "source": [
    "#### Exercise 2.1"
   ]
  },
  {
   "cell_type": "code",
   "execution_count": 226,
   "metadata": {},
   "outputs": [],
   "source": [
    "'''\n",
    "For the functions below, the inputs are:\n",
    "    g: a function to evaluate\n",
    "    a: lower integration bound\n",
    "    b: upper integration bound\n",
    "    N: number of intervals\n",
    "'''\n",
    "\n",
    "#write three helper functions to approximate the integral with the three Newton-Cotes methods\n",
    "def midpoint(g, a, b, N):\n",
    "    bin_width = (b - a) / N\n",
    "    midpoint_int = 0\n",
    "    for i in range(N):\n",
    "        x = a + (2 * i + 1) * (b - a)/ (2 * N)\n",
    "        midpoint_int += g(x) * bin_width\n",
    "    \n",
    "    return midpoint_int\n",
    "\n",
    "def trapezoid(g, a, b, N):\n",
    "    bin_width = (b - a) / N\n",
    "    trapezoid_int = g(a) + g(b)\n",
    "    for i in range(1, N):\n",
    "        xi = a + i  * bin_width\n",
    "        trapezoid_int += 2 * g(xi)\n",
    "    trapezoid_int = trapezoid_int * bin_width / 2 \n",
    "    \n",
    "    return trapezoid_int\n",
    "\n",
    "def simpsons(g, a, b, N):\n",
    "    bin_width = (b - a) / (2 * N)\n",
    "    simpsons_int = g(a) + g(b)\n",
    "    \n",
    "    for i in range(1, 2 * N, 2):\n",
    "        xi = a + bin_width  * i \n",
    "        simpsons_int += g(xi) * 4\n",
    "    for i in range(2, (2 * N - 1), 2):\n",
    "        xi = a + bin_width * i\n",
    "        simpsons_int += g(xi) * 2\n",
    "    \n",
    "    simpsons_int = simpsons_int * bin_width / 3\n",
    "    \n",
    "    return simpsons_int\n",
    "\n",
    "#a function that returns the value of integral approximated with the input methods \n",
    "def NCIntegration(g, a, b, N, method={'midpoint', 'trapezoid', 'Simpsons'}):\n",
    "    values = dict()\n",
    "    if \"midpoint\" in method:\n",
    "        values[\"midpoint\"] = midpoint(g, a, b, N)\n",
    "    if \"trapezoid\" in method:\n",
    "        values[\"trapezoid\"] = trapezoid(g, a, b, N)\n",
    "    if \"Simpsons\" in method:\n",
    "        values[\"Simpsons\"] = simpsons(g, a, b, N)\n",
    "    \n",
    "    return values"
   ]
  },
  {
   "cell_type": "code",
   "execution_count": 227,
   "metadata": {},
   "outputs": [
    {
     "data": {
      "text/plain": [
       "{'midpoint': 4373.333333320144,\n",
       " 'trapezoid': 4373.333333360538,\n",
       " 'Simpsons': 4373.333333333232}"
      ]
     },
     "execution_count": 227,
     "metadata": {},
     "output_type": "execute_result"
    }
   ],
   "source": [
    "#define the function that we want to evaluate\n",
    "g = lambda x: 0.1 * (x**4) - 1.5 * (x**3) + 0.53  * (x**2) + 2 * x + 1\n",
    "#evaluate the function using all three methods\n",
    "NCIntegration(g, -10, 10, 1000000, method={'midpoint', 'trapezoid', 'Simpsons'})"
   ]
  },
  {
   "cell_type": "code",
   "execution_count": 228,
   "metadata": {
    "scrolled": true
   },
   "outputs": [
    {
     "data": {
      "image/png": "[encoded data removed]",
      "text/plain": [
       "<Figure size 432x288 with 1 Axes>"
      ]
     },
     "metadata": {
      "needs_background": "light"
     },
     "output_type": "display_data"
    }
   ],
   "source": [
    "#plot the errors for different values of N\n",
    "Nvec = np.arange(20, 201, 1)\n",
    "\n",
    "def plot_NC_err(g, a, b, Nvec):\n",
    "    true_value = scipy.integrate.quad(g, a, b)[0]\n",
    "    midpoint_errs = []\n",
    "    trapezoid_errs = []\n",
    "    simpsons_errs = []\n",
    "    for N in Nvec:\n",
    "        midpoint_errs.append(abs(NCIntegration(g, a, b, N)[\"midpoint\"] - true_value))\n",
    "        trapezoid_errs.append(abs(NCIntegration(g, a, b, N)[\"trapezoid\"] - true_value))\n",
    "        simpsons_errs.append(abs(NCIntegration(g, a, b, N)[\"Simpsons\"] - true_value))\n",
    "    plt.xlabel(\"N\")\n",
    "    plt.ylabel(\"Computation error\")\n",
    "    plt.plot(Nvec, midpoint_errs, label=\"midpoint\")\n",
    "    plt.plot(Nvec, trapezoid_errs, label=\"trapezoid\")\n",
    "    plt.plot(Nvec, simpsons_errs, label=\"Simpsons\")\n",
    "    plt.legend(loc=\"upper right\")\n",
    "    plt.title(\"Comparing the errors of three Newton-Cotes methods\")\n",
    "    \n",
    "plot_NC_err(g, -10, 10, Nvec)"
   ]
  },
  {
   "cell_type": "markdown",
   "metadata": {},
   "source": [
    "From the graph, we can see that when N is small, the three methods performs differently and the simpsons method produces the most accurate results. When N gets large, these three methods all produces very small errors."
   ]
  },
  {
   "cell_type": "code",
   "execution_count": 229,
   "metadata": {},
   "outputs": [
    {
     "data": {
      "text/plain": [
       "Text(0.5, 1.0, 'g(x) on [-10, 10]')"
      ]
     },
     "execution_count": 229,
     "metadata": {},
     "output_type": "execute_result"
    },
    {
     "data": {
      "image/png": "[encoded data removed]",
      "text/plain": [
       "<Figure size 432x288 with 1 Axes>"
      ]
     },
     "metadata": {
      "needs_background": "light"
     },
     "output_type": "display_data"
    }
   ],
   "source": [
    "x = np.linspace(-10, 10, 10000)\n",
    "\n",
    "plt.plot(x, g(x))\n",
    "plt.xlabel(\"x\")\n",
    "plt.ylabel(\"g(x)\")\n",
    "plt.title(\"g(x) on [-10, 10]\")"
   ]
  },
  {
   "cell_type": "markdown",
   "metadata": {},
   "source": [
    "Plotting $g(x)$ on $[-10, 10]$, we can see that the slope changes multiple times on the curve. So when N is small, the trapezoid method would produce relatively large error. Its shape resembles the shape of a quadratic function, so the Simpsons method would produce relatively small error."
   ]
  },
  {
   "cell_type": "markdown",
   "metadata": {},
   "source": [
    "#### Exercise 2.2"
   ]
  },
  {
   "cell_type": "code",
   "execution_count": 230,
   "metadata": {},
   "outputs": [],
   "source": [
    "#write a function to approximate a normal distribution\n",
    "def NCNormal(mu, sigma, N, k):\n",
    "    '''\n",
    "    Inputs:\n",
    "        mu: mean\n",
    "        sigma: standard deviation\n",
    "        N: the number of equally spaced nodes\n",
    "        k: he number of standard deviations k away from mu to make the furthest nodes on either side of mu\n",
    "    \n",
    "    Returns:\n",
    "         nodes and weights\n",
    "    '''\n",
    "    z1 = mu - sigma * k\n",
    "    zN = mu + sigma * k\n",
    "    z = np.linspace(z1, zN, N)\n",
    "    w = []\n",
    "    for i in range(N):\n",
    "        if i == 0:\n",
    "            w.append(scipy.stats.norm.cdf((z[i] + z[i+1]) / 2, loc=mu, scale=sigma))\n",
    "        elif i > 0 and i < (N - 1):\n",
    "            w.append(scipy.stats.norm.cdf((z[i] + z[i+1]) / 2, loc=mu, scale=sigma) - scipy.stats.norm.cdf((z[i-1] + z[i]) / 2, loc=mu, scale=sigma))\n",
    "        else:\n",
    "            w.append(1 - scipy.stats.norm.cdf((z[i-1] + z[i]) / 2, loc=mu, scale=sigma))\n",
    "            \n",
    "    return z, w"
   ]
  },
  {
   "cell_type": "code",
   "execution_count": 231,
   "metadata": {},
   "outputs": [
    {
     "name": "stdout",
     "output_type": "stream",
     "text": [
      "When N = 11, mu = 5, sigma = 1.5, k = 3, the nodes are  [0.5 1.4 2.3 3.2 4.1 5.  5.9 6.8 7.7 8.6 9.5] ; and the respective weights are [0.0034669738030406686, 0.014397446759775874, 0.04894278070604153, 0.1172529240779014, 0.19802845246428785, 0.23582284437790535, 0.1980284524642878, 0.11725292407790144, 0.04894278070604152, 0.014397446759775945, 0.0034669738030406183]\n"
     ]
    },
    {
     "data": {
      "text/plain": [
       "Text(0.5, 1.0, 'Approximation of a normal distribution (N = 11, mu = 5, sigma = 1.5, k = 3)')"
      ]
     },
     "execution_count": 231,
     "metadata": {},
     "output_type": "execute_result"
    },
    {
     "data": {
      "image/png": "[encoded data removed]",
      "text/plain": [
       "<Figure size 432x288 with 1 Axes>"
      ]
     },
     "metadata": {
      "needs_background": "light"
     },
     "output_type": "display_data"
    }
   ],
   "source": [
    "N = 11\n",
    "mu = 5\n",
    "sigma = 1.5\n",
    "k = 3\n",
    "print(\"When N = 11, mu = 5, sigma = 1.5, k = 3, the nodes are \", NCNormal(mu, sigma, N, k)[0], \"; and the respective weights are\",  NCNormal(mu, sigma, N, k)[1])\n",
    "\n",
    "plt.xlabel(\"Nodes\")\n",
    "plt.ylabel(\"Weights\")\n",
    "plt.plot(NCNormal(mu, sigma, N, k)[0], NCNormal(mu, sigma, N, k)[1])\n",
    "plt.title(\"Approximation of a normal distribution (N = 11, mu = 5, sigma = 1.5, k = 3)\")"
   ]
  },
  {
   "cell_type": "markdown",
   "metadata": {},
   "source": [
    "#### Exercise 2.3"
   ]
  },
  {
   "cell_type": "code",
   "execution_count": 232,
   "metadata": {},
   "outputs": [],
   "source": [
    "def NCLognormal(mu, sigma, N, k):\n",
    "    a1 = mu - sigma * k\n",
    "    aN = mu + sigma * k\n",
    "    a = np.linspace(a1, aN, N)\n",
    "    a = np.exp(a)\n",
    "    w = []\n",
    "    for i in range(N):\n",
    "        if i == 0:\n",
    "            w.append(scipy.stats.lognorm.cdf((a[i] + a[i+1]) / 2, sigma, loc=mu, scale=np.exp(mu)))\n",
    "        elif i > 0 and i < (N - 1):\n",
    "            w.append(scipy.stats.lognorm.cdf((a[i] + a[i+1]) / 2, sigma, loc=mu, scale=np.exp(mu)) \\\n",
    "                     - scipy.stats.lognorm.cdf((a[i-1] + a[i]) / 2, sigma, loc=mu, scale=np.exp(mu)))\n",
    "        else:\n",
    "            w.append(1 - (scipy.stats.lognorm.cdf((a[i-1] + a[i]) / 2, sigma, loc=mu, scale=np.exp(mu))))\n",
    "    \n",
    "    return a, w"
   ]
  },
  {
   "cell_type": "code",
   "execution_count": 233,
   "metadata": {},
   "outputs": [
    {
     "name": "stdout",
     "output_type": "stream",
     "text": [
      "When N = 11, mu = 5, sigma = 1.5, k = 3, the nodes are  [1.64872127e+00 4.05519997e+00 9.97418245e+00 2.45325302e+01\n",
      " 6.03402876e+01 1.48413159e+02 3.65037468e+02 8.97847292e+02\n",
      " 2.20834799e+03 5.43165959e+03 1.33597268e+04] ; and the respective weights are [0.0, 0.002076134809680094, 0.046100095856152955, 0.13107103603251036, 0.2153379303190513, 0.24308027998497428, 0.19381644403012965, 0.10951389811478884, 0.043789826508775054, 0.012368065605801504, 0.0028462887381359714]\n"
     ]
    },
    {
     "data": {
      "text/plain": [
       "Text(0.5, 1.0, 'Approximation of a log normal distribution (N = 11, mu = 5, sigma = 1.5, k = 3)')"
      ]
     },
     "execution_count": 233,
     "metadata": {},
     "output_type": "execute_result"
    },
    {
     "data": {
      "image/png": "[encoded data removed]",
      "text/plain": [
       "<Figure size 432x288 with 1 Axes>"
      ]
     },
     "metadata": {
      "needs_background": "light"
     },
     "output_type": "display_data"
    }
   ],
   "source": [
    "N = 11\n",
    "mu = 5\n",
    "sigma = 1.5\n",
    "k = 3\n",
    "print(\"When N = 11, mu = 5, sigma = 1.5, k = 3, the nodes are \", NCLognormal(mu, sigma, N, k)[0], \"; and the respective weights are\",  NCLognormal(mu, sigma, N, k)[1])\n",
    "plt.plot(NCLognormal(mu, sigma, N, k)[0], NCLognormal(mu, sigma, N, k)[1])\n",
    "plt.xlabel(\"Nodes\")\n",
    "plt.ylabel(\"Weights\")\n",
    "plt.title(\"Approximation of a log normal distribution (N = 11, mu = 5, sigma = 1.5, k = 3)\")"
   ]
  },
  {
   "cell_type": "markdown",
   "metadata": {},
   "source": [
    "If we set N to be larger, say N = 1000, we would obtain a curve that shapes like an actual log-normal distribution curve."
   ]
  },
  {
   "cell_type": "code",
   "execution_count": 234,
   "metadata": {},
   "outputs": [
    {
     "data": {
      "text/plain": [
       "Text(0.5, 1.0, 'Approximation of a log normal distribution (N = 1000)')"
      ]
     },
     "execution_count": 234,
     "metadata": {},
     "output_type": "execute_result"
    },
    {
     "data": {
      "image/png": "[encoded data removed]",
      "text/plain": [
       "<Figure size 432x288 with 1 Axes>"
      ]
     },
     "metadata": {
      "needs_background": "light"
     },
     "output_type": "display_data"
    }
   ],
   "source": [
    "N = 1000\n",
    "mu = 5\n",
    "sigma = 1.5\n",
    "k = 3\n",
    "plt.xlim(0, 10000)\n",
    "plt.plot(NCLognormal(mu, sigma, N, k)[0], NCLognormal(mu, sigma, N, k)[1])\n",
    "plt.xlabel(\"Nodes\")\n",
    "plt.ylabel(\"Weights\")\n",
    "plt.title(\"Approximation of a log normal distribution (N = 1000)\")"
   ]
  },
  {
   "cell_type": "markdown",
   "metadata": {},
   "source": [
    "#### Exercise 2.4"
   ]
  },
  {
   "cell_type": "code",
   "execution_count": 235,
   "metadata": {},
   "outputs": [
    {
     "name": "stdout",
     "output_type": "stream",
     "text": [
      "The approximated expected income is  50020.517771299375\n",
      "The exact value of expected income is  50011.087008521754\n"
     ]
    }
   ],
   "source": [
    "N = 1000\n",
    "mu = 10.5\n",
    "sigma = 0.8\n",
    "k = 10\n",
    "nodes = np.asarray(NCLognormal(mu, sigma, N, k)[0])\n",
    "weights = np.asarray(NCLognormal(mu, sigma, N, k)[1])\n",
    "#approximate the expected income as sum of nodes * weights\n",
    "appr_e = np.sum(nodes * weights)\n",
    "print(\"The approximated expected income is \", appr_e)\n",
    "print(\"The exact value of expected income is \", np.exp(10.5 + 0.8 ** 2 / 2))"
   ]
  },
  {
   "cell_type": "markdown",
   "metadata": {},
   "source": [
    "#### Exercise 3.1"
   ]
  },
  {
   "cell_type": "code",
   "execution_count": 236,
   "metadata": {},
   "outputs": [],
   "source": [
    "#define g\n",
    "g = lambda x: 0.1 * (x**4) - 1.5 * (x**3) + 0.53  * (x**2) + 2 * x + 1"
   ]
  },
  {
   "cell_type": "code",
   "execution_count": 237,
   "metadata": {},
   "outputs": [
    {
     "name": "stdout",
     "output_type": "stream",
     "text": [
      "The approximated value using Gaussian quadrature is 4373.333331853467\n",
      "The approximated value using midpoint rule is 2967.8189300411505\n",
      "The approximated value using trapezoid rule is 7283.12757201646\n"
     ]
    }
   ],
   "source": [
    "a = -10\n",
    "b = 10\n",
    "\n",
    "#define a function that solves the system of equations when N = 3\n",
    "def solve_equations(x):\n",
    "    return [x[0] + x[1] + x[2] - scipy.integrate.quad(lambda x: 1, a, b)[0], \n",
    "            x[0] * x[3] + x[1] * x[4] + x[2] * x[5] - scipy.integrate.quad(lambda x: x, a, b)[0],\n",
    "            x[0] * (x[3] ** 2) + x[1] * (x[4] ** 2) + x[2] * (x[5] ** 2) - scipy.integrate.quad(lambda x: x ** 2, a, b)[0],\n",
    "            x[0] * (x[3] ** 3) + x[1] * (x[4] ** 3) + x[2] * (x[5] ** 3) - scipy.integrate.quad(lambda x: x ** 3, a, b)[0],\n",
    "            x[0] * (x[3] ** 4) + x[1] * (x[4] ** 4) + x[2] * (x[5] ** 4)  - scipy.integrate.quad(lambda x: x ** 4, a, b)[0],\n",
    "            x[0] * (x[3] ** 5) + x[1] * (x[4] ** 5) + x[2] * (x[5] ** 5)  - scipy.integrate.quad(lambda x: x ** 5, a, b)[0]]\n",
    "\n",
    "#randomly generate guesses until we obtain the right solution\n",
    "guess = np.random.rand(6)\n",
    "while not scipy.optimize.root(solve_equations, guess).success:\n",
    "    guess = np.random.rand(6)\n",
    "\n",
    "sol = scipy.optimize.root(solve_equations, guess).x\n",
    "weights = np.asarray(sol[:3])\n",
    "gvalues = np.asarray(g(sol[3:]))\n",
    "appr_int = np.sum(weights * gvalues)\n",
    "\n",
    "print(\"The approximated value using Gaussian quadrature is\", appr_int)\n",
    "print(\"The approximated value using midpoint rule is\", midpoint(g, a, b, 3))\n",
    "print(\"The approximated value using trapezoid rule is\", trapezoid(g, a, b, 3))"
   ]
  },
  {
   "cell_type": "markdown",
   "metadata": {},
   "source": [
    "The known analytical value of the integral is 4373.33. We can see that when N is small, Gaussian quadrature gives a much more accurate approximation."
   ]
  },
  {
   "cell_type": "markdown",
   "metadata": {},
   "source": [
    "#### Exercise 3.2"
   ]
  },
  {
   "cell_type": "code",
   "execution_count": 238,
   "metadata": {},
   "outputs": [],
   "source": [
    "g = lambda x: 0.1 * (x**4) - 1.5 * (x**3) + 0.53  * (x**2) + 2 * x + 1"
   ]
  },
  {
   "cell_type": "code",
   "execution_count": 239,
   "metadata": {},
   "outputs": [
    {
     "name": "stdout",
     "output_type": "stream",
     "text": [
      "The approximated value using Python Gaussian quadrature command is 4373.333333333334\n"
     ]
    }
   ],
   "source": [
    "a = -10\n",
    "b = 10\n",
    "print(\"The approximated value using Python Gaussian quadrature command is\", scipy.integrate.quad(g, a, b)[0])"
   ]
  },
  {
   "cell_type": "markdown",
   "metadata": {},
   "source": [
    "The known analytical value of the integral is 4373.33. We can see that the Python Gaussian quadrature command gives a pretty accurate approximation."
   ]
  },
  {
   "cell_type": "markdown",
   "metadata": {},
   "source": [
    "#### Exercise 4.1"
   ]
  },
  {
   "cell_type": "code",
   "execution_count": 240,
   "metadata": {},
   "outputs": [],
   "source": [
    "#define a function for Standard Monte Carlo integration\n",
    "def standardMC(g, d, N):\n",
    "    '''\n",
    "    Inputs: \n",
    "        g: function to be evaluated\n",
    "        d: domain\n",
    "        N: the number of random draws\n",
    "    \n",
    "    Returns:\n",
    "        the approximated value of integral\n",
    "    '''\n",
    "    np.random.seed(seed=25)\n",
    "    scale1 = d[0][1] - d[0][0]\n",
    "    scale2 = d[1][1] - d[1][0]\n",
    "    V = scale1 * scale2\n",
    "    x_draws = scipy.stats.uniform.rvs(loc=d[0][0], scale=scale1, size=N)\n",
    "    y_draws = scipy.stats.uniform.rvs(loc=d[1][0], scale=scale2, size=N)\n",
    "    nodes = np.asarray([(x_draws[i], y_draws[i]) for i in range(N)])\n",
    "    mc_int = np.sum(np.apply_along_axis(g, 1, nodes)) * V / N\n",
    "    \n",
    "    return mc_int"
   ]
  },
  {
   "cell_type": "code",
   "execution_count": 241,
   "metadata": {},
   "outputs": [],
   "source": [
    "#define the indicator function\n",
    "g = lambda x: 1 if x[0]**2 + x[1]**2 <= 1 else 0"
   ]
  },
  {
   "cell_type": "code",
   "execution_count": 242,
   "metadata": {},
   "outputs": [
    {
     "name": "stdout",
     "output_type": "stream",
     "text": [
      "The smallest N is 1668\n"
     ]
    }
   ],
   "source": [
    "#find the smallest N such that the approximated value matches the true value of \\pi to the 4th decimal 3.1415\n",
    "\n",
    "N = 1\n",
    "\n",
    "while round(standardMC(g, d, N), 4) !=  3.1415:\n",
    "    N += 1\n",
    "\n",
    "print(\"The smallest N is\", N)"
   ]
  },
  {
   "cell_type": "markdown",
   "metadata": {},
   "source": [
    "#### Exercise 4.2 "
   ]
  },
  {
   "cell_type": "code",
   "execution_count": 243,
   "metadata": {},
   "outputs": [],
   "source": [
    "#The functions isPrime() and primes_ascend() are from the notebook Numerical Integration by Richard W. Evans\n",
    "def isPrime(n):\n",
    "    '''\n",
    "    --------------------------------------------------------------------\n",
    "    This function returns a boolean indicating whether an integer n is a\n",
    "    prime number\n",
    "    --------------------------------------------------------------------\n",
    "    INPUTS:\n",
    "    n = scalar, any scalar value\n",
    "\n",
    "    OTHER FUNCTIONS AND FILES CALLED BY THIS FUNCTION: None\n",
    "\n",
    "    OBJECTS CREATED WITHIN FUNCTION:\n",
    "    i = integer in [2, sqrt(n)]\n",
    "\n",
    "    FILES CREATED BY THIS FUNCTION: None\n",
    "\n",
    "    RETURN: boolean\n",
    "    --------------------------------------------------------------------\n",
    "    '''\n",
    "    for i in range(2, int(np.sqrt(n) + 1)):\n",
    "        if n % i == 0:\n",
    "            return False\n",
    "\n",
    "    return True"
   ]
  },
  {
   "cell_type": "code",
   "execution_count": 244,
   "metadata": {},
   "outputs": [],
   "source": [
    "def primes_ascend(N, min_val=2):\n",
    "    '''\n",
    "    --------------------------------------------------------------------\n",
    "    This function generates an ordered sequence of N consecutive prime\n",
    "    numbers, the smallest of which is greater than or equal to 1 using\n",
    "    the Sieve of Eratosthenes algorithm.\n",
    "    (https://en.wikipedia.org/wiki/Sieve_of_Eratosthenes)\n",
    "    --------------------------------------------------------------------\n",
    "    INPUTS:\n",
    "    N       = integer, number of elements in sequence of consecutive\n",
    "              prime numbers\n",
    "    min_val = scalar >= 2, the smallest prime number in the consecutive\n",
    "              sequence must be greater-than-or-equal-to this value\n",
    "\n",
    "    OTHER FUNCTIONS AND FILES CALLED BY THIS FUNCTION:\n",
    "        isPrime()\n",
    "\n",
    "    OBJECTS CREATED WITHIN FUNCTION:\n",
    "    primes_vec     = (N,) vector, consecutive prime numbers greater than\n",
    "                     min_val\n",
    "    MinIsEven      = boolean, =True if min_val is even, =False otherwise\n",
    "    MinIsGrtrThn2  = boolean, =True if min_val is\n",
    "                     greater-than-or-equal-to 2, =False otherwise\n",
    "    curr_prime_ind = integer >= 0, running count of prime numbers found\n",
    "\n",
    "    FILES CREATED BY THIS FUNCTION: None\n",
    "\n",
    "    RETURN: primes_vec\n",
    "    --------------------------------------------------------------------\n",
    "    '''\n",
    "    primes_vec = np.zeros(N, dtype=int)\n",
    "    MinIsEven = 1 - min_val % 2\n",
    "    MinIsGrtrThn2 = min_val > 2\n",
    "    curr_prime_ind = 0\n",
    "    if not MinIsGrtrThn2:\n",
    "        i = 2\n",
    "        curr_prime_ind += 1\n",
    "        primes_vec[0] = i\n",
    "    i = min(3, min_val + (MinIsEven * 1))\n",
    "    while curr_prime_ind < N:\n",
    "        if isPrime(i):\n",
    "            curr_prime_ind += 1\n",
    "            primes_vec[curr_prime_ind - 1] = i\n",
    "        i += 2\n",
    "\n",
    "    return primes_vec"
   ]
  },
  {
   "cell_type": "code",
   "execution_count": 245,
   "metadata": {},
   "outputs": [],
   "source": [
    "#define a function that finds the nth element of a certain type of equidistributed sequence\n",
    "def find_equidist(n, d, sequence):\n",
    "    if sequence == \"Weyl\":\n",
    "        primes = primes_ascend(d, min_val=2)\n",
    "        x = n * np.power(primes, 1/2)\n",
    "        x_frac = x - np.floor(x)                       \n",
    "        return x_frac\n",
    "    elif sequence == \"Haber\":\n",
    "        primes = primes_ascend(d, min_val=2)\n",
    "        x = (n * (n + 1) / 2) * np.power(primes, 1/2)\n",
    "        x_frac = x - np.floor(x)                      \n",
    "        return x_frac\n",
    "    elif sequence == \"Niederreiter\":\n",
    "        element = []\n",
    "        for i in range(d):\n",
    "            x = n * (2 ** ((i + 1)/(d + 1)))\n",
    "            x_frac = x - int(math.floor(x))                       \n",
    "            element.append(x_frac)\n",
    "        return np.asarray(element)\n",
    "    elif sequence == \"Baker\":\n",
    "        element = []\n",
    "        for i in range(1, d + 1):\n",
    "            x = n * math.exp(1 / i)\n",
    "            x_frac = x - int(math.floor(x))\n",
    "            element.append(x_frac)\n",
    "        return np.asarray(element)"
   ]
  },
  {
   "cell_type": "code",
   "execution_count": 248,
   "metadata": {},
   "outputs": [
    {
     "name": "stdout",
     "output_type": "stream",
     "text": [
      "The 1073rd element of the 2-dimensional equidistributed Weyl sequence is [0.45115243 0.49051652]\n",
      "The 1073rd element of the 2-dimensional equidistributed Haber sequence is [0.26885294 0.40737199]\n",
      "The 1073rd element of the 2-dimensional equidistributed Niederreiter sequence is [0.89528654 0.28132876]\n",
      "The 1073rd element of the 2-dimensional equidistributed Baker sequence is [0.71640194 0.07792346]\n"
     ]
    }
   ],
   "source": [
    "print(\"The 1073rd element of the 2-dimensional equidistributed Weyl sequence is\", find_equidist(1073, 2, \"Weyl\"))\n",
    "print(\"The 1073rd element of the 2-dimensional equidistributed Haber sequence is\", find_equidist(1073, 2, \"Haber\"))\n",
    "print(\"The 1073rd element of the 2-dimensional equidistributed Niederreiter sequence is\", find_equidist(1073, 2, \"Niederreiter\"))\n",
    "print(\"The 1073rd element of the 2-dimensional equidistributed Baker sequence is\", find_equidist(1073, 2, \"Baker\"))"
   ]
  },
  {
   "cell_type": "markdown",
   "metadata": {},
   "source": [
    "#### Exercise 4.3"
   ]
  },
  {
   "cell_type": "code",
   "execution_count": 249,
   "metadata": {},
   "outputs": [],
   "source": [
    "def quasiMC(g, d, N, sequence):\n",
    "    np.random.seed(seed=25)\n",
    "    scale1 = d[0][1] - d[0][0]\n",
    "    scale2 = d[1][1] - d[1][0]\n",
    "    V = scale1 * scale2\n",
    "    nodes = []\n",
    "    for n in range(1, N+1):\n",
    "        point = find_equidist(n, len(d), sequence)\n",
    "        node = [d[0][0] + scale1 * point[0], d[1][0] + scale2 * point[1]]\n",
    "        nodes.append(node)\n",
    "    nodes = np.asarray(nodes)\n",
    "    mc_int = np.sum(np.apply_along_axis(g, 1, nodes)) * V / N\n",
    "    \n",
    "    return mc_int"
   ]
  },
  {
   "cell_type": "code",
   "execution_count": 250,
   "metadata": {},
   "outputs": [],
   "source": [
    "#define g\n",
    "g = lambda x: 1 if x[0]**2 + x[1]**2 <= 1 else 0"
   ]
  },
  {
   "cell_type": "code",
   "execution_count": 251,
   "metadata": {},
   "outputs": [
    {
     "name": "stdout",
     "output_type": "stream",
     "text": [
      "The smallest N using Weyl sequence to obtain 3.1415 is 1244\n"
     ]
    }
   ],
   "source": [
    "#find the smallest N such that the approximated value using Weyl sequence matches the true value of \\pi to the 4th decimal 3.1415\n",
    "N = 1\n",
    "\n",
    "while round(quasiMC(g, d, N, \"Weyl\"), 4) !=  3.1415:\n",
    "    N += 1\n",
    "\n",
    "print(\"The smallest N using Weyl sequence to obtain 3.1415 is\", N)"
   ]
  },
  {
   "cell_type": "code",
   "execution_count": 168,
   "metadata": {},
   "outputs": [
    {
     "name": "stdout",
     "output_type": "stream",
     "text": [
      "The smallest N using Haber sequence to obtain 3.1415 is 2078\n"
     ]
    }
   ],
   "source": [
    "#find the smallest N such that the approximated value using Haber sequence matches the true value of \\pi to the 4th decimal 3.1415\n",
    "N = 1\n",
    "\n",
    "while round(quasiMC(g, d, N, \"Haber\"), 4) !=  3.1415:\n",
    "    N += 1\n",
    "\n",
    "print(\"The smallest N using Haber sequence to obtain 3.1415 is\", N)"
   ]
  },
  {
   "cell_type": "code",
   "execution_count": 169,
   "metadata": {},
   "outputs": [
    {
     "name": "stdout",
     "output_type": "stream",
     "text": [
      "The smallest N using Niederreiter sequence to obtain 3.1415 is 1696\n"
     ]
    }
   ],
   "source": [
    "#find the smallest N such that the approximated value using Niederreiter sequence matches the true value of \\pi to the 4th decimal 3.1415\n",
    "N = 1\n",
    "\n",
    "while round(quasiMC(g, d, N, \"Niederreiter\"), 4) !=  3.1415:\n",
    "    N += 1\n",
    "\n",
    "print(\"The smallest N using Niederreiter sequence to obtain 3.1415 is\", N)"
   ]
  },
  {
   "cell_type": "code",
   "execution_count": 170,
   "metadata": {},
   "outputs": [
    {
     "name": "stdout",
     "output_type": "stream",
     "text": [
      "The smallest N using Baker sequence to obtain 3.1415 is 205\n"
     ]
    }
   ],
   "source": [
    "#find the smallest N such that the approximated value using Baker sequence matches the true value of \\pi to the 4th decimal 3.1415\n",
    "N = 1\n",
    "\n",
    "while round(quasiMC(g, d, N, \"Baker\"), 4) !=  3.1415:\n",
    "    N += 1\n",
    "\n",
    "print(\"The smallest N using Baker sequence to obtain 3.1415 is\", N)"
   ]
  },
  {
   "cell_type": "markdown",
   "metadata": {},
   "source": [
    "We cannot directly compare the rate of convergence, as some methods does not converge. For example, if we use the standard MC method, the smallest N such that the approximated value matches the true value of $\\pi$ to the 4th decimal 3.1415 is 1668:"
   ]
  },
  {
   "cell_type": "code",
   "execution_count": 183,
   "metadata": {},
   "outputs": [
    {
     "data": {
      "text/plain": [
       "3.1414868105515588"
      ]
     },
     "execution_count": 183,
     "metadata": {},
     "output_type": "execute_result"
    }
   ],
   "source": [
    "d = [[-1, 1], [-1, 1]]\n",
    "N = 1668\n",
    "standardMC(g, d, N)"
   ]
  },
  {
   "cell_type": "markdown",
   "metadata": {},
   "source": [
    "But if N increases, say N = 1669, the approximated value is less closer to 3.1415:"
   ]
  },
  {
   "cell_type": "code",
   "execution_count": 184,
   "metadata": {},
   "outputs": [
    {
     "data": {
      "text/plain": [
       "3.118034751348113"
      ]
     },
     "execution_count": 184,
     "metadata": {},
     "output_type": "execute_result"
    }
   ],
   "source": [
    "d = [[-1, 1], [-1, 1]]\n",
    "N = 1669\n",
    "standardMC(g, d, N)"
   ]
  }
 ],
 "metadata": {
  "kernelspec": {
   "display_name": "Python 3",
   "language": "python",
   "name": "python3"
  },
  "language_info": {
   "codemirror_mode": {
    "name": "ipython",
    "version": 3
   },
   "file_extension": ".py",
   "mimetype": "text/x-python",
   "name": "python",
   "nbconvert_exporter": "python",
   "pygments_lexer": "ipython3",
   "version": "3.7.4"
  }
 },
 "nbformat": 4,
 "nbformat_minor": 2
}

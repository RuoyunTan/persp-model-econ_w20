{
 "cells": [
  {
   "cell_type": "markdown",
   "metadata": {},
   "source": [
    "## Problem Set #9"
   ]
  },
  {
   "cell_type": "markdown",
   "metadata": {},
   "source": [
    "MACS 30150, Dr. Evans\n",
    "\n",
    "Ruoyun Tan"
   ]
  },
  {
   "cell_type": "markdown",
   "metadata": {},
   "source": [
    "### Problem 1"
   ]
  },
  {
   "cell_type": "markdown",
   "metadata": {},
   "source": [
    "#### (a)"
   ]
  },
  {
   "cell_type": "code",
   "execution_count": 1,
   "metadata": {},
   "outputs": [
    {
     "data": {
      "text/html": [
       "<div>\n",
       "<style scoped>\n",
       "    .dataframe tbody tr th:only-of-type {\n",
       "        vertical-align: middle;\n",
       "    }\n",
       "\n",
       "    .dataframe tbody tr th {\n",
       "        vertical-align: top;\n",
       "    }\n",
       "\n",
       "    .dataframe thead th {\n",
       "        text-align: right;\n",
       "    }\n",
       "</style>\n",
       "<table border=\"1\" class=\"dataframe\">\n",
       "  <thead>\n",
       "    <tr style=\"text-align: right;\">\n",
       "      <th></th>\n",
       "      <th>cultivar</th>\n",
       "      <th>alco</th>\n",
       "      <th>malic</th>\n",
       "      <th>ash</th>\n",
       "      <th>alk</th>\n",
       "      <th>magn</th>\n",
       "      <th>tot_phen</th>\n",
       "      <th>flav</th>\n",
       "      <th>nonfl_phen</th>\n",
       "      <th>proanth</th>\n",
       "      <th>color_int</th>\n",
       "      <th>hue</th>\n",
       "      <th>OD280rat</th>\n",
       "      <th>proline</th>\n",
       "    </tr>\n",
       "  </thead>\n",
       "  <tbody>\n",
       "    <tr>\n",
       "      <th>0</th>\n",
       "      <td>1</td>\n",
       "      <td>14.23</td>\n",
       "      <td>1.71</td>\n",
       "      <td>2.43</td>\n",
       "      <td>15.6</td>\n",
       "      <td>127</td>\n",
       "      <td>2.80</td>\n",
       "      <td>3.06</td>\n",
       "      <td>0.28</td>\n",
       "      <td>2.29</td>\n",
       "      <td>5.64</td>\n",
       "      <td>1.04</td>\n",
       "      <td>3.92</td>\n",
       "      <td>1065</td>\n",
       "    </tr>\n",
       "    <tr>\n",
       "      <th>1</th>\n",
       "      <td>1</td>\n",
       "      <td>13.20</td>\n",
       "      <td>1.78</td>\n",
       "      <td>2.14</td>\n",
       "      <td>11.2</td>\n",
       "      <td>100</td>\n",
       "      <td>2.65</td>\n",
       "      <td>2.76</td>\n",
       "      <td>0.26</td>\n",
       "      <td>1.28</td>\n",
       "      <td>4.38</td>\n",
       "      <td>1.05</td>\n",
       "      <td>3.40</td>\n",
       "      <td>1050</td>\n",
       "    </tr>\n",
       "    <tr>\n",
       "      <th>2</th>\n",
       "      <td>1</td>\n",
       "      <td>13.16</td>\n",
       "      <td>2.36</td>\n",
       "      <td>2.67</td>\n",
       "      <td>18.6</td>\n",
       "      <td>101</td>\n",
       "      <td>2.80</td>\n",
       "      <td>3.24</td>\n",
       "      <td>0.30</td>\n",
       "      <td>2.81</td>\n",
       "      <td>5.68</td>\n",
       "      <td>1.03</td>\n",
       "      <td>3.17</td>\n",
       "      <td>1185</td>\n",
       "    </tr>\n",
       "    <tr>\n",
       "      <th>3</th>\n",
       "      <td>1</td>\n",
       "      <td>14.37</td>\n",
       "      <td>1.95</td>\n",
       "      <td>2.50</td>\n",
       "      <td>16.8</td>\n",
       "      <td>113</td>\n",
       "      <td>3.85</td>\n",
       "      <td>3.49</td>\n",
       "      <td>0.24</td>\n",
       "      <td>2.18</td>\n",
       "      <td>7.80</td>\n",
       "      <td>0.86</td>\n",
       "      <td>3.45</td>\n",
       "      <td>1480</td>\n",
       "    </tr>\n",
       "    <tr>\n",
       "      <th>4</th>\n",
       "      <td>1</td>\n",
       "      <td>13.24</td>\n",
       "      <td>2.59</td>\n",
       "      <td>2.87</td>\n",
       "      <td>21.0</td>\n",
       "      <td>118</td>\n",
       "      <td>2.80</td>\n",
       "      <td>2.69</td>\n",
       "      <td>0.39</td>\n",
       "      <td>1.82</td>\n",
       "      <td>4.32</td>\n",
       "      <td>1.04</td>\n",
       "      <td>2.93</td>\n",
       "      <td>735</td>\n",
       "    </tr>\n",
       "  </tbody>\n",
       "</table>\n",
       "</div>"
      ],
      "text/plain": [
       "   cultivar   alco  malic   ash   alk  magn  tot_phen  flav  nonfl_phen  \\\n",
       "0         1  14.23   1.71  2.43  15.6   127      2.80  3.06        0.28   \n",
       "1         1  13.20   1.78  2.14  11.2   100      2.65  2.76        0.26   \n",
       "2         1  13.16   2.36  2.67  18.6   101      2.80  3.24        0.30   \n",
       "3         1  14.37   1.95  2.50  16.8   113      3.85  3.49        0.24   \n",
       "4         1  13.24   2.59  2.87  21.0   118      2.80  2.69        0.39   \n",
       "\n",
       "   proanth  color_int   hue  OD280rat  proline  \n",
       "0     2.29       5.64  1.04      3.92     1065  \n",
       "1     1.28       4.38  1.05      3.40     1050  \n",
       "2     2.81       5.68  1.03      3.17     1185  \n",
       "3     2.18       7.80  0.86      3.45     1480  \n",
       "4     1.82       4.32  1.04      2.93      735  "
      ]
     },
     "execution_count": 1,
     "metadata": {},
     "output_type": "execute_result"
    }
   ],
   "source": [
    "import pandas as pd\n",
    "import warnings\n",
    "warnings.filterwarnings(\"ignore\")\n",
    "\n",
    "df = pd.read_csv('data/strongdrink.txt')\n",
    "df.head()"
   ]
  },
  {
   "cell_type": "code",
   "execution_count": 2,
   "metadata": {},
   "outputs": [
    {
     "data": {
      "image/png": "[encoded data removed]",
      "text/plain": [
       "<Figure size 432x288 with 1 Axes>"
      ]
     },
     "metadata": {
      "needs_background": "light"
     },
     "output_type": "display_data"
    }
   ],
   "source": [
    "import matplotlib.pyplot as plt\n",
    "\n",
    "plt.scatter(df['alco'][df['cultivar'] == 1], df['color_int'][df['cultivar'] == 1], color='g', label='cultivar = 1')\n",
    "plt.scatter(df['alco'][df['cultivar'] == 2], df['color_int'][df['cultivar'] == 2], color='c', label='cultivar = 2')\n",
    "plt.scatter(df['alco'][df['cultivar'] == 3], df['color_int'][df['cultivar'] == 3], color='m', label='cultivar = 1')\n",
    "plt.title(\"Alcohol and Color Intensity\")\n",
    "plt.xlabel('Alcohol (alco)')\n",
    "plt.ylabel('Color intensity (color_int)')\n",
    "plt.legend()\n",
    "plt.show()"
   ]
  },
  {
   "cell_type": "markdown",
   "metadata": {},
   "source": [
    "#### (b)"
   ]
  },
  {
   "cell_type": "code",
   "execution_count": 6,
   "metadata": {},
   "outputs": [
    {
     "name": "stdout",
     "output_type": "stream",
     "text": [
      "The optimal tuning parameter values are {'C': 8.128371786090085, 'penalty': 'l2'}\n",
      "The MSE of the optimal results is 0.09015873015873017\n"
     ]
    }
   ],
   "source": [
    "from scipy.stats import uniform as sp_uniform\n",
    "from sklearn.linear_model import LogisticRegression\n",
    "from sklearn.model_selection import RandomizedSearchCV\n",
    "\n",
    "X = df[['alco','malic','tot_phen','color_int']]\n",
    "y = df['cultivar']\n",
    "param_dist1 = {'penalty': ['l1', 'l2'], \n",
    "               'C': sp_uniform(0.1, 10.0)}\n",
    "rc1 = RandomizedSearchCV(LogisticRegression(), param_dist1, \\\n",
    "    n_iter=200, n_jobs=-1, cv=5, random_state=25, scoring='neg_mean_squared_error')\n",
    "rc_model1 = rc1.fit(X, y)\n",
    "print('The optimal tuning parameter values are', rc_model1.best_params_)\n",
    "print('The MSE of the optimal results is', -rc_model1.best_score_)"
   ]
  },
  {
   "cell_type": "markdown",
   "metadata": {},
   "source": [
    "#### (c)"
   ]
  },
  {
   "cell_type": "code",
   "execution_count": 7,
   "metadata": {},
   "outputs": [
    {
     "name": "stdout",
     "output_type": "stream",
     "text": [
      "The optimal tuning parameter values are {'max_depth': 3, 'max_features': 1, 'min_samples_leaf': 14, 'min_samples_split': 9, 'n_estimators': 93}\n",
      "The MSE of the optimal results is 0.13079365079365077\n"
     ]
    }
   ],
   "source": [
    "from sklearn.ensemble import RandomForestClassifier\n",
    "from scipy.stats import randint as sp_randint\n",
    "\n",
    "param_dist2 = {'n_estimators': sp_randint(10, 200),\n",
    "               'max_depth': sp_randint(2, 4),\n",
    "               'min_samples_split': sp_randint(2, 20),\n",
    "               'min_samples_leaf': sp_randint(2, 20),\n",
    "               'max_features': sp_randint(1, 4)}\n",
    "rf2 = RandomForestClassifier()\n",
    "rc2 = RandomizedSearchCV(rf2, param_dist2, \n",
    "         n_iter=200, n_jobs=-1, cv=5, random_state=25, scoring='neg_mean_squared_error')\n",
    "\n",
    "rc_model2 = rc2.fit(X, y)\n",
    "print('The optimal tuning parameter values are', rc_model2.best_params_)\n",
    "print('The MSE of the optimal results is', -rc_model2.best_score_)"
   ]
  },
  {
   "cell_type": "markdown",
   "metadata": {},
   "source": [
    "#### (d)"
   ]
  },
  {
   "cell_type": "code",
   "execution_count": 8,
   "metadata": {},
   "outputs": [
    {
     "name": "stdout",
     "output_type": "stream",
     "text": [
      "The optimal tuning parameter values are {'C': 8.801241366272118, 'gamma': 'scale', 'shrinking': False}\n",
      "The MSE of the optimal results is 0.1461904761904762\n"
     ]
    }
   ],
   "source": [
    "from sklearn.svm import SVC\n",
    "from scipy.stats import uniform as sp_uniform\n",
    "\n",
    "param_dist3 = {'C': sp_uniform(loc=0.1, scale=10.0), \n",
    "               'gamma': ['scale', 'auto'], \n",
    "               'shrinking': [True, False]}\n",
    "rc3 = RandomizedSearchCV(SVC(kernel='rbf'), param_distributions=param_dist3,\n",
    "    n_iter=200, n_jobs=-1, cv=5, random_state=25, scoring='neg_mean_squared_error')\n",
    "rc_model3 = rc3.fit(X, y)\n",
    "print('The optimal tuning parameter values are', rc_model3.best_params_)\n",
    "print('The MSE of the optimal results is', -rc_model3.best_score_)"
   ]
  },
  {
   "cell_type": "markdown",
   "metadata": {},
   "source": [
    "#### (e)"
   ]
  },
  {
   "cell_type": "code",
   "execution_count": 9,
   "metadata": {},
   "outputs": [
    {
     "name": "stdout",
     "output_type": "stream",
     "text": [
      "The optimal tuning parameter values are {'activation': 'relu', 'alpha': 0.7965389843643799, 'hidden_layer_sizes': 91}\n",
      "The MSE of the optimal results is 0.07857142857142858\n"
     ]
    }
   ],
   "source": [
    "from sklearn.neural_network import MLPClassifier\n",
    "\n",
    "param_dist4 = {'hidden_layer_sizes': sp_randint(1, 100),\n",
    "               'activation': ['logistic', 'relu'],\n",
    "               'alpha': sp_uniform(0.1, 10.0)}\n",
    "rc4 = RandomizedSearchCV(MLPClassifier(solver='lbfgs'), param_dist4, \n",
    "    n_iter=200, n_jobs=-1, cv=5, random_state=25, scoring='neg_mean_squared_error')\n",
    "rc4_model = rc4.fit(X, y)\n",
    "print('The optimal tuning parameter values are', rc4_model.best_params_)\n",
    "print('The MSE of the optimal results is', -rc4_model.best_score_)"
   ]
  },
  {
   "cell_type": "markdown",
   "metadata": {},
   "source": [
    "#### (f)"
   ]
  },
  {
   "cell_type": "markdown",
   "metadata": {},
   "source": [
    "I think the neural network model is the best predictor of $cultivar$ since it produces the smallest MSE."
   ]
  }
 ],
 "metadata": {
  "kernelspec": {
   "display_name": "Python 3",
   "language": "python",
   "name": "python3"
  },
  "language_info": {
   "codemirror_mode": {
    "name": "ipython",
    "version": 3
   },
   "file_extension": ".py",
   "mimetype": "text/x-python",
   "name": "python",
   "nbconvert_exporter": "python",
   "pygments_lexer": "ipython3",
   "version": "3.7.6"
  }
 },
 "nbformat": 4,
 "nbformat_minor": 2
}

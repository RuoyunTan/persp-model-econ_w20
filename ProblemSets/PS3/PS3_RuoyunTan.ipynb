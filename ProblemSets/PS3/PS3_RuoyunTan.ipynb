{
 "cells": [
  {
   "cell_type": "markdown",
   "metadata": {},
   "source": [
    "## Problem Set #3"
   ]
  },
  {
   "cell_type": "markdown",
   "metadata": {},
   "source": [
    "MACS 30150, Dr. Evans"
   ]
  },
  {
   "cell_type": "markdown",
   "metadata": {},
   "source": [
    "Ruoyun Tan"
   ]
  },
  {
   "cell_type": "markdown",
   "metadata": {},
   "source": [
    "### Exerciese 1"
   ]
  },
  {
   "cell_type": "markdown",
   "metadata": {},
   "source": [
    "When $T = 1$, the objective function that we want to maximize becomes\n",
    "\\begin{equation}\n",
    " u(c_1) = u(W_1 - W_2) \n",
    "\\end{equation}\n",
    "Since $u' > 0$, $ u(c_1)$ increases if $c_1$ increases. So the utility is maximized when $c_1 = W_1$. That is, to consume all the cake in period 1.\n",
    "\n",
    "To see how $ u(W_1 - W_2)$ changes in $w_2$, we can also take the derivative,\n",
    "\\begin{equation}\n",
    "\\frac{d u(W_1 - W_2)}{dw_2} = u'(W_1 - W_2) \\frac{d (W_1 - W_2)}{W_2} = - u'(W_1 - W_2)\n",
    "\\end{equation}\n",
    "Since $u' > 0$, $\\frac{d u(W_1 - W_2)}{dw_2} < 0$. So $ u(W_1 - W_2)$ increases if $W_2$ decreases. So $u(W_1 - W_2)$ is maximized when $W_2 = 0$. "
   ]
  },
  {
   "cell_type": "markdown",
   "metadata": {},
   "source": [
    "### Exercise 2"
   ]
  },
  {
   "cell_type": "markdown",
   "metadata": {},
   "source": [
    "When $T = 2$, the objective function that we want to maximize becomes\n",
    "\\begin{equation}\n",
    "U = u(W_1 - W_2) + \\beta u(W_2 - W_3)\n",
    "\\end{equation}\n",
    "To see how it changes in $W_3$, we can take the derivative,\n",
    "\\begin{equation}\n",
    "\\frac{d U}{dW_3} = \\beta u'(W_2 - W_3) \\frac{d(W_2 - W_3)}{W_3} = - \\beta u'(W_2 - W_3)\n",
    "\\end{equation}\n",
    "Since $u' > 0$, $\\frac{d U}{dW_3} < 0$. So $U$ increases if $W_3$ decreases. So the utility is maximized when $W_3 = 0$.\n",
    "\n",
    "Thus the objective function that we want to maximize becomes,\n",
    "\\begin{equation}\n",
    "\\max_{W_2 \\in [0, W_1]} u(W_1 - W_2) + \\beta u(W_2)\n",
    "\\end{equation}\n",
    "The maximum is obtain under the condition \n",
    "\\begin{equation}\n",
    "- \\beta u'(W_1 - W_2) + \\beta u'(W_2) = 0\n",
    "\\end{equation}\n",
    "Since we do not know the exact utility function, $\\beta$ and $W_1$, we cannot decide the maximized value."
   ]
  },
  {
   "cell_type": "markdown",
   "metadata": {},
   "source": [
    "### Exercise 3"
   ]
  },
  {
   "cell_type": "markdown",
   "metadata": {},
   "source": [
    "When $T = 3$, the objective function that we want to maximize becomes\n",
    "\\begin{equation}\n",
    "U = u(c_1) + \\beta u(c_2) + \\beta^2 u(c_3) = u(W_1 - W_2) + \\beta u(W_2 - W_3) + \\beta^2 u(W_3 - W_4)\n",
    "\\end{equation}\n",
    "To see how it changes in $W_4$, we can take the derivative,\n",
    "\\begin{equation}\n",
    "\\frac{d U}{dW_4} = \\beta^2 u'(W_3 - W_4) \\frac{d(W_3 - W_4)}{W_4} = - \\beta^2 u'(W_3 - W_4)\n",
    "\\end{equation}\n",
    "Since $u' > 0$, $\\frac{d U}{dW_4} < 0$. So $U$ increases if $W_4$ decreases. So the utility is maximized when $W_4 = 0$.\n",
    "\n",
    "Thus the objective function that we want to maximize becomes,\n",
    "\\begin{equation}\n",
    "U = u(W_1 - W_2) + \\beta u(W_2 - W_3) + \\beta^2 u(W_3)\n",
    "\\end{equation}\n",
    "\\begin{align}\n",
    "\\frac{d U}{dW_3} &= - \\beta u'(W_2 - W_3) + \\beta^2 u'(W_3) = 0 \\\\\n",
    "\\frac{d U}{dW_2} &= - u'(W_1 - W_2) + \\beta u'(W_2 - W_3)  = 0\n",
    "\\end{align}\n",
    "Plugging in $\\beta = 0.9$ and $u(\\cdot) = \\ln(\\cdot)$ into the two equations above and solve them, we would obtain $W_3 \\approx 0.29889$, $W_2 \\approx 0.63100$. So $c_1 = W_1 - W_2 \\approx 0.36900$, $c_2 = W_2 - W_3 \\approx 0.33211$, $c_3 = W_3 - W_4 \\approx 0.29889$. Both $W_t$ and $C_t$ decreases as $t$ increases."
   ]
  },
  {
   "cell_type": "markdown",
   "metadata": {},
   "source": [
    "### Exercise 4"
   ]
  },
  {
   "cell_type": "markdown",
   "metadata": {},
   "source": [
    "The value function at period $T - 1$ becomes\n",
    "\\begin{equation}\n",
    "V_{T-1}(W_{T-1}) = u(W_{T-1} - \\psi_{T-1}(W_{T-1})) + \\beta u(\\psi_{T-1}(W_{T-1}))\n",
    "\\end{equation}\n",
    "The condition that characterizes the optimal choice is \n",
    "\\begin{equation}\n",
    "\\frac{d u(W_{T-1} - \\psi_{T-1}(W_{T-1}))}{d W_{T-1}} + \\beta \\frac{u(\\psi_{T-1}(W_{T-1}))}{W_{T-1} } = 0\n",
    "\\end{equation}"
   ]
  },
  {
   "cell_type": "markdown",
   "metadata": {},
   "source": [
    "### Exercise 5"
   ]
  },
  {
   "cell_type": "markdown",
   "metadata": {},
   "source": [
    "$V_T(\\bar{W}) = u(\\bar{W}) = \\ln(\\bar{W})$ \n",
    "\n",
    "$\\psi_T(\\bar{W}) = 0$ \n",
    "\n",
    "$V_{T-1}(\\bar{W}) = \\max_{W_T}u(\\bar{W} - W_T) + \\beta V_T (W_T) = \\max_{W_T}u(\\bar{W} - W_T) + \\beta u(W_T)$\n",
    "\n",
    "$\\frac{d (u(\\bar{W} - W_T) + \\beta u(W_T))}{d W_T} = 0 \\Rightarrow \\psi_{T-1}(\\bar{W}) = W_T = \\frac{\\beta}{1 + \\beta} \\bar{W} \\Rightarrow V_{T-1}(\\bar{W}) = u(\\frac{1}{1 = \\beta}\\bar{W}) + \\beta u(\\frac{\\beta}{1 + \\beta} \\bar{W}) = \\ln(\\frac{1}{1 + \\beta}\\bar{W}) + \\beta \\ln(\\frac{\\beta}{1 + \\beta} \\bar{W})$\n",
    "\n",
    "So $\\psi_T(\\bar{W}) \\ne \\psi_{T-1}(\\bar{W})$, $V_T(\\bar{W}) \\ne V_{T-1}(\\bar{W})$."
   ]
  },
  {
   "cell_type": "markdown",
   "metadata": {},
   "source": [
    "### Exercise 6"
   ]
  },
  {
   "cell_type": "markdown",
   "metadata": {},
   "source": [
    "The Bellman Equation for the period $T - 2$ is \n",
    "\\begin{align}\n",
    "V_{T-2}(W_{t-2}) &= \\max_{w_{T-1}}\\ln(W_{T-2} - W_{T-1}) + \\beta V_{t-1}(W_{T-1}) \\\\\n",
    "&=  \\max_{w_{T-1}}\\ln(W_{T-2} - W_{T-1}) + \\beta \\ln(\\frac{1}{1 + \\beta}W_{T-1}) + \\beta^2 \\ln(\\frac{\\beta}{1 + \\beta} W_{T-1})\n",
    "\\end{align}\n",
    "Taking derivative of the objective function with respect to $W_{T-1}$, we have\n",
    "\\begin{equation}\n",
    "\\frac{-1}{W_{T-2} - W_{T-1}} + \\frac{\\beta}{W_{T-1}} + \\frac{\\beta^2}{W_{T-1}} = 0\n",
    "\\end{equation}\n",
    "Solving this, we have $W_{T-1} = \\psi_{T-2}(W_{T-2}) = \\frac{\\beta + \\beta^2}{1 + \\beta + \\beta^2} W_{T-2}$\n",
    "Therefore,\n",
    "\\begin{align}\n",
    "V_{T-2}(W_{t-2}) &= \\ln(W_{T-2} - \\frac{\\beta + \\beta^2}{1 + \\beta + \\beta^2} W_{T-2}) + \\beta \\ln(\\frac{1}{1 + \\beta}\\frac{\\beta + \\beta^2}{1 + \\beta + \\beta^2} W_{T-2}) + \\beta^2 \\ln(\\frac{\\beta}{1 + \\beta}\\frac{\\beta + \\beta^2}{1 + \\beta + \\beta^2} W_{T-2}) \\\\\n",
    "&= \\ln(W_{T-2} - \\frac{\\beta + \\beta^2}{1 + \\beta + \\beta^2} W_{T-2}) + \\beta \\ln(\\frac{\\beta}{1 + \\beta + \\beta^2} W_{T-2}) + \\beta^2 \\ln(\\frac{\\beta^2}{1 + \\beta + \\beta^2} W_{T-2}) \\\\\n",
    "&= \\ln(\\frac{1}{1 + \\beta + \\beta^2} W_{T-2}) + \\beta \\ln(\\frac{\\beta}{1 + \\beta + \\beta^2} W_{T-2}) + \\beta^2 \\ln(\\frac{\\beta^2}{1 + \\beta + \\beta^2} W_{T-2}) \n",
    "\\end{align}"
   ]
  },
  {
   "cell_type": "markdown",
   "metadata": {},
   "source": [
    "### Exercise 7"
   ]
  },
  {
   "cell_type": "markdown",
   "metadata": {},
   "source": [
    "For integer $s \\ge 1$,\n",
    "\\begin{align}\n",
    "\\psi_{T-s} (W_{T-s}) &= \\frac{\\sum_{i = 1}^{s}\\beta^i}{\\sum_{i = 0}^{s}\\beta^i} W_{T-s} \\\\\n",
    "V_{T-s} (W_{T-s}) &= \\sum_{i = 0}^{s}\\beta^i \\ln(\\frac{\\beta^i}{\\sum_{i = 0}^{s}\\beta^i}W_{T-s})\n",
    "\\end{align}"
   ]
  },
  {
   "cell_type": "markdown",
   "metadata": {},
   "source": [
    "As horizon becomes infinite,\n",
    "\\begin{align}\n",
    "\\lim_{s \\rightarrow \\infty}\\psi_{T-s} (W_{T-s}) &= \\frac{\\frac{1}{1-\\beta} - 1}{\\frac{1}{1-\\beta}} W_{T-s} = \\beta W_{T-s} \\\\1\n",
    "\\lim_{s \\rightarrow \\infty} V_{T-s} (W_{T-s}) &= \\sum_{i = 0}^{\\infty}\\beta^i \\ln(\\beta^i (1 - \\beta) W_{T-s}) \\\\\n",
    "&= \\sum_{i = 0}^{\\infty}\\beta^i \\ln(\\beta^i) + \\sum_{i = 0}^{\\infty}\\beta^i \\ln((1-\\beta)W_{T-s}) \\\\\n",
    "& = \\frac{\\ln((1-\\beta)W_{T-s})}{1 - \\beta} + \\frac{\\beta}{(\\beta-1)^2}\\ln(\\beta)\n",
    "\\end{align}"
   ]
  },
  {
   "cell_type": "markdown",
   "metadata": {},
   "source": [
    "### Exercise 8"
   ]
  },
  {
   "cell_type": "markdown",
   "metadata": {},
   "source": [
    "When the horizon is infinite, the Bellman equation is\n",
    "\\begin{equation}\n",
    "V(W) = \\max_{W' \\in [0, W]} u(W - W') + \\beta V(W')\n",
    "\\end{equation}\n",
    "where $W'$ is the amount of cake at the beginning of the next period."
   ]
  },
  {
   "cell_type": "markdown",
   "metadata": {},
   "source": [
    "### Exercise 9"
   ]
  },
  {
   "cell_type": "code",
   "execution_count": 357,
   "metadata": {},
   "outputs": [
    {
     "data": {
      "text/plain": [
       "array([0.01, 0.02, 0.03, 0.04, 0.05, 0.06, 0.07, 0.08, 0.09, 0.1 , 0.11,\n",
       "       0.12, 0.13, 0.14, 0.15, 0.16, 0.17, 0.18, 0.19, 0.2 , 0.21, 0.22,\n",
       "       0.23, 0.24, 0.25, 0.26, 0.27, 0.28, 0.29, 0.3 , 0.31, 0.32, 0.33,\n",
       "       0.34, 0.35, 0.36, 0.37, 0.38, 0.39, 0.4 , 0.41, 0.42, 0.43, 0.44,\n",
       "       0.45, 0.46, 0.47, 0.48, 0.49, 0.5 , 0.51, 0.52, 0.53, 0.54, 0.55,\n",
       "       0.56, 0.57, 0.58, 0.59, 0.6 , 0.61, 0.62, 0.63, 0.64, 0.65, 0.66,\n",
       "       0.67, 0.68, 0.69, 0.7 , 0.71, 0.72, 0.73, 0.74, 0.75, 0.76, 0.77,\n",
       "       0.78, 0.79, 0.8 , 0.81, 0.82, 0.83, 0.84, 0.85, 0.86, 0.87, 0.88,\n",
       "       0.89, 0.9 , 0.91, 0.92, 0.93, 0.94, 0.95, 0.96, 0.97, 0.98, 0.99,\n",
       "       1.  ])"
      ]
     },
     "execution_count": 357,
     "metadata": {},
     "output_type": "execute_result"
    }
   ],
   "source": [
    "import numpy as np\n",
    "import matplotlib.pyplot as plt\n",
    "\n",
    "w_min = 0.01\n",
    "w_max = 1\n",
    "N = 100\n",
    "W = np.linspace(w_min, w_max, N)\n",
    "W"
   ]
  },
  {
   "cell_type": "markdown",
   "metadata": {},
   "source": [
    "### Exercise 10"
   ]
  },
  {
   "cell_type": "code",
   "execution_count": 358,
   "metadata": {},
   "outputs": [
    {
     "name": "stdout",
     "output_type": "stream",
     "text": [
      "The policy function:\n",
      "[0.01 0.01 0.01 0.01 0.01 0.01 0.01 0.01 0.01 0.01 0.01 0.01 0.01 0.01\n",
      " 0.01 0.01 0.01 0.01 0.01 0.01 0.01 0.01 0.01 0.01 0.01 0.01 0.01 0.01\n",
      " 0.01 0.01 0.01 0.01 0.01 0.01 0.01 0.01 0.01 0.01 0.01 0.01 0.01 0.01\n",
      " 0.01 0.01 0.01 0.01 0.01 0.01 0.01 0.01 0.01 0.01 0.01 0.01 0.01 0.01\n",
      " 0.01 0.01 0.01 0.01 0.01 0.01 0.01 0.01 0.01 0.01 0.01 0.01 0.01 0.01\n",
      " 0.01 0.01 0.01 0.01 0.01 0.01 0.01 0.01 0.01 0.01 0.01 0.01 0.01 0.01\n",
      " 0.01 0.01 0.01 0.01 0.01 0.01 0.01 0.01 0.01 0.01 0.01 0.01 0.01 0.01\n",
      " 0.01 0.01]\n",
      "The value function:\n",
      "[-9.00000002e+09 -4.60517019e+00 -3.91202301e+00 -3.50655790e+00\n",
      " -3.21887582e+00 -2.99573227e+00 -2.81341072e+00 -2.65926004e+00\n",
      " -2.52572864e+00 -2.40794561e+00 -2.30258509e+00 -2.20727491e+00\n",
      " -2.12026354e+00 -2.04022083e+00 -1.96611286e+00 -1.89711998e+00\n",
      " -1.83258146e+00 -1.77195684e+00 -1.71479843e+00 -1.66073121e+00\n",
      " -1.60943791e+00 -1.56064775e+00 -1.51412773e+00 -1.46967597e+00\n",
      " -1.42711636e+00 -1.38629436e+00 -1.34707365e+00 -1.30933332e+00\n",
      " -1.27296568e+00 -1.23787436e+00 -1.20397280e+00 -1.17118298e+00\n",
      " -1.13943428e+00 -1.10866262e+00 -1.07880966e+00 -1.04982212e+00\n",
      " -1.02165125e+00 -9.94252273e-01 -9.67584026e-01 -9.41608540e-01\n",
      " -9.16290732e-01 -8.91598119e-01 -8.67500568e-01 -8.43970070e-01\n",
      " -8.20980552e-01 -7.98507696e-01 -7.76528789e-01 -7.55022584e-01\n",
      " -7.33969175e-01 -7.13349888e-01 -6.93147181e-01 -6.73344553e-01\n",
      " -6.53926467e-01 -6.34878272e-01 -6.16186139e-01 -5.97837001e-01\n",
      " -5.79818495e-01 -5.62118918e-01 -5.44727175e-01 -5.27632742e-01\n",
      " -5.10825624e-01 -4.94296322e-01 -4.78035801e-01 -4.62035460e-01\n",
      " -4.46287103e-01 -4.30782916e-01 -4.15515444e-01 -4.00477567e-01\n",
      " -3.85662481e-01 -3.71063681e-01 -3.56674944e-01 -3.42490309e-01\n",
      " -3.28504067e-01 -3.14710745e-01 -3.01105093e-01 -2.87682072e-01\n",
      " -2.74436846e-01 -2.61364764e-01 -2.48461359e-01 -2.35722334e-01\n",
      " -2.23143551e-01 -2.10721031e-01 -1.98450939e-01 -1.86329578e-01\n",
      " -1.74353387e-01 -1.62518929e-01 -1.50822890e-01 -1.39262067e-01\n",
      " -1.27833372e-01 -1.16533816e-01 -1.05360516e-01 -9.43106795e-02\n",
      " -8.33816089e-02 -7.25706928e-02 -6.18754037e-02 -5.12932944e-02\n",
      " -4.08219945e-02 -3.04592075e-02 -2.02027073e-02 -1.00503359e-02]\n"
     ]
    },
    {
     "data": {
      "text/plain": [
       "[<matplotlib.lines.Line2D at 0x1a21235a10>]"
      ]
     },
     "execution_count": 358,
     "metadata": {},
     "output_type": "execute_result"
    },
    {
     "data": {
      "image/png": "[encoded data removed]",
      "text/plain": [
       "<Figure size 432x288 with 1 Axes>"
      ]
     },
     "metadata": {
      "needs_background": "light"
     },
     "output_type": "display_data"
    }
   ],
   "source": [
    "beta = 0.9\n",
    "W_now = np.tile(W.reshape(N, 1), (1, N))\n",
    "W_next = np.tile(W, (N, 1))\n",
    "c = W_now - W_next\n",
    "cond = (c <= 0)\n",
    "c[cond] = 10 ** (-10)\n",
    "V = np.zeros(N)\n",
    "V_next = np.tile(V, (N, 1))\n",
    "V_next[cond] = - 10 ** (10)\n",
    "values = np.log(c) + beta * V_next\n",
    "V_max = np.max(values, axis=1)\n",
    "index = np.argmax(values, axis=1)\n",
    "print(\"The policy function:\")\n",
    "print(W[index])\n",
    "print(\"The value function:\")\n",
    "print(V_max)\n",
    "plt.plot(W, V_max)"
   ]
  },
  {
   "cell_type": "markdown",
   "metadata": {},
   "source": [
    "### Exercise 11"
   ]
  },
  {
   "cell_type": "code",
   "execution_count": 359,
   "metadata": {},
   "outputs": [
    {
     "name": "stdout",
     "output_type": "stream",
     "text": [
      "The distance is 8.100000041446531e+19\n"
     ]
    }
   ],
   "source": [
    "distance1 = np.sum((V_max - V) * (V_max - V))\n",
    "print(\"The distance is\", distance1)"
   ]
  },
  {
   "cell_type": "markdown",
   "metadata": {},
   "source": [
    "### Exercise 12"
   ]
  },
  {
   "cell_type": "code",
   "execution_count": 360,
   "metadata": {},
   "outputs": [
    {
     "name": "stdout",
     "output_type": "stream",
     "text": [
      "The policy function:\n",
      "[0.01 0.01 0.02 0.02 0.03 0.03 0.04 0.04 0.05 0.05 0.06 0.06 0.07 0.07\n",
      " 0.08 0.08 0.09 0.09 0.1  0.1  0.1  0.11 0.11 0.12 0.12 0.13 0.13 0.14\n",
      " 0.14 0.15 0.15 0.16 0.16 0.17 0.17 0.18 0.18 0.19 0.19 0.19 0.2  0.2\n",
      " 0.21 0.21 0.22 0.22 0.23 0.23 0.24 0.24 0.25 0.25 0.26 0.26 0.27 0.27\n",
      " 0.28 0.28 0.28 0.29 0.29 0.3  0.3  0.31 0.31 0.32 0.32 0.33 0.33 0.34\n",
      " 0.34 0.35 0.35 0.36 0.36 0.37 0.37 0.37 0.38 0.38 0.39 0.39 0.4  0.4\n",
      " 0.41 0.41 0.42 0.42 0.43 0.43 0.44 0.44 0.45 0.45 0.46 0.46 0.46 0.47\n",
      " 0.47 0.48]\n",
      "The value function:\n",
      "[-9.00000002e+09 -8.10000003e+09 -8.74982335e+00 -8.05667617e+00\n",
      " -7.43284371e+00 -7.02737860e+00 -6.66246000e+00 -6.37477793e+00\n",
      " -6.11586407e+00 -5.89272052e+00 -5.69189132e+00 -5.50956976e+00\n",
      " -5.34548036e+00 -5.19132968e+00 -5.05259407e+00 -4.91906268e+00\n",
      " -4.79888442e+00 -4.68110139e+00 -4.57509666e+00 -4.46973614e+00\n",
      " -4.37442596e+00 -4.27960150e+00 -4.19259012e+00 -4.10681096e+00\n",
      " -4.02676825e+00 -3.94845801e+00 -3.87435004e+00 -3.80231160e+00\n",
      " -3.73331873e+00 -3.66662156e+00 -3.60208303e+00 -3.53998945e+00\n",
      " -3.47936483e+00 -3.42128016e+00 -3.36412175e+00 -3.30955959e+00\n",
      " -3.25549236e+00 -3.20404979e+00 -3.15275650e+00 -3.10396633e+00\n",
      " -3.05530583e+00 -3.00878582e+00 -2.96262185e+00 -2.91817009e+00\n",
      " -2.87425894e+00 -2.83169933e+00 -2.78983132e+00 -2.74900932e+00\n",
      " -2.70900273e+00 -2.66978202e+00 -2.63147837e+00 -2.59373804e+00\n",
      " -2.55699824e+00 -2.52063060e+00 -2.48533196e+00 -2.45024064e+00\n",
      " -2.41627434e+00 -2.38237279e+00 -2.34958297e+00 -2.31685209e+00\n",
      " -2.28510339e+00 -2.25352120e+00 -2.22274954e+00 -2.19223815e+00\n",
      " -2.16238519e+00 -2.13287434e+00 -2.10388681e+00 -2.07531298e+00\n",
      " -2.04714210e+00 -2.01944761e+00 -1.99204864e+00 -1.96518097e+00\n",
      " -1.93851272e+00 -1.91242394e+00 -1.88644845e+00 -1.86109466e+00\n",
      " -1.83577685e+00 -1.81108424e+00 -1.78642517e+00 -1.76232761e+00\n",
      " -1.73832619e+00 -1.71479569e+00 -1.69141776e+00 -1.66842824e+00\n",
      " -1.64564221e+00 -1.62316935e+00 -1.60094600e+00 -1.57896710e+00\n",
      " -1.55727930e+00 -1.53577310e+00 -1.51459565e+00 -1.49354224e+00\n",
      " -1.47285167e+00 -1.45223238e+00 -1.43200681e+00 -1.41180411e+00\n",
      " -1.39200148e+00 -1.37222046e+00 -1.35280238e+00 -1.33344679e+00]\n"
     ]
    }
   ],
   "source": [
    "V = V_max.copy()\n",
    "V_next = np.tile(V, (N, 1))\n",
    "V_next[cond] = - 10 ** (10)\n",
    "values = np.log(c) + beta * V_next\n",
    "V_t_minus_1 = np.max(values, axis=1)\n",
    "index = np.argmax(values, axis=1)\n",
    "print(\"The policy function:\")\n",
    "print(W[index])\n",
    "print(\"The value function:\")\n",
    "print(V_t_minus_1)"
   ]
  },
  {
   "cell_type": "code",
   "execution_count": 361,
   "metadata": {},
   "outputs": [
    {
     "name": "stdout",
     "output_type": "stream",
     "text": [
      "The distance is 6.56100003357169e+19\n"
     ]
    }
   ],
   "source": [
    "distance2 = np.sum((V_t_minus_1 - V) * (V_t_minus_1 - V))\n",
    "print(\"The distance is\", distance2)"
   ]
  },
  {
   "cell_type": "markdown",
   "metadata": {},
   "source": [
    "We can see that $\\delta_{T-1} < \\delta_{T}$."
   ]
  },
  {
   "cell_type": "markdown",
   "metadata": {},
   "source": [
    "### Exercise 13"
   ]
  },
  {
   "cell_type": "code",
   "execution_count": 362,
   "metadata": {},
   "outputs": [
    {
     "name": "stdout",
     "output_type": "stream",
     "text": [
      "The policy function:\n",
      "[0.01 0.01 0.02 0.03 0.03 0.04 0.05 0.05 0.06 0.07 0.07 0.08 0.09 0.09\n",
      " 0.1  0.1  0.11 0.12 0.12 0.13 0.14 0.14 0.15 0.16 0.16 0.17 0.18 0.18\n",
      " 0.19 0.19 0.2  0.2  0.21 0.22 0.22 0.23 0.24 0.24 0.25 0.26 0.26 0.27\n",
      " 0.28 0.28 0.29 0.29 0.3  0.31 0.31 0.32 0.33 0.33 0.34 0.35 0.35 0.36\n",
      " 0.36 0.37 0.37 0.38 0.39 0.39 0.4  0.41 0.41 0.42 0.43 0.43 0.44 0.45\n",
      " 0.45 0.46 0.46 0.47 0.48 0.48 0.49 0.5  0.5  0.51 0.52 0.52 0.53 0.53\n",
      " 0.54 0.55 0.55 0.56 0.56 0.57 0.58 0.58 0.59 0.6  0.6  0.61 0.62 0.62\n",
      " 0.63 0.64]\n",
      "The value function:\n",
      "[-9.00000002e+09 -8.10000003e+09 -7.29000003e+09 -1.24800112e+01\n",
      " -1.17868640e+01 -1.11630316e+01 -1.06015823e+01 -1.01961172e+01\n",
      " -9.83119864e+00 -9.50277190e+00 -9.21508983e+00 -8.95617596e+00\n",
      " -8.72315349e+00 -8.50000993e+00 -8.29918074e+00 -8.11685918e+00\n",
      " -7.93611290e+00 -7.77202350e+00 -7.61787282e+00 -7.47019236e+00\n",
      " -7.33145675e+00 -7.19792536e+00 -7.07306331e+00 -6.95288505e+00\n",
      " -6.83510202e+00 -6.72694159e+00 -6.62093686e+00 -6.51557634e+00\n",
      " -6.42017208e+00 -6.32486190e+00 -6.23003744e+00 -6.14302606e+00\n",
      " -6.05724690e+00 -5.97190488e+00 -5.89186218e+00 -5.81355194e+00\n",
      " -5.73635069e+00 -5.66224272e+00 -5.59020428e+00 -5.51972507e+00\n",
      " -5.45073219e+00 -5.38403502e+00 -5.31920043e+00 -5.25466191e+00\n",
      " -5.19256832e+00 -5.13194370e+00 -5.07191624e+00 -5.01383157e+00\n",
      " -4.95667316e+00 -4.90078893e+00 -4.84622677e+00 -4.79215955e+00\n",
      " -4.73988335e+00 -4.68844078e+00 -4.63714748e+00 -4.58804154e+00\n",
      " -4.53925138e+00 -4.49059088e+00 -4.44407086e+00 -4.39777255e+00\n",
      " -4.35160858e+00 -4.30715682e+00 -4.26324567e+00 -4.21945122e+00\n",
      " -4.17689161e+00 -4.13502359e+00 -4.09347602e+00 -4.05265403e+00\n",
      " -4.01264744e+00 -3.97312741e+00 -3.93390670e+00 -3.89560304e+00\n",
      " -3.85786272e+00 -3.82018150e+00 -3.78344171e+00 -3.74707406e+00\n",
      " -3.71106814e+00 -3.67576949e+00 -3.64067817e+00 -3.60620489e+00\n",
      " -3.57223859e+00 -3.53833704e+00 -3.50527122e+00 -3.47248140e+00\n",
      " -3.43975052e+00 -3.40798174e+00 -3.37623305e+00 -3.34465086e+00\n",
      " -3.31387920e+00 -3.28330953e+00 -3.25279814e+00 -3.22294517e+00\n",
      " -3.19343433e+00 -3.16397654e+00 -3.13498901e+00 -3.10641518e+00\n",
      " -3.07799121e+00 -3.04982033e+00 -3.02212584e+00 -2.99466558e+00]\n"
     ]
    },
    {
     "data": {
      "text/plain": [
       "[<matplotlib.lines.Line2D at 0x1a211e2110>]"
      ]
     },
     "execution_count": 362,
     "metadata": {},
     "output_type": "execute_result"
    },
    {
     "data": {
      "image/png": "[encoded data removed]",
      "text/plain": [
       "<Figure size 432x288 with 1 Axes>"
      ]
     },
     "metadata": {
      "needs_background": "light"
     },
     "output_type": "display_data"
    }
   ],
   "source": [
    "V = V_t_minus_1.copy()\n",
    "V_next = np.tile(V, (N, 1))\n",
    "V_next[cond] = - 10 ** (10)\n",
    "values = np.log(c) + beta * V_next\n",
    "V_t_minus_2 = np.max(values, axis=1)\n",
    "index = np.argmax(values, axis=1)\n",
    "print(\"The policy function:\")\n",
    "print(W[index])\n",
    "print(\"The value function:\")\n",
    "print(V_t_minus_2)\n",
    "plt.plot(W, V_t_minus_2)"
   ]
  },
  {
   "cell_type": "code",
   "execution_count": 363,
   "metadata": {},
   "outputs": [
    {
     "name": "stdout",
     "output_type": "stream",
     "text": [
      "The distance is 5.314410027193069e+19\n"
     ]
    }
   ],
   "source": [
    "distance3 = np.sum((V_t_minus_2 - V) * (V_t_minus_2 - V))\n",
    "print(\"The distance is\", distance3)"
   ]
  },
  {
   "cell_type": "markdown",
   "metadata": {},
   "source": [
    "We have $\\delta_{T-2} < \\delta_{T-1} < \\delta_{T}$."
   ]
  },
  {
   "cell_type": "markdown",
   "metadata": {},
   "source": [
    "### Exercise 14"
   ]
  },
  {
   "cell_type": "code",
   "execution_count": 364,
   "metadata": {},
   "outputs": [
    {
     "name": "stdout",
     "output_type": "stream",
     "text": [
      "When s = 52 , the distance is significantly small.\n"
     ]
    }
   ],
   "source": [
    "V = np.zeros(N)\n",
    "s = 0\n",
    "distance = 1\n",
    "while distance > 10 ** (-9):\n",
    "    V_next = np.tile(V, (N, 1))\n",
    "    V_next[cond] = -100\n",
    "    values = np.log(c) + beta * V_next\n",
    "    V_max = np.max(values, axis=1)\n",
    "    distance = np.sum((V_max - V) * (V_max - V))\n",
    "    V = V_max.copy()\n",
    "    index = np.argmax(values, axis=1)\n",
    "    W_next = W[index]\n",
    "    s += 1\n",
    "\n",
    "print(\"When s =\", s, \", the distance is significantly small.\")"
   ]
  },
  {
   "cell_type": "markdown",
   "metadata": {},
   "source": [
    "### Exercise 15"
   ]
  },
  {
   "cell_type": "code",
   "execution_count": 365,
   "metadata": {},
   "outputs": [
    {
     "data": {
      "text/plain": [
       "Text(0, 0.5, \"W'\")"
      ]
     },
     "execution_count": 365,
     "metadata": {},
     "output_type": "execute_result"
    },
    {
     "data": {
      "image/png": "[encoded data removed]",
      "text/plain": [
       "<Figure size 432x288 with 1 Axes>"
      ]
     },
     "metadata": {
      "needs_background": "light"
     },
     "output_type": "display_data"
    }
   ],
   "source": [
    "plt.plot(W, W_next)\n",
    "plt.xlabel(\"W\")\n",
    "plt.ylabel(\"W'\")"
   ]
  },
  {
   "cell_type": "markdown",
   "metadata": {},
   "source": [
    "### Exercise 16"
   ]
  },
  {
   "cell_type": "code",
   "execution_count": 366,
   "metadata": {},
   "outputs": [
    {
     "data": {
      "text/plain": [
       "(array([0.5, 1. , 1.5, 2. , 2.5, 3. , 3.5]),\n",
       " array([0.0088637 , 0.10798193, 0.48394145, 0.79788456, 0.48394145,\n",
       "        0.10798193, 0.0088637 ]))"
      ]
     },
     "execution_count": 366,
     "metadata": {},
     "output_type": "execute_result"
    }
   ],
   "source": [
    "import scipy.stats\n",
    "\n",
    "def normal(mu, sigma, M, k):\n",
    "    '''\n",
    "    Inputs:\n",
    "        mu: mean\n",
    "        sigma: standard deviation\n",
    "        N: the number of equally spaced nodes\n",
    "        k: he number of standard deviations k away from mu to make the furthest nodes on either side of mu\n",
    "    \n",
    "    Returns:\n",
    "         nodes and weights\n",
    "    '''\n",
    "    z1 = mu - sigma * k\n",
    "    zN = mu + sigma * k\n",
    "    z = np.linspace(z1, zN, M)\n",
    "    w = []\n",
    "    for i in range(M):\n",
    "        w.append(scipy.stats.norm.pdf(z[i], loc=mu, scale=sigma))\n",
    "    w = np.asarray(w) \n",
    "    \n",
    "    return z, w\n",
    "\n",
    "sigma = 0.5\n",
    "mu = 4 * sigma\n",
    "M = 7\n",
    "k = 3\n",
    "normal(mu, sigma, M, k)"
   ]
  },
  {
   "cell_type": "markdown",
   "metadata": {},
   "source": [
    "### Exercise 17"
   ]
  },
  {
   "cell_type": "code",
   "execution_count": 367,
   "metadata": {},
   "outputs": [
    {
     "name": "stdout",
     "output_type": "stream",
     "text": [
      "The policy function:\n",
      "[[0.01 0.01 0.01 0.01 0.01 0.01 0.01 0.01 0.01 0.01 0.01 0.01 0.01 0.01\n",
      "  0.01 0.01 0.01 0.01 0.01 0.01 0.01 0.01 0.01 0.01 0.01 0.01 0.01 0.01\n",
      "  0.01 0.01 0.01 0.01 0.01 0.01 0.01 0.01 0.01 0.01 0.01 0.01 0.01 0.01\n",
      "  0.01 0.01 0.01 0.01 0.01 0.01 0.01 0.01 0.01 0.01 0.01 0.01 0.01 0.01\n",
      "  0.01 0.01 0.01 0.01 0.01 0.01 0.01 0.01 0.01 0.01 0.01 0.01 0.01 0.01\n",
      "  0.01 0.01 0.01 0.01 0.01 0.01 0.01 0.01 0.01 0.01 0.01 0.01 0.01 0.01\n",
      "  0.01 0.01 0.01 0.01 0.01 0.01 0.01 0.01 0.01 0.01 0.01 0.01 0.01 0.01\n",
      "  0.01 0.01]\n",
      " [0.01 0.01 0.01 0.01 0.01 0.01 0.01 0.01 0.01 0.01 0.01 0.01 0.01 0.01\n",
      "  0.01 0.01 0.01 0.01 0.01 0.01 0.01 0.01 0.01 0.01 0.01 0.01 0.01 0.01\n",
      "  0.01 0.01 0.01 0.01 0.01 0.01 0.01 0.01 0.01 0.01 0.01 0.01 0.01 0.01\n",
      "  0.01 0.01 0.01 0.01 0.01 0.01 0.01 0.01 0.01 0.01 0.01 0.01 0.01 0.01\n",
      "  0.01 0.01 0.01 0.01 0.01 0.01 0.01 0.01 0.01 0.01 0.01 0.01 0.01 0.01\n",
      "  0.01 0.01 0.01 0.01 0.01 0.01 0.01 0.01 0.01 0.01 0.01 0.01 0.01 0.01\n",
      "  0.01 0.01 0.01 0.01 0.01 0.01 0.01 0.01 0.01 0.01 0.01 0.01 0.01 0.01\n",
      "  0.01 0.01]\n",
      " [0.01 0.01 0.01 0.01 0.01 0.01 0.01 0.01 0.01 0.01 0.01 0.01 0.01 0.01\n",
      "  0.01 0.01 0.01 0.01 0.01 0.01 0.01 0.01 0.01 0.01 0.01 0.01 0.01 0.01\n",
      "  0.01 0.01 0.01 0.01 0.01 0.01 0.01 0.01 0.01 0.01 0.01 0.01 0.01 0.01\n",
      "  0.01 0.01 0.01 0.01 0.01 0.01 0.01 0.01 0.01 0.01 0.01 0.01 0.01 0.01\n",
      "  0.01 0.01 0.01 0.01 0.01 0.01 0.01 0.01 0.01 0.01 0.01 0.01 0.01 0.01\n",
      "  0.01 0.01 0.01 0.01 0.01 0.01 0.01 0.01 0.01 0.01 0.01 0.01 0.01 0.01\n",
      "  0.01 0.01 0.01 0.01 0.01 0.01 0.01 0.01 0.01 0.01 0.01 0.01 0.01 0.01\n",
      "  0.01 0.01]\n",
      " [0.01 0.01 0.01 0.01 0.01 0.01 0.01 0.01 0.01 0.01 0.01 0.01 0.01 0.01\n",
      "  0.01 0.01 0.01 0.01 0.01 0.01 0.01 0.01 0.01 0.01 0.01 0.01 0.01 0.01\n",
      "  0.01 0.01 0.01 0.01 0.01 0.01 0.01 0.01 0.01 0.01 0.01 0.01 0.01 0.01\n",
      "  0.01 0.01 0.01 0.01 0.01 0.01 0.01 0.01 0.01 0.01 0.01 0.01 0.01 0.01\n",
      "  0.01 0.01 0.01 0.01 0.01 0.01 0.01 0.01 0.01 0.01 0.01 0.01 0.01 0.01\n",
      "  0.01 0.01 0.01 0.01 0.01 0.01 0.01 0.01 0.01 0.01 0.01 0.01 0.01 0.01\n",
      "  0.01 0.01 0.01 0.01 0.01 0.01 0.01 0.01 0.01 0.01 0.01 0.01 0.01 0.01\n",
      "  0.01 0.01]\n",
      " [0.01 0.01 0.01 0.01 0.01 0.01 0.01 0.01 0.01 0.01 0.01 0.01 0.01 0.01\n",
      "  0.01 0.01 0.01 0.01 0.01 0.01 0.01 0.01 0.01 0.01 0.01 0.01 0.01 0.01\n",
      "  0.01 0.01 0.01 0.01 0.01 0.01 0.01 0.01 0.01 0.01 0.01 0.01 0.01 0.01\n",
      "  0.01 0.01 0.01 0.01 0.01 0.01 0.01 0.01 0.01 0.01 0.01 0.01 0.01 0.01\n",
      "  0.01 0.01 0.01 0.01 0.01 0.01 0.01 0.01 0.01 0.01 0.01 0.01 0.01 0.01\n",
      "  0.01 0.01 0.01 0.01 0.01 0.01 0.01 0.01 0.01 0.01 0.01 0.01 0.01 0.01\n",
      "  0.01 0.01 0.01 0.01 0.01 0.01 0.01 0.01 0.01 0.01 0.01 0.01 0.01 0.01\n",
      "  0.01 0.01]\n",
      " [0.01 0.01 0.01 0.01 0.01 0.01 0.01 0.01 0.01 0.01 0.01 0.01 0.01 0.01\n",
      "  0.01 0.01 0.01 0.01 0.01 0.01 0.01 0.01 0.01 0.01 0.01 0.01 0.01 0.01\n",
      "  0.01 0.01 0.01 0.01 0.01 0.01 0.01 0.01 0.01 0.01 0.01 0.01 0.01 0.01\n",
      "  0.01 0.01 0.01 0.01 0.01 0.01 0.01 0.01 0.01 0.01 0.01 0.01 0.01 0.01\n",
      "  0.01 0.01 0.01 0.01 0.01 0.01 0.01 0.01 0.01 0.01 0.01 0.01 0.01 0.01\n",
      "  0.01 0.01 0.01 0.01 0.01 0.01 0.01 0.01 0.01 0.01 0.01 0.01 0.01 0.01\n",
      "  0.01 0.01 0.01 0.01 0.01 0.01 0.01 0.01 0.01 0.01 0.01 0.01 0.01 0.01\n",
      "  0.01 0.01]\n",
      " [0.01 0.01 0.01 0.01 0.01 0.01 0.01 0.01 0.01 0.01 0.01 0.01 0.01 0.01\n",
      "  0.01 0.01 0.01 0.01 0.01 0.01 0.01 0.01 0.01 0.01 0.01 0.01 0.01 0.01\n",
      "  0.01 0.01 0.01 0.01 0.01 0.01 0.01 0.01 0.01 0.01 0.01 0.01 0.01 0.01\n",
      "  0.01 0.01 0.01 0.01 0.01 0.01 0.01 0.01 0.01 0.01 0.01 0.01 0.01 0.01\n",
      "  0.01 0.01 0.01 0.01 0.01 0.01 0.01 0.01 0.01 0.01 0.01 0.01 0.01 0.01\n",
      "  0.01 0.01 0.01 0.01 0.01 0.01 0.01 0.01 0.01 0.01 0.01 0.01 0.01 0.01\n",
      "  0.01 0.01 0.01 0.01 0.01 0.01 0.01 0.01 0.01 0.01 0.01 0.01 0.01 0.01\n",
      "  0.01 0.01]]\n",
      "The value function:\n",
      "[[-1.01512925e+02 -1.13025851e+02 -1.24538776e+02 -1.36051702e+02\n",
      "  -1.47564627e+02 -1.59077553e+02 -1.70590478e+02]\n",
      " [-2.30258509e+00 -4.60517019e+00 -6.90775528e+00 -9.21034037e+00\n",
      "  -1.15129255e+01 -1.38155106e+01 -1.61180957e+01]\n",
      " [-1.95601150e+00 -3.91202301e+00 -5.86803451e+00 -7.82404601e+00\n",
      "  -9.78005751e+00 -1.17360690e+01 -1.36920805e+01]\n",
      " [-1.75327895e+00 -3.50655790e+00 -5.25983685e+00 -7.01311579e+00\n",
      "  -8.76639474e+00 -1.05196737e+01 -1.22729526e+01]\n",
      " [-1.60943791e+00 -3.21887582e+00 -4.82831374e+00 -6.43775165e+00\n",
      "  -8.04718956e+00 -9.65662747e+00 -1.12660654e+01]\n",
      " [-1.49786614e+00 -2.99573227e+00 -4.49359841e+00 -5.99146455e+00\n",
      "  -7.48933068e+00 -8.98719682e+00 -1.04850630e+01]\n",
      " [-1.40670536e+00 -2.81341072e+00 -4.22011608e+00 -5.62682143e+00\n",
      "  -7.03352679e+00 -8.44023215e+00 -9.84693751e+00]\n",
      " [-1.32963002e+00 -2.65926004e+00 -3.98889006e+00 -5.31852007e+00\n",
      "  -6.64815009e+00 -7.97778011e+00 -9.30741013e+00]\n",
      " [-1.26286432e+00 -2.52572864e+00 -3.78859297e+00 -5.05145729e+00\n",
      "  -6.31432161e+00 -7.57718593e+00 -8.84005026e+00]\n",
      " [-1.20397280e+00 -2.40794561e+00 -3.61191841e+00 -4.81589122e+00\n",
      "  -6.01986402e+00 -7.22383683e+00 -8.42780963e+00]\n",
      " [-1.15129255e+00 -2.30258509e+00 -3.45387764e+00 -4.60517019e+00\n",
      "  -5.75646273e+00 -6.90775528e+00 -8.05904783e+00]\n",
      " [-1.10363746e+00 -2.20727491e+00 -3.31091237e+00 -4.41454983e+00\n",
      "  -5.51818728e+00 -6.62182474e+00 -7.72546220e+00]\n",
      " [-1.06013177e+00 -2.12026354e+00 -3.18039530e+00 -4.24052707e+00\n",
      "  -5.30065884e+00 -6.36079061e+00 -7.42092238e+00]\n",
      " [-1.02011041e+00 -2.04022083e+00 -3.06033124e+00 -4.08044166e+00\n",
      "  -5.10055207e+00 -6.12066249e+00 -7.14077290e+00]\n",
      " [-9.83056428e-01 -1.96611286e+00 -2.94916928e+00 -3.93222571e+00\n",
      "  -4.91528214e+00 -5.89833857e+00 -6.88139500e+00]\n",
      " [-9.48559992e-01 -1.89711998e+00 -2.84567998e+00 -3.79423997e+00\n",
      "  -4.74279996e+00 -5.69135995e+00 -6.63991995e+00]\n",
      " [-9.16290732e-01 -1.83258146e+00 -2.74887220e+00 -3.66516293e+00\n",
      "  -4.58145366e+00 -5.49774439e+00 -6.41403512e+00]\n",
      " [-8.85978421e-01 -1.77195684e+00 -2.65793526e+00 -3.54391368e+00\n",
      "  -4.42989210e+00 -5.31587053e+00 -6.20184895e+00]\n",
      " [-8.57399214e-01 -1.71479843e+00 -2.57219764e+00 -3.42959686e+00\n",
      "  -4.28699607e+00 -5.14439528e+00 -6.00179450e+00]\n",
      " [-8.30365603e-01 -1.66073121e+00 -2.49109681e+00 -3.32146241e+00\n",
      "  -4.15182802e+00 -4.98219362e+00 -5.81255922e+00]\n",
      " [-8.04718956e-01 -1.60943791e+00 -2.41415687e+00 -3.21887582e+00\n",
      "  -4.02359478e+00 -4.82831374e+00 -5.63303269e+00]\n",
      " [-7.80323874e-01 -1.56064775e+00 -2.34097162e+00 -3.12129550e+00\n",
      "  -3.90161937e+00 -4.68194324e+00 -5.46226712e+00]\n",
      " [-7.57063866e-01 -1.51412773e+00 -2.27119160e+00 -3.02825547e+00\n",
      "  -3.78531933e+00 -4.54238320e+00 -5.29944706e+00]\n",
      " [-7.34837985e-01 -1.46967597e+00 -2.20451396e+00 -2.93935194e+00\n",
      "  -3.67418993e+00 -4.40902791e+00 -5.14386590e+00]\n",
      " [-7.13558178e-01 -1.42711636e+00 -2.14067453e+00 -2.85423271e+00\n",
      "  -3.56779089e+00 -4.28134907e+00 -4.99490724e+00]\n",
      " [-6.93147181e-01 -1.38629436e+00 -2.07944154e+00 -2.77258872e+00\n",
      "  -3.46573590e+00 -4.15888308e+00 -4.85203026e+00]\n",
      " [-6.73536824e-01 -1.34707365e+00 -2.02061047e+00 -2.69414730e+00\n",
      "  -3.36768412e+00 -4.04122094e+00 -4.71475777e+00]\n",
      " [-6.54666660e-01 -1.30933332e+00 -1.96399998e+00 -2.61866664e+00\n",
      "  -3.27333330e+00 -3.92799996e+00 -4.58266662e+00]\n",
      " [-6.36482838e-01 -1.27296568e+00 -1.90944851e+00 -2.54593135e+00\n",
      "  -3.18241419e+00 -3.81889703e+00 -4.45537987e+00]\n",
      " [-6.18937178e-01 -1.23787436e+00 -1.85681153e+00 -2.47574871e+00\n",
      "  -3.09468589e+00 -3.71362307e+00 -4.33256025e+00]\n",
      " [-6.01986402e-01 -1.20397280e+00 -1.80595921e+00 -2.40794561e+00\n",
      "  -3.00993201e+00 -3.61191841e+00 -4.21390482e+00]\n",
      " [-5.85591491e-01 -1.17118298e+00 -1.75677447e+00 -2.34236596e+00\n",
      "  -2.92795745e+00 -3.51354894e+00 -4.09914044e+00]\n",
      " [-5.69717142e-01 -1.13943428e+00 -1.70915142e+00 -2.27886857e+00\n",
      "  -2.84858571e+00 -3.41830285e+00 -3.98801999e+00]\n",
      " [-5.54331312e-01 -1.10866262e+00 -1.66299394e+00 -2.21732525e+00\n",
      "  -2.77165656e+00 -3.32598787e+00 -3.88031919e+00]\n",
      " [-5.39404831e-01 -1.07880966e+00 -1.61821449e+00 -2.15761932e+00\n",
      "  -2.69702415e+00 -3.23642898e+00 -3.77583381e+00]\n",
      " [-5.24911062e-01 -1.04982212e+00 -1.57473319e+00 -2.09964425e+00\n",
      "  -2.62455531e+00 -3.14946637e+00 -3.67437744e+00]\n",
      " [-5.10825624e-01 -1.02165125e+00 -1.53247687e+00 -2.04330250e+00\n",
      "  -2.55412812e+00 -3.06495374e+00 -3.57577937e+00]\n",
      " [-4.97126137e-01 -9.94252273e-01 -1.49137841e+00 -1.98850455e+00\n",
      "  -2.48563068e+00 -2.98275682e+00 -3.47988296e+00]\n",
      " [-4.83792013e-01 -9.67584026e-01 -1.45137604e+00 -1.93516805e+00\n",
      "  -2.41896007e+00 -2.90275208e+00 -3.38654409e+00]\n",
      " [-4.70804270e-01 -9.41608540e-01 -1.41241281e+00 -1.88321708e+00\n",
      "  -2.35402135e+00 -2.82482562e+00 -3.29562989e+00]\n",
      " [-4.58145366e-01 -9.16290732e-01 -1.37443610e+00 -1.83258146e+00\n",
      "  -2.29072683e+00 -2.74887220e+00 -3.20701756e+00]\n",
      " [-4.45799060e-01 -8.91598119e-01 -1.33739718e+00 -1.78319624e+00\n",
      "  -2.22899530e+00 -2.67479436e+00 -3.12059342e+00]\n",
      " [-4.33750284e-01 -8.67500568e-01 -1.30125085e+00 -1.73500114e+00\n",
      "  -2.16875142e+00 -2.60250170e+00 -3.03625199e+00]\n",
      " [-4.21985035e-01 -8.43970070e-01 -1.26595511e+00 -1.68794014e+00\n",
      "  -2.10992518e+00 -2.53191021e+00 -2.95389525e+00]\n",
      " [-4.10490276e-01 -8.20980552e-01 -1.23147083e+00 -1.64196110e+00\n",
      "  -2.05245138e+00 -2.46294166e+00 -2.87343193e+00]\n",
      " [-3.99253848e-01 -7.98507696e-01 -1.19776154e+00 -1.59701539e+00\n",
      "  -1.99626924e+00 -2.39552309e+00 -2.79477694e+00]\n",
      " [-3.88264395e-01 -7.76528789e-01 -1.16479318e+00 -1.55305758e+00\n",
      "  -1.94132197e+00 -2.32958637e+00 -2.71785076e+00]\n",
      " [-3.77511292e-01 -7.55022584e-01 -1.13253388e+00 -1.51004517e+00\n",
      "  -1.88755646e+00 -2.26506775e+00 -2.64257904e+00]\n",
      " [-3.66984588e-01 -7.33969175e-01 -1.10095376e+00 -1.46793835e+00\n",
      "  -1.83492294e+00 -2.20190753e+00 -2.56889211e+00]\n",
      " [-3.56674944e-01 -7.13349888e-01 -1.07002483e+00 -1.42669978e+00\n",
      "  -1.78337472e+00 -2.14004966e+00 -2.49672461e+00]\n",
      " [-3.46573590e-01 -6.93147181e-01 -1.03972077e+00 -1.38629436e+00\n",
      "  -1.73286795e+00 -2.07944154e+00 -2.42601513e+00]\n",
      " [-3.36672277e-01 -6.73344553e-01 -1.01001683e+00 -1.34668911e+00\n",
      "  -1.68336138e+00 -2.02003366e+00 -2.35670594e+00]\n",
      " [-3.26963234e-01 -6.53926467e-01 -9.80889701e-01 -1.30785293e+00\n",
      "  -1.63481617e+00 -1.96177940e+00 -2.28874264e+00]\n",
      " [-3.17439136e-01 -6.34878272e-01 -9.52317409e-01 -1.26975654e+00\n",
      "  -1.58719568e+00 -1.90463482e+00 -2.22207395e+00]\n",
      " [-3.08093070e-01 -6.16186139e-01 -9.24279209e-01 -1.23237228e+00\n",
      "  -1.54046535e+00 -1.84855842e+00 -2.15665149e+00]\n",
      " [-2.98918500e-01 -5.97837001e-01 -8.96755501e-01 -1.19567400e+00\n",
      "  -1.49459250e+00 -1.79351100e+00 -2.09242950e+00]\n",
      " [-2.89909248e-01 -5.79818495e-01 -8.69727743e-01 -1.15963699e+00\n",
      "  -1.44954624e+00 -1.73945549e+00 -2.02936473e+00]\n",
      " [-2.81059459e-01 -5.62118918e-01 -8.43178377e-01 -1.12423784e+00\n",
      "  -1.40529730e+00 -1.68635675e+00 -1.96741621e+00]\n",
      " [-2.72363588e-01 -5.44727175e-01 -8.17090763e-01 -1.08945435e+00\n",
      "  -1.36181794e+00 -1.63418153e+00 -1.90654511e+00]\n",
      " [-2.63816371e-01 -5.27632742e-01 -7.91449113e-01 -1.05526548e+00\n",
      "  -1.31908186e+00 -1.58289823e+00 -1.84671460e+00]\n",
      " [-2.55412812e-01 -5.10825624e-01 -7.66238436e-01 -1.02165125e+00\n",
      "  -1.27706406e+00 -1.53247687e+00 -1.78788968e+00]\n",
      " [-2.47148161e-01 -4.94296322e-01 -7.41444483e-01 -9.88592644e-01\n",
      "  -1.23574080e+00 -1.48288897e+00 -1.73003713e+00]\n",
      " [-2.39017900e-01 -4.78035801e-01 -7.17053701e-01 -9.56071602e-01\n",
      "  -1.19508950e+00 -1.43410740e+00 -1.67312530e+00]\n",
      " [-2.31017730e-01 -4.62035460e-01 -6.93053189e-01 -9.24070919e-01\n",
      "  -1.15508865e+00 -1.38610638e+00 -1.61712411e+00]\n",
      " [-2.23143551e-01 -4.46287103e-01 -6.69430654e-01 -8.92574205e-01\n",
      "  -1.11571776e+00 -1.33886131e+00 -1.56200486e+00]\n",
      " [-2.15391458e-01 -4.30782916e-01 -6.46174374e-01 -8.61565832e-01\n",
      "  -1.07695729e+00 -1.29234875e+00 -1.50774021e+00]\n",
      " [-2.07757722e-01 -4.15515444e-01 -6.23273166e-01 -8.31030888e-01\n",
      "  -1.03878861e+00 -1.24654633e+00 -1.45430405e+00]\n",
      " [-2.00238783e-01 -4.00477567e-01 -6.00716350e-01 -8.00955133e-01\n",
      "  -1.00119392e+00 -1.20143270e+00 -1.40167148e+00]\n",
      " [-1.92831240e-01 -3.85662481e-01 -5.78493721e-01 -7.71324962e-01\n",
      "  -9.64156202e-01 -1.15698744e+00 -1.34981868e+00]\n",
      " [-1.85531841e-01 -3.71063681e-01 -5.56595522e-01 -7.42127363e-01\n",
      "  -9.27659203e-01 -1.11319104e+00 -1.29872288e+00]\n",
      " [-1.78337472e-01 -3.56674944e-01 -5.35012416e-01 -7.13349888e-01\n",
      "  -8.91687360e-01 -1.07002483e+00 -1.24836230e+00]\n",
      " [-1.71245154e-01 -3.42490309e-01 -5.13735463e-01 -6.84980618e-01\n",
      "  -8.56225772e-01 -1.02747093e+00 -1.19871608e+00]\n",
      " [-1.64252033e-01 -3.28504067e-01 -4.92756100e-01 -6.57008134e-01\n",
      "  -8.21260167e-01 -9.85512201e-01 -1.14976423e+00]\n",
      " [-1.57355372e-01 -3.14710745e-01 -4.72066117e-01 -6.29421490e-01\n",
      "  -7.86776862e-01 -9.44132235e-01 -1.10148761e+00]\n",
      " [-1.50552546e-01 -3.01105093e-01 -4.51657639e-01 -6.02210186e-01\n",
      "  -7.52762732e-01 -9.03315278e-01 -1.05386782e+00]\n",
      " [-1.43841036e-01 -2.87682072e-01 -4.31523109e-01 -5.75364145e-01\n",
      "  -7.19205181e-01 -8.63046217e-01 -1.00688725e+00]\n",
      " [-1.37218423e-01 -2.74436846e-01 -4.11655269e-01 -5.48873691e-01\n",
      "  -6.86092114e-01 -8.23310537e-01 -9.60528960e-01]\n",
      " [-1.30682382e-01 -2.61364764e-01 -3.92047146e-01 -5.22729528e-01\n",
      "  -6.53411910e-01 -7.84094292e-01 -9.14776674e-01]\n",
      " [-1.24230680e-01 -2.48461359e-01 -3.72692039e-01 -4.96922719e-01\n",
      "  -6.21153398e-01 -7.45384078e-01 -8.69614758e-01]\n",
      " [-1.17861167e-01 -2.35722334e-01 -3.53583500e-01 -4.71444667e-01\n",
      "  -5.89305834e-01 -7.07167001e-01 -8.25028167e-01]\n",
      " [-1.11571776e-01 -2.23143551e-01 -3.34715327e-01 -4.46287103e-01\n",
      "  -5.57858878e-01 -6.69430654e-01 -7.81002430e-01]\n",
      " [-1.05360516e-01 -2.10721031e-01 -3.16081547e-01 -4.21442063e-01\n",
      "  -5.26802578e-01 -6.32163094e-01 -7.37523610e-01]\n",
      " [-9.92254694e-02 -1.98450939e-01 -2.97676408e-01 -3.96901877e-01\n",
      "  -4.96127347e-01 -5.95352816e-01 -6.94578286e-01]\n",
      " [-9.31647891e-02 -1.86329578e-01 -2.79494367e-01 -3.72659156e-01\n",
      "  -4.65823945e-01 -5.58988735e-01 -6.52153524e-01]\n",
      " [-8.71766936e-02 -1.74353387e-01 -2.61530081e-01 -3.48706774e-01\n",
      "  -4.35883468e-01 -5.23060161e-01 -6.10236855e-01]\n",
      " [-8.12594647e-02 -1.62518929e-01 -2.43778394e-01 -3.25037859e-01\n",
      "  -4.06297324e-01 -4.87556788e-01 -5.68816253e-01]\n",
      " [-7.54114449e-02 -1.50822890e-01 -2.26234335e-01 -3.01645779e-01\n",
      "  -3.77057224e-01 -4.52468669e-01 -5.27880114e-01]\n",
      " [-6.96310337e-02 -1.39262067e-01 -2.08893101e-01 -2.78524135e-01\n",
      "  -3.48155168e-01 -4.17786202e-01 -4.87417236e-01]\n",
      " [-6.39166858e-02 -1.27833372e-01 -1.91750057e-01 -2.55666743e-01\n",
      "  -3.19583429e-01 -3.83500115e-01 -4.47416800e-01]\n",
      " [-5.82669081e-02 -1.16533816e-01 -1.74800724e-01 -2.33067633e-01\n",
      "  -2.91334541e-01 -3.49601449e-01 -4.07868357e-01]\n",
      " [-5.26802578e-02 -1.05360516e-01 -1.58040773e-01 -2.10721031e-01\n",
      "  -2.63401289e-01 -3.16081547e-01 -3.68761805e-01]\n",
      " [-4.71553397e-02 -9.43106795e-02 -1.41466019e-01 -1.88621359e-01\n",
      "  -2.35776699e-01 -2.82932038e-01 -3.30087378e-01]\n",
      " [-4.16908045e-02 -8.33816089e-02 -1.25072413e-01 -1.66763218e-01\n",
      "  -2.08454022e-01 -2.50144827e-01 -2.91835631e-01]\n",
      " [-3.62853464e-02 -7.25706928e-02 -1.08856039e-01 -1.45141386e-01\n",
      "  -1.81426732e-01 -2.17712079e-01 -2.53997425e-01]\n",
      " [-3.09377019e-02 -6.18754037e-02 -9.28131056e-02 -1.23750807e-01\n",
      "  -1.54688509e-01 -1.85626211e-01 -2.16563913e-01]\n",
      " [-2.56466472e-02 -5.12932944e-02 -7.69399416e-02 -1.02586589e-01\n",
      "  -1.28233236e-01 -1.53879883e-01 -1.79526530e-01]\n",
      " [-2.04109973e-02 -4.08219945e-02 -6.12329918e-02 -8.16439890e-02\n",
      "  -1.02054986e-01 -1.22465984e-01 -1.42876981e-01]\n",
      " [-1.52296037e-02 -3.04592075e-02 -4.56888112e-02 -6.09184150e-02\n",
      "  -7.61480187e-02 -9.13776225e-02 -1.06607226e-01]\n",
      " [-1.01013537e-02 -2.02027073e-02 -3.03040610e-02 -4.04054146e-02\n",
      "  -5.05067683e-02 -6.06081220e-02 -7.07094756e-02]\n",
      " [-5.02516793e-03 -1.00503359e-02 -1.50755038e-02 -2.01006717e-02\n",
      "  -2.51258396e-02 -3.01510076e-02 -3.51761755e-02]]\n"
     ]
    }
   ],
   "source": [
    "beta = 0.9\n",
    "W_now = np.tile(W.reshape(N, 1), (1, N))\n",
    "W_next = np.tile(W, (N, 1))\n",
    "c = W_now - W_next\n",
    "cond = (c <= 0)\n",
    "c[cond] = 10 ** (-10)\n",
    "\n",
    "sigma = 0.5\n",
    "mu = 4 * sigma\n",
    "M = 7\n",
    "k = 3\n",
    "epsilons, probs = normal(mu, sigma, M, k)\n",
    "probs = probs.reshape(M, 1)\n",
    "\n",
    "V_next = np.zeros((N, M))\n",
    "V_next_ex = V_next @ probs\n",
    "V_next_ex = np.tile(V_next_ex, (1, N))\n",
    "V_next_ex[cond] = - 100\n",
    "V_next_ex = np.tile(V_next_ex, (M, 1, 1))\n",
    "\n",
    "u_values = np.log(c)\n",
    "eps_u = np.asarray([u_values * eps for eps in epsilons])\n",
    "\n",
    "V_now = eps_u + beta * V_next_ex\n",
    "V_max = np.max(V_now, axis=2).transpose()\n",
    "index = np.argmax(V_now, axis=2)\n",
    "print(\"The policy function:\")\n",
    "print(W[index])\n",
    "print(\"The value function:\")\n",
    "print(V_max)"
   ]
  },
  {
   "cell_type": "markdown",
   "metadata": {},
   "source": [
    "### Exercise 18"
   ]
  },
  {
   "cell_type": "code",
   "execution_count": 368,
   "metadata": {},
   "outputs": [
    {
     "name": "stdout",
     "output_type": "stream",
     "text": [
      "The distance is 139544.2016032148\n"
     ]
    }
   ],
   "source": [
    "distance_inf_1 = np.sum((V_max - V_next) * (V_max - V_next))\n",
    "print(\"The distance is\", distance_inf_1)"
   ]
  },
  {
   "cell_type": "markdown",
   "metadata": {},
   "source": [
    "### Exercise 19"
   ]
  },
  {
   "cell_type": "code",
   "execution_count": 369,
   "metadata": {},
   "outputs": [
    {
     "name": "stdout",
     "output_type": "stream",
     "text": [
      "The policy function:\n",
      "[[0.01 0.01 0.01 0.01 0.01 0.01 0.01 0.01 0.01 0.01 0.01 0.01 0.01 0.01\n",
      "  0.01 0.01 0.01 0.01 0.01 0.01 0.01 0.01 0.01 0.01 0.01 0.01 0.01 0.01\n",
      "  0.01 0.01 0.01 0.01 0.01 0.01 0.01 0.01 0.01 0.01 0.01 0.01 0.01 0.01\n",
      "  0.01 0.01 0.01 0.01 0.01 0.01 0.01 0.01 0.01 0.01 0.01 0.01 0.01 0.01\n",
      "  0.01 0.01 0.01 0.01 0.01 0.01 0.01 0.01 0.01 0.01 0.01 0.01 0.01 0.01\n",
      "  0.01 0.01 0.01 0.01 0.01 0.01 0.01 0.01 0.01 0.01 0.01 0.01 0.01 0.01\n",
      "  0.01 0.01 0.01 0.01 0.01 0.01 0.01 0.01 0.01 0.01 0.01 0.01 0.01 0.01\n",
      "  0.01 0.01]\n",
      " [0.01 0.01 0.01 0.01 0.01 0.01 0.01 0.01 0.01 0.01 0.01 0.01 0.01 0.01\n",
      "  0.01 0.01 0.01 0.01 0.01 0.01 0.01 0.01 0.01 0.01 0.01 0.01 0.01 0.01\n",
      "  0.01 0.01 0.01 0.01 0.01 0.01 0.01 0.01 0.01 0.01 0.01 0.01 0.01 0.01\n",
      "  0.01 0.01 0.01 0.01 0.01 0.01 0.01 0.01 0.01 0.01 0.01 0.01 0.01 0.01\n",
      "  0.01 0.01 0.01 0.01 0.01 0.01 0.01 0.01 0.01 0.01 0.01 0.01 0.01 0.01\n",
      "  0.01 0.01 0.01 0.01 0.01 0.01 0.01 0.01 0.01 0.01 0.01 0.01 0.01 0.01\n",
      "  0.01 0.01 0.01 0.01 0.01 0.01 0.01 0.01 0.01 0.01 0.01 0.01 0.01 0.01\n",
      "  0.01 0.01]\n",
      " [0.01 0.01 0.01 0.01 0.01 0.01 0.01 0.01 0.01 0.01 0.01 0.01 0.01 0.01\n",
      "  0.01 0.01 0.01 0.01 0.01 0.01 0.01 0.01 0.01 0.01 0.01 0.01 0.01 0.01\n",
      "  0.01 0.01 0.01 0.01 0.01 0.01 0.01 0.01 0.01 0.01 0.01 0.01 0.01 0.01\n",
      "  0.01 0.01 0.01 0.01 0.01 0.01 0.01 0.01 0.01 0.01 0.01 0.01 0.01 0.01\n",
      "  0.01 0.01 0.01 0.01 0.01 0.01 0.01 0.01 0.01 0.01 0.01 0.01 0.01 0.01\n",
      "  0.01 0.01 0.01 0.01 0.01 0.01 0.01 0.01 0.01 0.01 0.01 0.01 0.01 0.01\n",
      "  0.01 0.01 0.01 0.01 0.01 0.01 0.01 0.01 0.01 0.01 0.01 0.01 0.01 0.01\n",
      "  0.01 0.01]\n",
      " [0.01 0.01 0.01 0.01 0.01 0.01 0.01 0.01 0.01 0.01 0.01 0.01 0.01 0.01\n",
      "  0.01 0.01 0.01 0.01 0.01 0.01 0.01 0.01 0.01 0.01 0.01 0.01 0.01 0.01\n",
      "  0.01 0.01 0.01 0.01 0.01 0.01 0.01 0.01 0.01 0.01 0.01 0.01 0.01 0.01\n",
      "  0.01 0.01 0.01 0.01 0.01 0.01 0.01 0.01 0.01 0.01 0.01 0.01 0.01 0.01\n",
      "  0.01 0.01 0.01 0.01 0.01 0.01 0.01 0.01 0.01 0.01 0.01 0.01 0.01 0.01\n",
      "  0.01 0.01 0.01 0.01 0.01 0.01 0.01 0.01 0.01 0.01 0.01 0.01 0.01 0.01\n",
      "  0.01 0.01 0.01 0.01 0.01 0.01 0.01 0.01 0.01 0.01 0.01 0.01 0.01 0.01\n",
      "  0.01 0.01]\n",
      " [0.01 0.01 0.01 0.01 0.01 0.01 0.01 0.01 0.01 0.01 0.01 0.01 0.01 0.01\n",
      "  0.01 0.01 0.01 0.01 0.01 0.01 0.01 0.01 0.01 0.01 0.01 0.01 0.01 0.01\n",
      "  0.01 0.01 0.01 0.01 0.01 0.01 0.01 0.01 0.01 0.01 0.01 0.01 0.01 0.01\n",
      "  0.01 0.01 0.01 0.01 0.01 0.01 0.01 0.01 0.01 0.01 0.01 0.01 0.01 0.01\n",
      "  0.01 0.01 0.01 0.01 0.01 0.01 0.01 0.01 0.01 0.01 0.01 0.01 0.01 0.01\n",
      "  0.01 0.01 0.01 0.01 0.01 0.01 0.01 0.01 0.01 0.01 0.01 0.01 0.01 0.01\n",
      "  0.01 0.01 0.01 0.01 0.01 0.01 0.01 0.01 0.01 0.01 0.01 0.01 0.01 0.01\n",
      "  0.01 0.01]\n",
      " [0.01 0.01 0.01 0.01 0.01 0.01 0.01 0.01 0.01 0.01 0.01 0.01 0.01 0.01\n",
      "  0.01 0.01 0.01 0.01 0.01 0.01 0.01 0.01 0.01 0.01 0.01 0.01 0.01 0.01\n",
      "  0.01 0.01 0.01 0.01 0.01 0.01 0.01 0.01 0.01 0.01 0.01 0.01 0.01 0.01\n",
      "  0.01 0.01 0.01 0.01 0.01 0.01 0.01 0.01 0.01 0.01 0.01 0.01 0.01 0.01\n",
      "  0.01 0.01 0.01 0.01 0.01 0.01 0.01 0.01 0.01 0.01 0.01 0.01 0.01 0.01\n",
      "  0.01 0.01 0.01 0.01 0.01 0.01 0.01 0.01 0.01 0.01 0.01 0.01 0.01 0.01\n",
      "  0.01 0.01 0.01 0.01 0.01 0.01 0.01 0.01 0.01 0.01 0.01 0.01 0.01 0.01\n",
      "  0.01 0.01]\n",
      " [0.01 0.01 0.01 0.01 0.01 0.01 0.01 0.01 0.01 0.01 0.01 0.01 0.01 0.01\n",
      "  0.01 0.01 0.01 0.01 0.01 0.01 0.01 0.01 0.01 0.01 0.01 0.01 0.01 0.01\n",
      "  0.01 0.01 0.01 0.01 0.01 0.01 0.01 0.01 0.01 0.01 0.01 0.01 0.01 0.01\n",
      "  0.01 0.01 0.01 0.01 0.01 0.01 0.01 0.01 0.01 0.01 0.01 0.01 0.01 0.01\n",
      "  0.01 0.01 0.01 0.01 0.01 0.01 0.01 0.01 0.01 0.01 0.01 0.01 0.01 0.01\n",
      "  0.01 0.01 0.01 0.01 0.01 0.01 0.01 0.01 0.01 0.01 0.01 0.01 0.01 0.01\n",
      "  0.01 0.01 0.01 0.01 0.01 0.01 0.01 0.01 0.01 0.01 0.01 0.01 0.01 0.01\n",
      "  0.01 0.01]]\n",
      "The value function:\n",
      "[[-1.01512925e+02 -1.13025851e+02 -1.24538776e+02 -1.36051702e+02\n",
      "  -1.47564627e+02 -1.59077553e+02 -1.70590478e+02]\n",
      " [-1.88767109e+01 -2.11792960e+01 -2.34818811e+01 -2.57844662e+01\n",
      "  -2.80870513e+01 -3.03896364e+01 -3.26922215e+01]\n",
      " [-1.60354828e+01 -1.79914943e+01 -1.99475058e+01 -2.19035173e+01\n",
      "  -2.38595288e+01 -2.58155403e+01 -2.77715518e+01]\n",
      " [-1.43734709e+01 -1.61267499e+01 -1.78800288e+01 -1.96333078e+01\n",
      "  -2.13865867e+01 -2.31398657e+01 -2.48931446e+01]\n",
      " [-1.31942547e+01 -1.48036926e+01 -1.64131305e+01 -1.80225684e+01\n",
      "  -1.96320064e+01 -2.12414443e+01 -2.28508822e+01]\n",
      " [-1.22795836e+01 -1.37774497e+01 -1.52753158e+01 -1.67731820e+01\n",
      "  -1.82710481e+01 -1.97689142e+01 -2.12667804e+01]\n",
      " [-1.15322428e+01 -1.29389482e+01 -1.43456535e+01 -1.57523589e+01\n",
      "  -1.71590642e+01 -1.85657696e+01 -1.99724750e+01]\n",
      " [-1.09003752e+01 -1.22300052e+01 -1.35596353e+01 -1.48892653e+01\n",
      "  -1.62188953e+01 -1.75485253e+01 -1.88781553e+01]\n",
      " [-1.03530266e+01 -1.16158909e+01 -1.28787553e+01 -1.41416196e+01\n",
      "  -1.54044839e+01 -1.66673482e+01 -1.79302125e+01]\n",
      " [-9.87023092e+00 -1.10742037e+01 -1.22781765e+01 -1.34821493e+01\n",
      "  -1.46861221e+01 -1.58900949e+01 -1.70940677e+01]\n",
      " [-9.43835546e+00 -1.05896480e+01 -1.17409406e+01 -1.28922331e+01\n",
      "  -1.40435256e+01 -1.51948182e+01 -1.63461107e+01]\n",
      " [-9.04767658e+00 -1.01513140e+01 -1.12549515e+01 -1.23585890e+01\n",
      "  -1.34622264e+01 -1.45658639e+01 -1.56695013e+01]\n",
      " [-8.69101471e+00 -9.75114648e+00 -1.08112782e+01 -1.18714100e+01\n",
      "  -1.29315418e+01 -1.39916736e+01 -1.50518053e+01]\n",
      " [-8.36291760e+00 -9.38302801e+00 -1.04031384e+01 -1.14232488e+01\n",
      "  -1.24433593e+01 -1.34634697e+01 -1.44835801e+01]\n",
      " [-8.05914711e+00 -9.04220354e+00 -1.00252600e+01 -1.10083164e+01\n",
      "  -1.19913728e+01 -1.29744293e+01 -1.39574857e+01]\n",
      " [-7.77634356e+00 -8.72490355e+00 -9.67346355e+00 -1.06220235e+01\n",
      "  -1.15705835e+01 -1.25191435e+01 -1.34677035e+01]\n",
      " [-7.51179851e+00 -8.42808924e+00 -9.34437997e+00 -1.02606707e+01\n",
      "  -1.11769614e+01 -1.20932522e+01 -1.30095429e+01]\n",
      " [-7.26329662e+00 -8.14927504e+00 -9.03525346e+00 -9.92123189e+00\n",
      "  -1.08072103e+01 -1.16931887e+01 -1.25791671e+01]\n",
      " [-7.02900282e+00 -7.88640203e+00 -8.74380124e+00 -9.60120046e+00\n",
      "  -1.04585997e+01 -1.13159989e+01 -1.21733981e+01]\n",
      " [-6.80737989e+00 -7.63774549e+00 -8.46811109e+00 -9.29847670e+00\n",
      "  -1.01288423e+01 -1.09592079e+01 -1.17895735e+01]\n",
      " [-6.59712736e+00 -7.40184631e+00 -8.20656527e+00 -9.01128422e+00\n",
      "  -9.81600318e+00 -1.06207221e+01 -1.14254411e+01]\n",
      " [-6.39713522e+00 -7.17745909e+00 -7.95778297e+00 -8.73810684e+00\n",
      "  -9.51843072e+00 -1.02987546e+01 -1.10790785e+01]\n",
      " [-6.20644848e+00 -6.96351235e+00 -7.72057621e+00 -8.47764008e+00\n",
      "  -9.23470394e+00 -9.99176781e+00 -1.07488317e+01]\n",
      " [-6.02423956e+00 -6.75907755e+00 -7.49391553e+00 -8.22875352e+00\n",
      "  -8.96359150e+00 -9.69842949e+00 -1.04332675e+01]\n",
      " [-5.84978661e+00 -6.56334479e+00 -7.27690296e+00 -7.99046114e+00\n",
      "  -8.70401932e+00 -9.41757750e+00 -1.01311357e+01]\n",
      " [-5.68245620e+00 -6.37560339e+00 -7.06875057e+00 -7.76189775e+00\n",
      "  -8.45504493e+00 -9.14819211e+00 -9.84133929e+00]\n",
      " [-5.52168949e+00 -6.19522632e+00 -6.86876314e+00 -7.54229997e+00\n",
      "  -8.21583679e+00 -8.88937361e+00 -9.56291044e+00]\n",
      " [-5.36699092e+00 -6.02165758e+00 -6.67632424e+00 -7.33099090e+00\n",
      "  -7.98565756e+00 -8.64032422e+00 -9.29499088e+00]\n",
      " [-5.21791901e+00 -5.85440185e+00 -6.49088469e+00 -7.12736753e+00\n",
      "  -7.76385036e+00 -8.40033320e+00 -9.03681604e+00]\n",
      " [-5.07407879e+00 -5.69301597e+00 -6.31195315e+00 -6.93089032e+00\n",
      "  -7.54982750e+00 -8.16876468e+00 -8.78770186e+00]\n",
      " [-4.93511546e+00 -5.53710186e+00 -6.13908826e+00 -6.74107467e+00\n",
      "  -7.34306107e+00 -7.94504747e+00 -8.54703387e+00]\n",
      " [-4.80070913e+00 -5.38630062e+00 -5.97189211e+00 -6.55748361e+00\n",
      "  -7.14307510e+00 -7.72866659e+00 -8.31425808e+00]\n",
      " [-4.67057040e+00 -5.24028754e+00 -5.81000469e+00 -6.37972183e+00\n",
      "  -6.94943897e+00 -7.51915611e+00 -8.08887325e+00]\n",
      " [-4.54443658e+00 -5.09876790e+00 -5.65309921e+00 -6.20743052e+00\n",
      "  -6.76176183e+00 -7.31609314e+00 -7.87042446e+00]\n",
      " [-4.42206852e+00 -4.96147335e+00 -5.50087818e+00 -6.04028301e+00\n",
      "  -6.57968784e+00 -7.11909267e+00 -7.65849750e+00]\n",
      " [-4.30324786e+00 -4.82815892e+00 -5.35306999e+00 -5.87798105e+00\n",
      "  -6.40289211e+00 -6.92780317e+00 -7.45271424e+00]\n",
      " [-4.18777471e+00 -4.69860034e+00 -5.20942596e+00 -5.72025158e+00\n",
      "  -6.23107721e+00 -6.74190283e+00 -7.25272846e+00]\n",
      " [-4.07546561e+00 -4.57259175e+00 -5.06971789e+00 -5.56684402e+00\n",
      "  -6.06397016e+00 -6.56109630e+00 -7.05822243e+00]\n",
      " [-3.96615178e+00 -4.44994380e+00 -4.93373581e+00 -5.41752782e+00\n",
      "  -5.90131984e+00 -6.38511185e+00 -6.86890386e+00]\n",
      " [-3.85967760e+00 -4.33048187e+00 -4.80128614e+00 -5.27209041e+00\n",
      "  -5.74289468e+00 -6.21369895e+00 -6.68450322e+00]\n",
      " [-3.75589925e+00 -4.21404462e+00 -4.67218998e+00 -5.13033535e+00\n",
      "  -5.58848072e+00 -6.04662608e+00 -6.50477145e+00]\n",
      " [-3.65468360e+00 -4.10048266e+00 -4.54628172e+00 -4.99208078e+00\n",
      "  -5.43787984e+00 -5.88367890e+00 -6.32947796e+00]\n",
      " [-3.55590712e+00 -3.98965740e+00 -4.42340768e+00 -4.85715797e+00\n",
      "  -5.29090825e+00 -5.72465854e+00 -6.15840882e+00]\n",
      " [-3.45945500e+00 -3.88144004e+00 -4.30342507e+00 -4.72541011e+00\n",
      "  -5.14739514e+00 -5.56938018e+00 -5.99136521e+00]\n",
      " [-3.36522038e+00 -3.77571065e+00 -4.18620093e+00 -4.59669120e+00\n",
      "  -5.00718148e+00 -5.41767176e+00 -5.82816203e+00]\n",
      " [-3.27310356e+00 -3.67235741e+00 -4.07161126e+00 -4.47086511e+00\n",
      "  -4.87011896e+00 -5.26937280e+00 -5.66862665e+00]\n",
      " [-3.18301146e+00 -3.57127585e+00 -3.95954025e+00 -4.34780464e+00\n",
      "  -4.73606904e+00 -5.12433343e+00 -5.51259783e+00]\n",
      " [-3.09485697e+00 -3.47236826e+00 -3.84987956e+00 -4.22739085e+00\n",
      "  -4.60490214e+00 -4.98241343e+00 -5.35992472e+00]\n",
      " [-3.00855851e+00 -3.37554309e+00 -3.74252768e+00 -4.10951227e+00\n",
      "  -4.47649686e+00 -4.84348144e+00 -5.21046603e+00]\n",
      " [-2.92403952e+00 -3.28071446e+00 -3.63738941e+00 -3.99406435e+00\n",
      "  -4.35073929e+00 -4.70741424e+00 -5.06408918e+00]\n",
      " [-2.84122810e+00 -3.18780169e+00 -3.53437528e+00 -3.88094887e+00\n",
      "  -4.22752246e+00 -4.57409605e+00 -4.92066964e+00]\n",
      " [-2.76005662e+00 -3.09672890e+00 -3.43340118e+00 -3.77007345e+00\n",
      "  -4.10674573e+00 -4.44341801e+00 -4.78009028e+00]\n",
      " [-2.68046139e+00 -3.00742463e+00 -3.33438786e+00 -3.66135109e+00\n",
      "  -3.98831433e+00 -4.31527756e+00 -4.64224079e+00]\n",
      " [-2.60238235e+00 -2.91982149e+00 -3.23726062e+00 -3.55469976e+00\n",
      "  -3.87213890e+00 -4.18957803e+00 -4.50701717e+00]\n",
      " [-2.52576282e+00 -2.83385589e+00 -3.14194896e+00 -3.45004203e+00\n",
      "  -3.75813510e+00 -4.06622817e+00 -4.37432124e+00]\n",
      " [-2.45054923e+00 -2.74946773e+00 -3.04838623e+00 -3.34730473e+00\n",
      "  -3.64622323e+00 -3.94514173e+00 -4.24406023e+00]\n",
      " [-2.37669091e+00 -2.66660016e+00 -2.95650940e+00 -3.24641865e+00\n",
      "  -3.53632790e+00 -3.82623715e+00 -4.11614640e+00]\n",
      " [-2.30413989e+00 -2.58519935e+00 -2.86625881e+00 -3.14731827e+00\n",
      "  -3.42837772e+00 -3.70943718e+00 -3.99049664e+00]\n",
      " [-2.23285069e+00 -2.50521428e+00 -2.77757786e+00 -3.04994145e+00\n",
      "  -3.32230504e+00 -3.59466863e+00 -3.86703221e+00]\n",
      " [-2.16278017e+00 -2.42659654e+00 -2.69041291e+00 -2.95422928e+00\n",
      "  -3.21804565e+00 -3.48186202e+00 -3.74567839e+00]\n",
      " [-2.09388736e+00 -2.34930017e+00 -2.60471298e+00 -2.86012579e+00\n",
      "  -3.11553860e+00 -3.37095142e+00 -3.62636423e+00]\n",
      " [-2.02613332e+00 -2.27328148e+00 -2.52042965e+00 -2.76757781e+00\n",
      "  -3.01472597e+00 -3.26187413e+00 -3.50902229e+00]\n",
      " [-1.95948103e+00 -2.19849893e+00 -2.43751683e+00 -2.67653473e+00\n",
      "  -2.91555263e+00 -3.15457053e+00 -3.39358843e+00]\n",
      " [-1.89389522e+00 -2.12491295e+00 -2.35593068e+00 -2.58694841e+00\n",
      "  -2.81796614e+00 -3.04898387e+00 -3.28000160e+00]\n",
      " [-1.82934230e+00 -2.05248585e+00 -2.27562940e+00 -2.49877295e+00\n",
      "  -2.72191651e+00 -2.94506006e+00 -3.16820361e+00]\n",
      " [-1.76579024e+00 -1.98118170e+00 -2.19657316e+00 -2.41196462e+00\n",
      "  -2.62735607e+00 -2.84274753e+00 -3.05813899e+00]\n",
      " [-1.70320848e+00 -1.91096620e+00 -2.11872392e+00 -2.32648165e+00\n",
      "  -2.53423937e+00 -2.74199709e+00 -2.94975481e+00]\n",
      " [-1.64156784e+00 -1.84180662e+00 -2.04204540e+00 -2.24228419e+00\n",
      "  -2.44252297e+00 -2.64276175e+00 -2.84300053e+00]\n",
      " [-1.58084042e+00 -1.77367166e+00 -1.96650290e+00 -2.15933414e+00\n",
      "  -2.35216538e+00 -2.54499662e+00 -2.73782786e+00]\n",
      " [-1.52099956e+00 -1.70653140e+00 -1.89206325e+00 -2.07759509e+00\n",
      "  -2.26312693e+00 -2.44865877e+00 -2.63419061e+00]\n",
      " [-1.46201976e+00 -1.64035723e+00 -1.81869470e+00 -1.99703218e+00\n",
      "  -2.17536965e+00 -2.35370712e+00 -2.53204459e+00]\n",
      " [-1.40387658e+00 -1.57512173e+00 -1.74636689e+00 -1.91761204e+00\n",
      "  -2.08885719e+00 -2.26010235e+00 -2.43134750e+00]\n",
      " [-1.34654661e+00 -1.51079864e+00 -1.67505068e+00 -1.83930271e+00\n",
      "  -2.00355474e+00 -2.16780678e+00 -2.33205881e+00]\n",
      " [-1.29000743e+00 -1.44736280e+00 -1.60471817e+00 -1.76207355e+00\n",
      "  -1.91942892e+00 -2.07678429e+00 -2.23413966e+00]\n",
      " [-1.23423751e+00 -1.38479006e+00 -1.53534260e+00 -1.68589515e+00\n",
      "  -1.83644770e+00 -1.98700024e+00 -2.13755279e+00]\n",
      " [-1.17921621e+00 -1.32305724e+00 -1.46689828e+00 -1.61073932e+00\n",
      "  -1.75458035e+00 -1.89842139e+00 -2.04226242e+00]\n",
      " [-1.12492368e+00 -1.26214210e+00 -1.39936053e+00 -1.53657895e+00\n",
      "  -1.67379737e+00 -1.81101580e+00 -1.94823422e+00]\n",
      " [-1.07134088e+00 -1.20202327e+00 -1.33270565e+00 -1.46338803e+00\n",
      "  -1.59407041e+00 -1.72475279e+00 -1.85543518e+00]\n",
      " [-1.01844950e+00 -1.14268018e+00 -1.26691085e+00 -1.39114153e+00\n",
      "  -1.51537221e+00 -1.63960289e+00 -1.76383357e+00]\n",
      " [-9.66231902e-01 -1.08409307e+00 -1.20195424e+00 -1.31981540e+00\n",
      "  -1.43767657e+00 -1.55553774e+00 -1.67339890e+00]\n",
      " [-9.14671150e-01 -1.02624293e+00 -1.13781470e+00 -1.24938648e+00\n",
      "  -1.36095825e+00 -1.47253003e+00 -1.58410180e+00]\n",
      " [-8.63750922e-01 -9.69111437e-01 -1.07447195e+00 -1.17983247e+00\n",
      "  -1.28519298e+00 -1.39055350e+00 -1.49591402e+00]\n",
      " [-8.13455497e-01 -9.12680966e-01 -1.01190644e+00 -1.11113190e+00\n",
      "  -1.21035737e+00 -1.30958284e+00 -1.40880831e+00]\n",
      " [-7.63769728e-01 -8.56934518e-01 -9.50099307e-01 -1.04326410e+00\n",
      "  -1.13642888e+00 -1.22959367e+00 -1.32275846e+00]\n",
      " [-7.14679014e-01 -8.01855707e-01 -8.89032401e-01 -9.76209094e-01\n",
      "  -1.06338579e+00 -1.15056248e+00 -1.23773918e+00]\n",
      " [-6.66169268e-01 -7.47428732e-01 -8.28688197e-01 -9.09947662e-01\n",
      "  -9.91207127e-01 -1.07246659e+00 -1.15372606e+00]\n",
      " [-6.18226900e-01 -6.93638345e-01 -7.69049790e-01 -8.44461235e-01\n",
      "  -9.19872680e-01 -9.95284125e-01 -1.07069557e+00]\n",
      " [-5.70838792e-01 -6.40469826e-01 -7.10100859e-01 -7.79731893e-01\n",
      "  -8.49362927e-01 -9.18993960e-01 -9.88624994e-01]\n",
      " [-5.23992274e-01 -5.87908960e-01 -6.51825646e-01 -7.15742332e-01\n",
      "  -7.79659017e-01 -8.43575703e-01 -9.07492389e-01]\n",
      " [-4.77675107e-01 -5.35942015e-01 -5.94208923e-01 -6.52475831e-01\n",
      "  -7.10742740e-01 -7.69009648e-01 -8.27276556e-01]\n",
      " [-4.31875461e-01 -4.84555719e-01 -5.37235976e-01 -5.89916234e-01\n",
      "  -6.42596492e-01 -6.95276750e-01 -7.47957008e-01]\n",
      " [-3.86581898e-01 -4.33737238e-01 -4.80892578e-01 -5.28047918e-01\n",
      "  -5.75203257e-01 -6.22358597e-01 -6.69513937e-01]\n",
      " [-3.41783357e-01 -3.83474162e-01 -4.25164966e-01 -4.66855771e-01\n",
      "  -5.08546575e-01 -5.50237380e-01 -5.91928184e-01]\n",
      " [-2.97469135e-01 -3.33754481e-01 -3.70039827e-01 -4.06325174e-01\n",
      "  -4.42610520e-01 -4.78895867e-01 -5.15181213e-01]\n",
      " [-2.53628870e-01 -2.84566571e-01 -3.15504273e-01 -3.46441975e-01\n",
      "  -3.77379677e-01 -4.08317379e-01 -4.39255081e-01]\n",
      " [-2.10252532e-01 -2.35899179e-01 -2.61545826e-01 -2.87192473e-01\n",
      "  -3.12839120e-01 -3.38485768e-01 -3.64132415e-01]\n",
      " [-1.67330404e-01 -1.87741402e-01 -2.08152399e-01 -2.28563396e-01\n",
      "  -2.48974393e-01 -2.69385391e-01 -2.89796388e-01]\n",
      " [-1.24853074e-01 -1.40082678e-01 -1.55312282e-01 -1.70541885e-01\n",
      "  -1.85771489e-01 -2.01001093e-01 -2.16230697e-01]\n",
      " [-8.28114164e-02 -9.29127700e-02 -1.03014124e-01 -1.13115477e-01\n",
      "  -1.23216831e-01 -1.33318185e-01 -1.43419538e-01]\n",
      " [-4.11965849e-02 -4.62217528e-02 -5.12469207e-02 -5.62720887e-02\n",
      "  -6.12972566e-02 -6.63224245e-02 -7.13475925e-02]]\n"
     ]
    }
   ],
   "source": [
    "V_T = V_max\n",
    "V_T_ex = V_T @ probs\n",
    "V_T_ex = np.tile(V_T_ex, (1, N))\n",
    "V_T_ex[cond] = - 100\n",
    "V_T_ex = np.tile(V_T_ex, (M, 1, 1))\n",
    "\n",
    "u_values = np.log(c)\n",
    "eps_u = np.asarray([u_values * eps for eps in epsilons])\n",
    "\n",
    "V_values = eps_u + beta * V_T_ex\n",
    "V_T_minus_1 = np.max(V_values, axis=2).transpose()\n",
    "index = np.argmax(V_values, axis=2)\n",
    "print(\"The policy function:\")\n",
    "print(W[index])\n",
    "print(\"The value function:\")\n",
    "print(V_T_minus_1)"
   ]
  },
  {
   "cell_type": "code",
   "execution_count": 370,
   "metadata": {},
   "outputs": [
    {
     "name": "stdout",
     "output_type": "stream",
     "text": [
      "The distance is 16223.391772312189\n"
     ]
    }
   ],
   "source": [
    "distance_inf_2 = np.sum((V_T_minus_1 - V_T) * (V_T_minus_1 - V_T))\n",
    "print(\"The distance is\", distance_inf_2)"
   ]
  },
  {
   "cell_type": "markdown",
   "metadata": {},
   "source": [
    "We can see that the distance had decreased."
   ]
  },
  {
   "cell_type": "markdown",
   "metadata": {},
   "source": [
    "### Exercise 20"
   ]
  },
  {
   "cell_type": "code",
   "execution_count": 371,
   "metadata": {},
   "outputs": [
    {
     "name": "stdout",
     "output_type": "stream",
     "text": [
      "The policy function:\n",
      "[[0.01 0.01 0.01 0.01 0.01 0.01 0.01 0.01 0.01 0.01 0.01 0.01 0.01 0.01\n",
      "  0.01 0.01 0.01 0.01 0.01 0.01 0.01 0.01 0.01 0.01 0.01 0.01 0.01 0.01\n",
      "  0.01 0.01 0.01 0.01 0.01 0.01 0.01 0.01 0.01 0.01 0.01 0.01 0.01 0.01\n",
      "  0.01 0.01 0.01 0.01 0.01 0.01 0.01 0.01 0.01 0.01 0.01 0.01 0.01 0.01\n",
      "  0.01 0.01 0.01 0.01 0.01 0.01 0.01 0.01 0.01 0.01 0.01 0.01 0.01 0.01\n",
      "  0.01 0.01 0.01 0.01 0.01 0.01 0.01 0.01 0.01 0.01 0.01 0.01 0.01 0.01\n",
      "  0.01 0.01 0.01 0.01 0.01 0.01 0.01 0.01 0.01 0.01 0.01 0.01 0.01 0.01\n",
      "  0.01 0.01]\n",
      " [0.01 0.01 0.01 0.01 0.01 0.01 0.01 0.01 0.01 0.01 0.01 0.01 0.01 0.01\n",
      "  0.01 0.01 0.01 0.01 0.01 0.01 0.01 0.01 0.01 0.01 0.01 0.01 0.01 0.01\n",
      "  0.01 0.01 0.01 0.01 0.01 0.01 0.01 0.01 0.01 0.01 0.01 0.01 0.01 0.01\n",
      "  0.01 0.01 0.01 0.01 0.01 0.01 0.01 0.01 0.01 0.01 0.01 0.01 0.01 0.01\n",
      "  0.01 0.01 0.01 0.01 0.01 0.01 0.01 0.01 0.01 0.01 0.01 0.01 0.01 0.01\n",
      "  0.01 0.01 0.01 0.01 0.01 0.01 0.01 0.01 0.01 0.01 0.01 0.01 0.01 0.01\n",
      "  0.01 0.01 0.01 0.01 0.01 0.01 0.01 0.01 0.01 0.01 0.01 0.01 0.01 0.01\n",
      "  0.01 0.01]\n",
      " [0.01 0.01 0.01 0.01 0.01 0.01 0.01 0.01 0.01 0.01 0.01 0.01 0.01 0.01\n",
      "  0.01 0.01 0.01 0.01 0.01 0.01 0.01 0.01 0.01 0.01 0.01 0.01 0.01 0.01\n",
      "  0.01 0.01 0.01 0.01 0.01 0.01 0.01 0.01 0.01 0.01 0.01 0.01 0.01 0.01\n",
      "  0.01 0.01 0.01 0.01 0.01 0.01 0.01 0.01 0.01 0.01 0.01 0.01 0.01 0.01\n",
      "  0.01 0.01 0.01 0.01 0.01 0.01 0.01 0.01 0.01 0.01 0.01 0.01 0.01 0.01\n",
      "  0.01 0.01 0.01 0.01 0.01 0.01 0.01 0.01 0.01 0.01 0.01 0.01 0.01 0.01\n",
      "  0.01 0.01 0.01 0.01 0.01 0.01 0.01 0.01 0.01 0.01 0.01 0.01 0.01 0.01\n",
      "  0.01 0.01]\n",
      " [0.01 0.01 0.01 0.01 0.01 0.01 0.01 0.01 0.01 0.01 0.01 0.01 0.01 0.01\n",
      "  0.01 0.01 0.01 0.01 0.01 0.01 0.01 0.01 0.01 0.01 0.01 0.01 0.01 0.01\n",
      "  0.01 0.01 0.01 0.01 0.01 0.01 0.01 0.01 0.01 0.01 0.01 0.01 0.01 0.01\n",
      "  0.01 0.01 0.01 0.01 0.01 0.01 0.01 0.01 0.01 0.01 0.01 0.01 0.01 0.01\n",
      "  0.01 0.01 0.01 0.01 0.01 0.01 0.01 0.01 0.01 0.01 0.01 0.01 0.01 0.01\n",
      "  0.01 0.01 0.01 0.01 0.01 0.01 0.01 0.01 0.01 0.01 0.01 0.01 0.01 0.01\n",
      "  0.01 0.01 0.01 0.01 0.01 0.01 0.01 0.01 0.01 0.01 0.01 0.01 0.01 0.01\n",
      "  0.01 0.01]\n",
      " [0.01 0.01 0.01 0.01 0.01 0.01 0.01 0.01 0.01 0.01 0.01 0.01 0.01 0.01\n",
      "  0.01 0.01 0.01 0.01 0.01 0.01 0.01 0.01 0.01 0.01 0.01 0.01 0.01 0.01\n",
      "  0.01 0.01 0.01 0.01 0.01 0.01 0.01 0.01 0.01 0.01 0.01 0.01 0.01 0.01\n",
      "  0.01 0.01 0.01 0.01 0.01 0.01 0.01 0.01 0.01 0.01 0.01 0.01 0.01 0.01\n",
      "  0.01 0.01 0.01 0.01 0.01 0.01 0.01 0.01 0.01 0.01 0.01 0.01 0.01 0.01\n",
      "  0.01 0.01 0.01 0.01 0.01 0.01 0.01 0.01 0.01 0.01 0.01 0.01 0.01 0.01\n",
      "  0.01 0.01 0.01 0.01 0.01 0.01 0.01 0.01 0.01 0.01 0.01 0.01 0.01 0.01\n",
      "  0.01 0.01]\n",
      " [0.01 0.01 0.01 0.01 0.01 0.01 0.01 0.01 0.01 0.01 0.01 0.01 0.01 0.01\n",
      "  0.01 0.01 0.01 0.01 0.01 0.01 0.01 0.01 0.01 0.01 0.01 0.01 0.01 0.01\n",
      "  0.01 0.01 0.01 0.01 0.01 0.01 0.01 0.01 0.01 0.01 0.01 0.01 0.01 0.01\n",
      "  0.01 0.01 0.01 0.01 0.01 0.01 0.01 0.01 0.01 0.01 0.01 0.01 0.01 0.01\n",
      "  0.01 0.01 0.01 0.01 0.01 0.01 0.01 0.01 0.01 0.01 0.01 0.01 0.01 0.01\n",
      "  0.01 0.01 0.01 0.01 0.01 0.01 0.01 0.01 0.01 0.01 0.01 0.01 0.01 0.01\n",
      "  0.01 0.01 0.01 0.01 0.01 0.01 0.01 0.01 0.01 0.01 0.01 0.01 0.01 0.01\n",
      "  0.01 0.01]\n",
      " [0.01 0.01 0.01 0.01 0.01 0.01 0.01 0.01 0.01 0.01 0.01 0.01 0.01 0.01\n",
      "  0.01 0.01 0.01 0.01 0.01 0.01 0.01 0.01 0.01 0.01 0.01 0.01 0.01 0.01\n",
      "  0.01 0.01 0.01 0.01 0.01 0.01 0.01 0.01 0.01 0.01 0.01 0.01 0.01 0.01\n",
      "  0.01 0.01 0.01 0.01 0.01 0.01 0.01 0.01 0.01 0.01 0.01 0.01 0.01 0.01\n",
      "  0.01 0.01 0.01 0.01 0.01 0.01 0.01 0.01 0.01 0.01 0.01 0.01 0.01 0.01\n",
      "  0.01 0.01 0.01 0.01 0.01 0.01 0.01 0.01 0.01 0.01 0.01 0.01 0.01 0.01\n",
      "  0.01 0.01 0.01 0.01 0.01 0.01 0.01 0.01 0.01 0.01 0.01 0.01 0.01 0.01\n",
      "  0.01 0.01]]\n",
      "The value function:\n",
      "[[-1.01512925e+02 -1.13025851e+02 -1.24538776e+02 -1.36051702e+02\n",
      "  -1.47564627e+02 -1.59077553e+02 -1.70590478e+02]\n",
      " [-4.87020633e+01 -5.10046483e+01 -5.33072334e+01 -5.56098185e+01\n",
      "  -5.79124036e+01 -6.02149887e+01 -6.25175738e+01]\n",
      " [-4.13716723e+01 -4.33276838e+01 -4.52836953e+01 -4.72397068e+01\n",
      "  -4.91957183e+01 -5.11517298e+01 -5.31077413e+01]\n",
      " [-3.70836685e+01 -3.88369474e+01 -4.05902264e+01 -4.23435053e+01\n",
      "  -4.40967843e+01 -4.58500632e+01 -4.76033422e+01]\n",
      " [-3.40412814e+01 -3.56507193e+01 -3.72601572e+01 -3.88695951e+01\n",
      "  -4.04790330e+01 -4.20884709e+01 -4.36979088e+01]\n",
      " [-3.16814226e+01 -3.31792887e+01 -3.46771548e+01 -3.61750210e+01\n",
      "  -3.76728871e+01 -3.91707533e+01 -4.06686194e+01]\n",
      " [-2.97532775e+01 -3.11599829e+01 -3.25666883e+01 -3.39733936e+01\n",
      "  -3.53800990e+01 -3.67868043e+01 -3.81935097e+01]\n",
      " [-2.81230542e+01 -2.94526842e+01 -3.07823142e+01 -3.21119442e+01\n",
      "  -3.34415742e+01 -3.47712042e+01 -3.61008343e+01]\n",
      " [-2.67108904e+01 -2.79737547e+01 -2.92366191e+01 -3.04994834e+01\n",
      "  -3.17623477e+01 -3.30252120e+01 -3.42880764e+01]\n",
      " [-2.54652737e+01 -2.66692465e+01 -2.78732193e+01 -2.90771921e+01\n",
      "  -3.02811649e+01 -3.14851377e+01 -3.26891106e+01]\n",
      " [-2.43510316e+01 -2.55023242e+01 -2.66536167e+01 -2.78049093e+01\n",
      "  -2.89562018e+01 -3.01074944e+01 -3.12587869e+01]\n",
      " [-2.33430770e+01 -2.44467145e+01 -2.55503520e+01 -2.66539894e+01\n",
      "  -2.77576269e+01 -2.88612643e+01 -2.99649018e+01]\n",
      " [-2.24228866e+01 -2.34830184e+01 -2.45431501e+01 -2.56032819e+01\n",
      "  -2.66634137e+01 -2.77235454e+01 -2.87836772e+01]\n",
      " [-2.15763935e+01 -2.25965039e+01 -2.36166143e+01 -2.46367247e+01\n",
      "  -2.56568351e+01 -2.66769455e+01 -2.76970559e+01]\n",
      " [-2.07926632e+01 -2.17757196e+01 -2.27587761e+01 -2.37418325e+01\n",
      "  -2.47248889e+01 -2.57079453e+01 -2.66910018e+01]\n",
      " [-2.00630278e+01 -2.10115878e+01 -2.19601478e+01 -2.29087078e+01\n",
      "  -2.38572678e+01 -2.48058278e+01 -2.57543878e+01]\n",
      " [-1.93804995e+01 -2.02967902e+01 -2.12130809e+01 -2.21293717e+01\n",
      "  -2.30456624e+01 -2.39619531e+01 -2.48782439e+01]\n",
      " [-1.87393627e+01 -1.96253411e+01 -2.05113195e+01 -2.13972979e+01\n",
      "  -2.22832763e+01 -2.31692548e+01 -2.40552332e+01]\n",
      " [-1.81348828e+01 -1.89922820e+01 -1.98496812e+01 -2.07070804e+01\n",
      "  -2.15644796e+01 -2.24218789e+01 -2.32792781e+01]\n",
      " [-1.75630939e+01 -1.83934595e+01 -1.92238251e+01 -2.00541907e+01\n",
      "  -2.08845563e+01 -2.17149219e+01 -2.25452875e+01]\n",
      " [-1.70206407e+01 -1.78253596e+01 -1.86300786e+01 -1.94347976e+01\n",
      "  -2.02395165e+01 -2.10442355e+01 -2.18489544e+01]\n",
      " [-1.65046594e+01 -1.72849833e+01 -1.80653071e+01 -1.88456310e+01\n",
      "  -1.96259549e+01 -2.04062788e+01 -2.11866026e+01]\n",
      " [-1.60126861e+01 -1.67697500e+01 -1.75268138e+01 -1.82838777e+01\n",
      "  -1.90409416e+01 -1.97980054e+01 -2.05550693e+01]\n",
      " [-1.55425857e+01 -1.62774236e+01 -1.70122616e+01 -1.77470996e+01\n",
      "  -1.84819376e+01 -1.92167756e+01 -1.99516136e+01]\n",
      " [-1.50924957e+01 -1.58060538e+01 -1.65196120e+01 -1.72331702e+01\n",
      "  -1.79467284e+01 -1.86602865e+01 -1.93738447e+01]\n",
      " [-1.46607819e+01 -1.53539291e+01 -1.60470763e+01 -1.67402234e+01\n",
      "  -1.74333706e+01 -1.81265178e+01 -1.88196650e+01]\n",
      " [-1.42460025e+01 -1.49195393e+01 -1.55930762e+01 -1.62666130e+01\n",
      "  -1.69401498e+01 -1.76136866e+01 -1.82872235e+01]\n",
      " [-1.38468790e+01 -1.45015456e+01 -1.51562123e+01 -1.58108789e+01\n",
      "  -1.64655456e+01 -1.71202123e+01 -1.77748789e+01]\n",
      " [-1.34622723e+01 -1.40987551e+01 -1.47352379e+01 -1.53717208e+01\n",
      "  -1.60082036e+01 -1.66446865e+01 -1.72811693e+01]\n",
      " [-1.30911634e+01 -1.37101005e+01 -1.43290377e+01 -1.49479749e+01\n",
      "  -1.55669121e+01 -1.61858492e+01 -1.68047864e+01]\n",
      " [-1.27326369e+01 -1.33346233e+01 -1.39366097e+01 -1.45385961e+01\n",
      "  -1.51405825e+01 -1.57425689e+01 -1.63445553e+01]\n",
      " [-1.23858675e+01 -1.29714590e+01 -1.35570505e+01 -1.41426420e+01\n",
      "  -1.47282334e+01 -1.53138249e+01 -1.58994164e+01]\n",
      " [-1.20501085e+01 -1.26198257e+01 -1.31895428e+01 -1.37592600e+01\n",
      "  -1.43289771e+01 -1.48986942e+01 -1.54684114e+01]\n",
      " [-1.17246823e+01 -1.22790136e+01 -1.28333449e+01 -1.33876762e+01\n",
      "  -1.39420075e+01 -1.44963388e+01 -1.50506702e+01]\n",
      " [-1.14089717e+01 -1.19483765e+01 -1.24877814e+01 -1.30271862e+01\n",
      "  -1.35665910e+01 -1.41059959e+01 -1.46454007e+01]\n",
      " [-1.11024135e+01 -1.16273245e+01 -1.21522356e+01 -1.26771467e+01\n",
      "  -1.32020577e+01 -1.37269688e+01 -1.42518798e+01]\n",
      " [-1.08044918e+01 -1.13153175e+01 -1.18261431e+01 -1.23369687e+01\n",
      "  -1.28477943e+01 -1.33586200e+01 -1.38694456e+01]\n",
      " [-1.05147335e+01 -1.10118596e+01 -1.15089857e+01 -1.20061119e+01\n",
      "  -1.25032380e+01 -1.30003642e+01 -1.34974903e+01]\n",
      " [-1.02327029e+01 -1.07164949e+01 -1.12002870e+01 -1.16840790e+01\n",
      "  -1.21678710e+01 -1.26516630e+01 -1.31354550e+01]\n",
      " [-9.95799869e+00 -1.04288030e+01 -1.08996072e+01 -1.13704115e+01\n",
      "  -1.18412158e+01 -1.23120200e+01 -1.27828243e+01]\n",
      " [-9.69024974e+00 -1.01483951e+01 -1.06065405e+01 -1.10646858e+01\n",
      "  -1.15228312e+01 -1.19809766e+01 -1.24391219e+01]\n",
      " [-9.42911255e+00 -9.87491161e+00 -1.03207107e+01 -1.07665097e+01\n",
      "  -1.12123088e+01 -1.16581078e+01 -1.21039069e+01]\n",
      " [-9.17426845e+00 -9.60801873e+00 -1.00417690e+01 -1.04755193e+01\n",
      "  -1.09092696e+01 -1.13430199e+01 -1.17767701e+01]\n",
      " [-8.92542123e+00 -9.34740627e+00 -9.76939130e+00 -1.01913763e+01\n",
      "  -1.06133614e+01 -1.10353464e+01 -1.14573314e+01]\n",
      " [-8.68229515e+00 -9.09278543e+00 -9.50327570e+00 -9.91376598e+00\n",
      "  -1.03242563e+01 -1.07347465e+01 -1.11452368e+01]\n",
      " [-8.44463305e+00 -8.84388689e+00 -9.24314074e+00 -9.64239459e+00\n",
      "  -1.00416484e+01 -1.04409023e+01 -1.08401561e+01]\n",
      " [-8.21219471e+00 -8.60045910e+00 -8.98872350e+00 -9.37698789e+00\n",
      "  -9.76525229e+00 -1.01535167e+01 -1.05417811e+01]\n",
      " [-7.98475543e+00 -8.36226672e+00 -8.73977802e+00 -9.11728931e+00\n",
      "  -9.49480060e+00 -9.87231189e+00 -1.02498232e+01]\n",
      " [-7.76210471e+00 -8.12908930e+00 -8.49607389e+00 -8.86305847e+00\n",
      "  -9.23004306e+00 -9.59702765e+00 -9.96401224e+00]\n",
      " [-7.54404505e+00 -7.90072000e+00 -8.25739494e+00 -8.61406989e+00\n",
      "  -8.97074483e+00 -9.32741977e+00 -9.68409472e+00]\n",
      " [-7.33039095e+00 -7.67696454e+00 -8.02353813e+00 -8.37011172e+00\n",
      "  -8.71668531e+00 -9.06325890e+00 -9.40983249e+00]\n",
      " [-7.12096789e+00 -7.45764017e+00 -7.79431244e+00 -8.13098472e+00\n",
      "  -8.46765700e+00 -8.80432927e+00 -9.14100155e+00]\n",
      " [-6.91561156e+00 -7.24257479e+00 -7.56953803e+00 -7.89650126e+00\n",
      "  -8.22346450e+00 -8.55042773e+00 -8.87739096e+00]\n",
      " [-6.71416702e+00 -7.03160616e+00 -7.34904529e+00 -7.66648443e+00\n",
      "  -7.98392356e+00 -8.30136270e+00 -8.61880184e+00]\n",
      " [-6.51648802e+00 -6.82458109e+00 -7.13267416e+00 -7.44076723e+00\n",
      "  -7.74886030e+00 -8.05695337e+00 -8.36504644e+00]\n",
      " [-6.32243636e+00 -6.62135486e+00 -6.92027336e+00 -7.21919186e+00\n",
      "  -7.51811036e+00 -7.81702886e+00 -8.11594736e+00]\n",
      " [-6.13188132e+00 -6.42179057e+00 -6.71169981e+00 -7.00160906e+00\n",
      "  -7.29151831e+00 -7.58142756e+00 -7.87133680e+00]\n",
      " [-5.94469911e+00 -6.22575857e+00 -6.50681803e+00 -6.78787749e+00\n",
      "  -7.06893695e+00 -7.34999641e+00 -7.63105587e+00]\n",
      " [-5.76077241e+00 -6.03313600e+00 -6.30549959e+00 -6.57786317e+00\n",
      "  -6.85022676e+00 -7.12259035e+00 -7.39495394e+00]\n",
      " [-5.57998991e+00 -5.84380628e+00 -6.10762265e+00 -6.37143903e+00\n",
      "  -6.63525540e+00 -6.89907177e+00 -7.16288814e+00]\n",
      " [-5.40224592e+00 -5.65765873e+00 -5.91307154e+00 -6.16848435e+00\n",
      "  -6.42389717e+00 -6.67930998e+00 -6.93472279e+00]\n",
      " [-5.22743998e+00 -5.47458814e+00 -5.72173630e+00 -5.96888446e+00\n",
      "  -6.21603262e+00 -6.46318078e+00 -6.71032894e+00]\n",
      " [-5.05547654e+00 -5.29449444e+00 -5.53351234e+00 -5.77253024e+00\n",
      "  -6.01154814e+00 -6.25056604e+00 -6.48958394e+00]\n",
      " [-4.88626463e+00 -5.11728236e+00 -5.34830009e+00 -5.57931782e+00\n",
      "  -5.81033555e+00 -6.04135328e+00 -6.27237101e+00]\n",
      " [-4.71971758e+00 -4.94286113e+00 -5.16600469e+00 -5.38914824e+00\n",
      "  -5.61229179e+00 -5.83543534e+00 -6.05857889e+00]\n",
      " [-4.55575277e+00 -4.77114423e+00 -4.98653569e+00 -5.20192714e+00\n",
      "  -5.41731860e+00 -5.63271006e+00 -5.84810152e+00]\n",
      " [-4.39429133e+00 -4.60204905e+00 -4.80980678e+00 -5.01756450e+00\n",
      "  -5.22532222e+00 -5.43307994e+00 -5.64083766e+00]\n",
      " [-4.23525798e+00 -4.43549676e+00 -4.63573555e+00 -4.83597433e+00\n",
      "  -5.03621311e+00 -5.23645190e+00 -5.43669068e+00]\n",
      " [-4.07858076e+00 -4.27141200e+00 -4.46424324e+00 -4.65707449e+00\n",
      "  -4.84990573e+00 -5.04273697e+00 -5.23556821e+00]\n",
      " [-3.92419089e+00 -4.10972273e+00 -4.29525457e+00 -4.48078641e+00\n",
      "  -4.66631825e+00 -4.85185009e+00 -5.03738193e+00]\n",
      " [-3.77202253e+00 -3.95036000e+00 -4.12869747e+00 -4.30703494e+00\n",
      "  -4.48537241e+00 -4.66370989e+00 -4.84204736e+00]\n",
      " [-3.62201265e+00 -3.79325781e+00 -3.96450296e+00 -4.13574812e+00\n",
      "  -4.30699327e+00 -4.47823843e+00 -4.64948358e+00]\n",
      " [-3.47410089e+00 -3.63835293e+00 -3.80260496e+00 -3.96685699e+00\n",
      "  -4.13110903e+00 -4.29536106e+00 -4.45961309e+00]\n",
      " [-3.32822936e+00 -3.48558473e+00 -3.64294010e+00 -3.80029547e+00\n",
      "  -3.95765085e+00 -4.11500622e+00 -4.27236159e+00]\n",
      " [-3.18434253e+00 -3.33489508e+00 -3.48544762e+00 -3.63600017e+00\n",
      "  -3.78655271e+00 -3.93710526e+00 -4.08765781e+00]\n",
      " [-3.04238713e+00 -3.18622816e+00 -3.33006920e+00 -3.47391024e+00\n",
      "  -3.61775127e+00 -3.76159231e+00 -3.90543334e+00]\n",
      " [-2.90231198e+00 -3.03953041e+00 -3.17674883e+00 -3.31396725e+00\n",
      "  -3.45118568e+00 -3.58840410e+00 -3.72562252e+00]\n",
      " [-2.76406794e+00 -2.89475032e+00 -3.02543271e+00 -3.15611509e+00\n",
      "  -3.28679747e+00 -3.41747985e+00 -3.54816223e+00]\n",
      " [-2.62760774e+00 -2.75183842e+00 -2.87606910e+00 -3.00029978e+00\n",
      "  -3.12453046e+00 -3.24876114e+00 -3.37299182e+00]\n",
      " [-2.49288594e+00 -2.61074710e+00 -2.72860827e+00 -2.84646944e+00\n",
      "  -2.96433060e+00 -3.08219177e+00 -3.20005294e+00]\n",
      " [-2.35985879e+00 -2.47143057e+00 -2.58300234e+00 -2.69457412e+00\n",
      "  -2.80614589e+00 -2.91771767e+00 -3.02928945e+00]\n",
      " [-2.22848420e+00 -2.33384472e+00 -2.43920523e+00 -2.54456575e+00\n",
      "  -2.64992626e+00 -2.75528678e+00 -2.86064729e+00]\n",
      " [-2.09872161e+00 -2.19794708e+00 -2.29717255e+00 -2.39639801e+00\n",
      "  -2.49562348e+00 -2.59484895e+00 -2.69407442e+00]\n",
      " [-1.97053193e+00 -2.06369672e+00 -2.15686151e+00 -2.25002630e+00\n",
      "  -2.34319109e+00 -2.43635588e+00 -2.52952067e+00]\n",
      " [-1.84387750e+00 -1.93105419e+00 -2.01823089e+00 -2.10540758e+00\n",
      "  -2.19258427e+00 -2.27976097e+00 -2.36693766e+00]\n",
      " [-1.71872197e+00 -1.79998144e+00 -1.88124090e+00 -1.96250037e+00\n",
      "  -2.04375983e+00 -2.12501930e+00 -2.20627876e+00]\n",
      " [-1.59503029e+00 -1.67044173e+00 -1.74585318e+00 -1.82126462e+00\n",
      "  -1.89667606e+00 -1.97208751e+00 -2.04749895e+00]\n",
      " [-1.47276859e+00 -1.54239963e+00 -1.61203066e+00 -1.68166169e+00\n",
      "  -1.75129273e+00 -1.82092376e+00 -1.89055479e+00]\n",
      " [-1.35190421e+00 -1.41582089e+00 -1.47973758e+00 -1.54365426e+00\n",
      "  -1.60757095e+00 -1.67148764e+00 -1.73540432e+00]\n",
      " [-1.23240555e+00 -1.29067246e+00 -1.34893937e+00 -1.40720627e+00\n",
      "  -1.46547318e+00 -1.52374009e+00 -1.58200700e+00]\n",
      " [-1.11424210e+00 -1.16692236e+00 -1.21960262e+00 -1.27228287e+00\n",
      "  -1.32496313e+00 -1.37764339e+00 -1.43032365e+00]\n",
      " [-9.97384351e-01 -1.04453969e+00 -1.09169503e+00 -1.13885037e+00\n",
      "  -1.18600571e+00 -1.23316105e+00 -1.28031639e+00]\n",
      " [-8.81803762e-01 -9.23494566e-01 -9.65185371e-01 -1.00687618e+00\n",
      "  -1.04856698e+00 -1.09025778e+00 -1.13194859e+00]\n",
      " [-7.67472717e-01 -8.03758063e-01 -8.40043409e-01 -8.76328756e-01\n",
      "  -9.12614102e-01 -9.48899449e-01 -9.85184795e-01]\n",
      " [-6.54364487e-01 -6.85302189e-01 -7.16239891e-01 -7.47177592e-01\n",
      "  -7.78115294e-01 -8.09052996e-01 -8.39990698e-01]\n",
      " [-5.42453192e-01 -5.68099839e-01 -5.93746487e-01 -6.19393134e-01\n",
      "  -6.45039781e-01 -6.70686428e-01 -6.96333075e-01]\n",
      " [-4.31713765e-01 -4.52124762e-01 -4.72535759e-01 -4.92946757e-01\n",
      "  -5.13357754e-01 -5.33768751e-01 -5.54179749e-01]\n",
      " [-3.22121917e-01 -3.37351521e-01 -3.52581125e-01 -3.67810728e-01\n",
      "  -3.83040332e-01 -3.98269936e-01 -4.13499540e-01]\n",
      " [-2.13654108e-01 -2.23755462e-01 -2.33856816e-01 -2.43958169e-01\n",
      "  -2.54059523e-01 -2.64160877e-01 -2.74262230e-01]\n",
      " [-1.06287514e-01 -1.11312682e-01 -1.16337850e-01 -1.21363018e-01\n",
      "  -1.26388186e-01 -1.31413354e-01 -1.36438522e-01]]\n"
     ]
    }
   ],
   "source": [
    "V_T_minus_1_ex = V_T_minus_1 @ probs\n",
    "V_T_minus_1_ex = np.tile(V_T_minus_1_ex, (1, N))\n",
    "V_T_minus_1_ex[cond] = - 100\n",
    "V_T_minus_1_ex = np.tile(V_T_minus_1_ex, (M, 1, 1))\n",
    "\n",
    "u_values = np.log(c)\n",
    "eps_u = np.asarray([u_values * eps for eps in epsilons])\n",
    "\n",
    "V_values = eps_u + beta * V_T_minus_1_ex\n",
    "V_T_minus_2 = np.max(V_values, axis=2).transpose()\n",
    "index = np.argmax(V_values, axis=2)\n",
    "print(\"The policy function:\")\n",
    "print(W[index])\n",
    "print(\"The value function:\")\n",
    "print(V_T_minus_2)"
   ]
  },
  {
   "cell_type": "code",
   "execution_count": 372,
   "metadata": {},
   "outputs": [
    {
     "name": "stdout",
     "output_type": "stream",
     "text": [
      "The distance is 52535.341389860754\n"
     ]
    }
   ],
   "source": [
    "distance_inf_3 = np.sum((V_T_minus_2 - V_T_minus_1) * (V_T_minus_2 - V_T_minus_1))\n",
    "print(\"The distance is\", distance_inf_3)"
   ]
  },
  {
   "cell_type": "markdown",
   "metadata": {},
   "source": [
    "Although $\\delta_{T-2} > \\delta_{T-1}$, $\\delta_{T-2}$ is much smaller than $\\delta_{T}$."
   ]
  },
  {
   "cell_type": "markdown",
   "metadata": {},
   "source": [
    "### Exercise 21"
   ]
  },
  {
   "cell_type": "code",
   "execution_count": 373,
   "metadata": {},
   "outputs": [
    {
     "name": "stdout",
     "output_type": "stream",
     "text": [
      "When s = 17 , the distance is significantly small.\n"
     ]
    }
   ],
   "source": [
    "V_next = np.zeros((N, M))\n",
    "s = 0\n",
    "distance = 1\n",
    "u_values = np.log(c)\n",
    "eps_u = np.asarray([u_values * eps for eps in epsilons])\n",
    "\n",
    "while distance >= 10 ** (-9):\n",
    "    V_next_ex = V_next @ probs\n",
    "    V_next_ex = np.tile(V_next_ex, (1, N))\n",
    "    V_next_ex[cond] = -100 \n",
    "    V_next_ex = np.tile(V_next_ex, (M, 1, 1))\n",
    "    V_values = eps_u + beta * V_next_ex\n",
    "    V_max = np.max(V_values, axis=2).transpose()\n",
    "    distance = np.sum((V_max - V_next) * (V_max - V_next))\n",
    "    index = np.argmax(V_values, axis=2)\n",
    "    W_next = W[index]\n",
    "    V_next = V_max.copy()\n",
    "    s += 1\n",
    "print(\"When s =\", s, \", the distance is significantly small.\")"
   ]
  },
  {
   "cell_type": "markdown",
   "metadata": {},
   "source": [
    "### Exercise 22"
   ]
  },
  {
   "cell_type": "code",
   "execution_count": 375,
   "metadata": {},
   "outputs": [
    {
     "data": {
      "image/png": "[encoded data removed]",
      "text/plain": [
       "<Figure size 432x288 with 1 Axes>"
      ]
     },
     "metadata": {
      "needs_background": "light"
     },
     "output_type": "display_data"
    }
   ],
   "source": [
    "from mpl_toolkits.mplot3d import Axes3D\n",
    "\n",
    "fig = plt.figure()\n",
    "ax = Axes3D(fig)\n",
    "\n",
    "w_min = 0.01\n",
    "w_max = 1\n",
    "N = 100\n",
    "W = np.linspace(w_min, w_max, N)\n",
    "\n",
    "W, eps = np.meshgrid(W, epsilons)\n",
    "ax.plot_surface(W, eps, W_next)\n",
    "ax.set_xlabel(\"W\")\n",
    "ax.set_ylabel(\"Shock\")\n",
    "ax.set_zlabel(\"W'\")\n",
    "ax.view_init(30, 120)"
   ]
  }
 ],
 "metadata": {
  "kernelspec": {
   "display_name": "Python 3",
   "language": "python",
   "name": "python3"
  },
  "language_info": {
   "codemirror_mode": {
    "name": "ipython",
    "version": 3
   },
   "file_extension": ".py",
   "mimetype": "text/x-python",
   "name": "python",
   "nbconvert_exporter": "python",
   "pygments_lexer": "ipython3",
   "version": "3.7.4"
  }
 },
 "nbformat": 4,
 "nbformat_minor": 2
}
